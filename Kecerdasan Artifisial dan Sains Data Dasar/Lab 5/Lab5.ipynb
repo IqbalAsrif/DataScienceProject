{
  "cells": [
    {
      "cell_type": "markdown",
      "metadata": {
        "id": "2fcPoOi4r0bI"
      },
      "source": [
        "<center>\n",
        "<img src=\"https://drive.google.com/uc?id=1f1gGVI-rxcHjA90WEGNvvtSXF1pAxQwg\" alt=\"Fasilkom UI\" width=\"300\"/>\n",
        "\n",
        "CSGE603130 • Kecerdasan Artifisial dan Sains Data Dasar\n",
        "\n",
        "Semester Ganjil 2022/2023\n",
        "\n",
        "Fakultas Ilmu Komputer, Universitas Indonesia\n",
        "\n",
        "##**Lab *5*: *Naive Bayes & KNN Classification***\n",
        "\n",
        "###**Tenggat Waktu: 5 November 2022, 23.55 WIB**\n",
        "</center>\n",
        "\n",
        "####**Ketentuan:**\n",
        "\n",
        "1. Dokumen *template* lab dengan format .ipynb dan dataset (jika dibutuhkan) telah disediakan di SCeLe\n",
        "2. Jalankan kode pada dokumen .ipynb dan perhatikan dengan saksama apa yang potongan kode tersebut lakukan beserta dengan keluarannya. Jawablah **pertanyaan yang disisipkan** pada potongan program yang diberikan.\n",
        "3. Dokumen Jupyter Notebook yang telah dilengkapi dengan jawaban dikumpulkan dengan format penamaan **Kelas_Lab5_NPM_Nama.ipynb**. Contoh: A_Lab5_2106123456_Budi.ipynb\n",
        "4. Kumpulkan dokumen tersebut pada submisi yang telah disediakan di SCeLe sesuai dengan kelas masing-masing sebelum **5 November 2022, 23.55 WIB**. Keterlambatan pengumpulan akan dikenakan pinalti.\n",
        "5. Lab ini dirancang sebagai **tugas mandiri**. Plagiarisme tidak diperkenankan dalam bentuk apapun. Adapun kolaborasi berupa diskusi (tanpa menyalin maupun mengambil jawaban orang lain) dan literasi masih diperbolehkan dengan mencantumkan kolaborator dan sumber."
      ]
    },
    {
      "cell_type": "markdown",
      "metadata": {
        "id": "RRfYzVh0sjsp"
      },
      "source": [
        "# **Pertanyataan Integritas**"
      ]
    },
    {
      "cell_type": "code",
      "execution_count": 1,
      "metadata": {
        "id": "2UH4l5Thst1I"
      },
      "outputs": [],
      "source": [
        "# Isi dengan data diri Anda\n",
        "NAMA = \"Muhammad Iqbal Asrif\"\n",
        "KELAS = \"B\"\n",
        "NPM = \"2006473945\"\n",
        "\n",
        "# Isi dengan NPM teman yang berdiskusi dengan Anda\n",
        "KOLABORATOR = []\n",
        "\n",
        "# Isi dengan sumber referensi yang Anda gunakan dalam mengerjakan\n",
        "REFERENSI = []"
      ]
    },
    {
      "cell_type": "code",
      "execution_count": 2,
      "metadata": {
        "colab": {
          "base_uri": "https://localhost:8080/"
        },
        "id": "8XPGS-Yus9Xu",
        "outputId": "b25577b9-5d5a-4200-e189-7e6c46c735d0"
      },
      "outputs": [
        {
          "name": "stdout",
          "output_type": "stream",
          "text": [
            "Saya, Muhammad Iqbal Asrif dari kelas B dengan NPM 2006473945, menyatakan bahwa seluruh jawaban pada pekerjaan ini murni saya kerjakan sendiri.\n",
            "Saya tidak mencontek jawaban, memberikan jawaban, maupun menyalin dari sumber manapun.\n",
            " \n",
            "Jika saya melanggar pernyataan tersebut, saya siap menerima konsekuensi apapun yang diberikan.\n",
            "   (Muhammad Iqbal Asrif)\n"
          ]
        }
      ],
      "source": [
        "PERNYATAAN_INTEGRITAS = \"Saya, %s dari kelas %s dengan NPM %s, menyatakan bahwa seluruh jawaban pada pekerjaan ini murni saya kerjakan sendiri.\\n\\\n",
        "Saya tidak mencontek jawaban, memberikan jawaban, maupun menyalin dari sumber manapun.\\n \\\n",
        "\\n\\\n",
        "Jika saya melanggar pernyataan tersebut, saya siap menerima konsekuensi apapun yang diberikan.\\n   \\\n",
        "(%s)\" % (NAMA, KELAS, NPM, NAMA)\n",
        "\n",
        "print(PERNYATAAN_INTEGRITAS)"
      ]
    },
    {
      "cell_type": "markdown",
      "metadata": {
        "id": "OoeNCIyatBOJ"
      },
      "source": [
        "# Naive Bayes"
      ]
    },
    {
      "cell_type": "markdown",
      "metadata": {
        "id": "LVA8WqtstJU3"
      },
      "source": [
        "## A. Pengenalan Naive Bayes"
      ]
    },
    {
      "cell_type": "markdown",
      "metadata": {
        "id": "dQf9aXTFtU5p"
      },
      "source": [
        "Tugas Anda kali ini adalah mengimplementasi Naive Bayes Classifier dan melakukan pengukuran kinerja model. Mari kita sekilas mempelajari tentang Naive Bayes Classifier terlebih dahulu.\n",
        "\n",
        "\n"
      ]
    },
    {
      "cell_type": "markdown",
      "metadata": {
        "id": "NdEHVQ7ptYjv"
      },
      "source": [
        " Algoritma Naive Bayes memprediksi peluang di masa depan berdasarkan pengalaman di masa sebelumnya sehingga dikenal sebagai Teorema Bayes. Ciri utama dari Naive Bayes Classifier ini adalah asumsi yg sangat kuat akan independensi dari masing-masing kondisi/kejadian."
      ]
    },
    {
      "cell_type": "markdown",
      "metadata": {
        "id": "AnMwH1ZFtoBd"
      },
      "source": [
        "Bayangkan bahwa Anda ingin membentuk classifier yang memprediksi golongan darah seseorang (A? B? AB? atau O?) berdasarkan sifat karakter seseorang (arogan? perhatian? teliti? cerdas? sabar?). Anda akan membentuk sebuah kuesioner kepribadian dan memberikan kuesioner tersebut ke orang-orang. Kuesioner tersebut dikumpulkan untuk menghasilkan sebuah dataset. Anggaplah\n",
        "bahwa Kak Lulu mengatakan kepada Anda bahwa dia adalah orang yang perhatian, cerdas, teliti, dan sabar. Bisakah Anda memanfaatkan informasi dari kuesioner yang Anda kumpulkan untuk memprediksi golongan darah Kak Lulu?.\n",
        "\n",
        "Salah satu cara untuk memprediksi golongan darah Kak Lulu adalah dengan menggunakan teorema Naive Bayes. Jika saya ingin menghitung peluang golongan darah Kak Lulu adalah O karena diketahui Kak Lulu adalah orang yang perhatian, rumus probabilitas yang dapat digunakan adalah Bayes Rule yang ditunjukkan di bawah ini.\n",
        "\n",
        "\n",
        "\n"
      ]
    },
    {
      "cell_type": "markdown",
      "metadata": {
        "id": "igWL4cFz6OLB"
      },
      "source": [
        "$$\n",
        "p(O \\mid \\text{perhatian}) = \\frac{p(\\text{perhatian} \\mid O)p(O)}{\\sum_{O'} p(O')p(\\text{perhatian} \\mid O')} \n",
        "$$"
      ]
    },
    {
      "cell_type": "markdown",
      "metadata": {
        "id": "BdvBk2GNtihQ"
      },
      "source": [
        "Ketiga nilai tersebut bisa dihitung berdasarkan data yang dikumpulkan dari kuesioner. Umumnya, kita\n",
        "tidak hanya menghitung P(O | perhatian), tetapi juga menghitung P(A | perhatian) , P(B | perhatian), dan P(AB | perhatian). Setelah kita hitung empat-empatnya, golongan darah yang peluangnya paling besar itulah yang kita\n",
        "prediksi sebagai golongan darah Kak Lulu."
      ]
    },
    {
      "cell_type": "markdown",
      "metadata": {
        "id": "hR5zNq08trhg"
      },
      "source": [
        "Namun, peneliti biasanya ingin rumus yang jumlah variabelnya sedikit mungkin. Kalau kita pikirkan lebih lanjut, penyebut dari p(O|perhatian) dibagi oleh p(perhatian). Sama halnya, p(A | perhatian), p(B | perhatian), dan P(AB | perhatian) juga dibagi dengan p(perhatian) seperti yang dapat dilihat pada rumus-rumus di bawah ini.\n"
      ]
    },
    {
      "cell_type": "markdown",
      "metadata": {
        "id": "4SBV9oPStuLi"
      },
      "source": [
        "![image.png](data:image/png;base64,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)"
      ]
    },
    {
      "cell_type": "markdown",
      "metadata": {
        "id": "A1PggWJ_txvF"
      },
      "source": [
        "Jika keempat variabel memiliki pembagi yang sama, bukankah ini artinya urutan nilai P(A|perhatian),\n",
        "P(B|perhatian) , P(AB|perhatian), dan P(O|perhatian) dari yang terbesar sampai yang terkecil tidak akan berubah meskipun penyebutnya (p(perhatian)) dicoret? Sehingga kita tidak perlu untuk menghitung nilai dari p(perhatian)."
      ]
    },
    {
      "cell_type": "markdown",
      "metadata": {
        "id": "02u2HvFL62Cy"
      },
      "source": [
        "$$\n",
        "p(O \\mid \\text{perhatian}) ∝ p(\\text{perhatian}\\mid O) p(O)\n",
        "$$"
      ]
    },
    {
      "cell_type": "markdown",
      "metadata": {
        "id": "idHbpbAU_d2Z"
      },
      "source": [
        "Perhatikan rumus di atas (rumus ketika pembagian dengan P(perhatian) dihilangkan).\n",
        "Nilai ini hanya menghitung probabilitas mempunyai golongan darah O bila hanya faktor bahwa Kak Lulu itu perhatian diperhitungkan. Bagaimana faktor seperti cerdas, sabar, teliti, atau sifat\n",
        "seseorang lainnya? Secara matematis, kita bisa membuatnya menjadi seperti ini.\n"
      ]
    },
    {
      "cell_type": "markdown",
      "metadata": {
        "id": "LHkU4NM0bltk"
      },
      "source": [
        "\\begin{align}\n",
        "p(O \\mid P,T,S,C) &\\propto p(O)p(P,T,S,C\\mid O) \n",
        "\\end{align}\n"
      ]
    },
    {
      "cell_type": "markdown",
      "metadata": {
        "id": "ckqREZ9U_okg"
      },
      "source": [
        "Keterangan : \n",
        "*   T: teliti\n",
        "*   C: cerdas\n",
        "*   S: Sabar\n",
        "*   P: perhatian\n",
        "*   O: golongan darah O\n",
        "\n",
        "\n",
        "\n",
        "\n"
      ]
    },
    {
      "cell_type": "markdown",
      "metadata": {
        "id": "VcodVl_q_rBZ"
      },
      "source": [
        "Untungnya, dalam konteks Naive Bayes Classifier, kita dapat mengasumsikan bahwa faktor seperti\n",
        "teliti, cerdas, dan sebagainya saling conditionally independent atau independensi bersyarat. Artinya, rumus di atas bisa disimplifikasi sebagai berikut:"
      ]
    },
    {
      "cell_type": "markdown",
      "metadata": {
        "id": "CyCQRKGX9PME"
      },
      "source": [
        "\\begin{align}\n",
        "p(P,T,S,C \\mid O) = p(P\\mid O) p(T \\mid O) p(S \\mid O) p(C \\mid O)\n",
        "\\end{align}\n",
        "\n",
        "Dengan demikian, berlaku bahwa\n",
        "\n",
        "\n",
        "\\begin{align}\n",
        "p(O \\mid P,T,S,C) &\\propto p(O) p(P,T,S,C \\mid O) \\\\\n",
        "&= p(O) p(P\\mid O)  p(T \\mid O) p(S \\mid O) p(C \\mid O)\n",
        "\\end{align}"
      ]
    },
    {
      "cell_type": "markdown",
      "metadata": {
        "id": "cFTRdQ9n_wFJ"
      },
      "source": [
        "## B. Pengenalan Naive Bayes Dalam Sckitlearn"
      ]
    },
    {
      "cell_type": "markdown",
      "metadata": {
        "id": "E7LUfG6r_02V"
      },
      "source": [
        "Scikit-learn menyediakan beberapa variasi model naive bayes yang dapat digunakan, antara lain"
      ]
    },
    {
      "cell_type": "markdown",
      "metadata": {
        "id": "brciYt79_5fK"
      },
      "source": [
        "\n",
        "| Nama Model | Nama Modul | \n",
        "| ----------- | --------- |\n",
        "| Gaussian Naive Bayes | `sklearn.naive_bayes.GaussianNB` | \n",
        "| Multinomial Naive Bayes | `sklearn.naive_bayes.MultinomialNB` |\n",
        "| Complement Naive Bayes | `sklearn.naive_bayes.ComplementNB` |\n",
        "| Bernoulli Naive Bayes | `sklearn.naive_bayes.BernoulliNB` |\n",
        "| Categorical Naive Bayes | `sklearn.naive_bayes.CategoricalNB` |\n",
        "\n",
        "Adapun kegunaan masing-masing model antara lain:\n",
        "- Gaussian Naive Bayes,\n",
        "Model ini cocok digunakan untuk  data numerik yang mengikuti distribusi gausian dan kontinu. \n",
        "\n",
        "- Multinomial Naive Bayes,\n",
        "Asumsi data yang digunakan memiliki distribusi multinomial sederhana. Distribusi multinomial menggambarkan probabilitas dari jumlah data pada sejumlah kategori sehingga model naive bayes ini cocok digunakan pada fitur yang merepresentasikan jumlah maupun laju pertambahan. Contohnya yaitu pada klasifikasi text dimana fitur-fitur yang ada berkaitan dengan frekuensi kata pada dokumen yang ingin diklasifikasikan.\n",
        "\n",
        "- Complement,\n",
        "Complement naive bayes mirip seperti multinomial naive bayes. Model ini ada karena model multinomial naive bayes tidak memiliki performa yang baik untuk dataset yang imbalanced dimana distribusi data tidak uniform. Akibatnya model tersebut data dengan mudah overfiting mengikuti data yang jumlahnya jauh lebih banyak. Model complement naive bayes ini cocok digunakan untuk dataset yang imbalanced. \n",
        "https://towardsdatascience.com/comparing-a-variety-of-naive-bayes-classification-algorithms-fc5fa298379e\n",
        "\n",
        "- Bernoulli Naive Bayes,\n",
        "Bernouli mirip seperti multinomial namun data memiliki bentuk yang diskret dan terdistribusi dalam bentuk binary misalnya pada data gender, binary hot encoding, dll. https://iq.opengenus.org/bernoulli-naive-bayes/\n",
        "\n",
        "- Categorical Naive Bayes,\n",
        "Model naive bayes untuk tipe data yang nilainya terdistribusi secara kategorikal. Jika data-data yang dimiliki bersifat kontinu maka harus ditransformasikan dalam bentuk diskret terlebih dahulu untuk menggunakan model ini. Misalnya yaitu data warna mata, ras, golongan darah, dll.\n",
        "https://inblog.in/Categorical-Naive-Bayes-Classifier-implementation-in-Python-dAVqLWkf7E\n",
        "\n",
        "\n",
        "Selengkapnya dapat dilihat pada dokumentais modul [sklearn.naive_bayes](https://scikit-learn.org/stable/modules/naive_bayes.html)."
      ]
    },
    {
      "cell_type": "markdown",
      "metadata": {
        "id": "mOvY4172_8kL"
      },
      "source": [
        "## C. Hand On Naive Bayes"
      ]
    },
    {
      "cell_type": "markdown",
      "metadata": {
        "id": "CfTbPOEOAF2O"
      },
      "source": [
        "Dataset didalam example.csv berisi tentang informasi dilakukannya operasi caesar atau tidak dari 80 ibu hamil dengan karakteristik masalah persalinan yang penting di bidang medis.\n",
        "\n",
        "Informasi dataset:\n",
        "\n",
        "`Age` = Umur\n",
        "\n",
        "`Delivery No` = Status (Tepat waktu, prematur, terlambat)\n",
        "\n",
        "`Blood of Pressure` = Tekanan Darah (rendah, normal, tinggi)\n",
        "\n",
        "`Heart Problem` = Memiliki masalah penyakit jantung (apt, inept)\n",
        "\n",
        "`Cesarian` = Dilakukan operasi caesar (ya, tidak)\n",
        "\n",
        "Sumber dataset : https://www.kaggle.com/amir75/caesarean-section-classification\n"
      ]
    },
    {
      "cell_type": "markdown",
      "metadata": {
        "id": "pJgBP9LXAKfB"
      },
      "source": [
        "### Import Dataset"
      ]
    },
    {
      "cell_type": "code",
      "execution_count": 3,
      "metadata": {
        "id": "goGQyzw1AMJs",
        "outputId": "1f28d90e-5875-46e4-f960-f1a707e1a3d7"
      },
      "outputs": [
        {
          "data": {
            "text/html": [
              "<div>\n",
              "<style scoped>\n",
              "    .dataframe tbody tr th:only-of-type {\n",
              "        vertical-align: middle;\n",
              "    }\n",
              "\n",
              "    .dataframe tbody tr th {\n",
              "        vertical-align: top;\n",
              "    }\n",
              "\n",
              "    .dataframe thead th {\n",
              "        text-align: right;\n",
              "    }\n",
              "</style>\n",
              "<table border=\"1\" class=\"dataframe\">\n",
              "  <thead>\n",
              "    <tr style=\"text-align: right;\">\n",
              "      <th></th>\n",
              "      <th>Age</th>\n",
              "      <th>Delivery No</th>\n",
              "      <th>Blood of Pressure</th>\n",
              "      <th>Heart Problem</th>\n",
              "      <th>Caesarian</th>\n",
              "    </tr>\n",
              "  </thead>\n",
              "  <tbody>\n",
              "    <tr>\n",
              "      <th>0</th>\n",
              "      <td>22</td>\n",
              "      <td>Timely</td>\n",
              "      <td>High</td>\n",
              "      <td>apt</td>\n",
              "      <td>No</td>\n",
              "    </tr>\n",
              "    <tr>\n",
              "      <th>1</th>\n",
              "      <td>26</td>\n",
              "      <td>Timely</td>\n",
              "      <td>Normal</td>\n",
              "      <td>apt</td>\n",
              "      <td>Yes</td>\n",
              "    </tr>\n",
              "    <tr>\n",
              "      <th>2</th>\n",
              "      <td>26</td>\n",
              "      <td>Premature</td>\n",
              "      <td>Normal</td>\n",
              "      <td>apt</td>\n",
              "      <td>No</td>\n",
              "    </tr>\n",
              "    <tr>\n",
              "      <th>3</th>\n",
              "      <td>28</td>\n",
              "      <td>Timely</td>\n",
              "      <td>High</td>\n",
              "      <td>apt</td>\n",
              "      <td>No</td>\n",
              "    </tr>\n",
              "    <tr>\n",
              "      <th>4</th>\n",
              "      <td>22</td>\n",
              "      <td>Timely</td>\n",
              "      <td>Normal</td>\n",
              "      <td>apt</td>\n",
              "      <td>Yes</td>\n",
              "    </tr>\n",
              "  </tbody>\n",
              "</table>\n",
              "</div>"
            ],
            "text/plain": [
              "   Age Delivery No Blood of Pressure Heart Problem Caesarian\n",
              "0   22      Timely              High           apt        No\n",
              "1   26      Timely            Normal           apt       Yes\n",
              "2   26   Premature            Normal           apt        No\n",
              "3   28      Timely              High           apt        No\n",
              "4   22      Timely            Normal           apt       Yes"
            ]
          },
          "execution_count": 3,
          "metadata": {},
          "output_type": "execute_result"
        }
      ],
      "source": [
        "# import library dan data\n",
        "import pandas as pd\n",
        "import numpy as np\n",
        "caesarian = pd.read_csv(\"example.csv\")\n",
        "caesarian.head()"
      ]
    },
    {
      "cell_type": "code",
      "execution_count": 4,
      "metadata": {
        "id": "kWK5UxVOVbXG",
        "outputId": "819f6bb5-e389-4d99-9cb4-f43090c4191b"
      },
      "outputs": [
        {
          "name": "stdout",
          "output_type": "stream",
          "text": [
            "No. of unique values in column Delivery No:\n",
            "Timely       46\n",
            "Premature    17\n",
            "Latecomer    17\n",
            "Name: Delivery No, dtype: int64 \n",
            "\n",
            "No. of unique values in column Blood of Pressure:\n",
            "Normal    40\n",
            "High      20\n",
            "Low       20\n",
            "Name: Blood of Pressure, dtype: int64 \n",
            "\n",
            "No. of unique values in column Heart Problem:\n",
            "apt      50\n",
            "inept    30\n",
            "Name: Heart Problem, dtype: int64 \n",
            "\n",
            "No. of unique values in column Caesarian:\n",
            "Yes    46\n",
            "No     34\n",
            "Name: Caesarian, dtype: int64 \n",
            "\n"
          ]
        }
      ],
      "source": [
        "#Mencari jumlah nilai unik pada kolom yang bertipe kategorik \n",
        "\n",
        "for col in caesarian.select_dtypes(include=object).columns:\n",
        "    print('No. of unique values in column '+col+':')\n",
        "    print(caesarian[col].value_counts(),'\\n')"
      ]
    },
    {
      "cell_type": "markdown",
      "metadata": {
        "id": "AJfJdwxLVbXG"
      },
      "source": [
        "### Independent Variable dan Dependent Variable\n",
        "\n",
        "Pada langkah ini, kita akan menentukan variabel yang menjadi variabel independen dan dependen. Variabel dependen akan menjadi target sedangkan variabel independen akan menjadi fitur. Variabel caesarian menjadi variabel dependen dan variabel lainnya menjadi variabel independen. "
      ]
    },
    {
      "cell_type": "markdown",
      "metadata": {
        "id": "KDW1Rz_AVbXG"
      },
      "source": [
        "Karena data yang diberikan bertipe kategorik, maka kita perlu melakukan transformasi supaya data dapat diolah oleh mesin. Ada beberapa teknik transformasi yang dapat dilakukan, diantaranya : <br>\n",
        "* One hot encoding\n",
        "* Label encoding (Natural Progression)\n",
        "* Vector encoding\n",
        "* etc\n"
      ]
    },
    {
      "cell_type": "markdown",
      "metadata": {
        "id": "IWOiUPAmVbXG"
      },
      "source": [
        "Teknik-teknik, memiliki kelebihan dan kelemahannya masing-masing (teman-teman mungkin bisa membacanya di internet terkait kelebihan dan kekurangan ketiga teknik tersebut). Pada sesi tutorial ini, kita akan menggunakan teknik one hot encoding. <br><br>\n",
        "Referensi apa itu one-hot encoding : <br>\n",
        "https://hackernoon.com/what-is-one-hot-encoding-why-and-when-do-you-have-to-use-it-e3c6186d008f"
      ]
    },
    {
      "cell_type": "code",
      "execution_count": 5,
      "metadata": {
        "id": "XneC2vBAVbXH",
        "outputId": "722b5ab3-fa84-4540-a1ea-22247f7df927"
      },
      "outputs": [
        {
          "data": {
            "text/html": [
              "<div>\n",
              "<style scoped>\n",
              "    .dataframe tbody tr th:only-of-type {\n",
              "        vertical-align: middle;\n",
              "    }\n",
              "\n",
              "    .dataframe tbody tr th {\n",
              "        vertical-align: top;\n",
              "    }\n",
              "\n",
              "    .dataframe thead th {\n",
              "        text-align: right;\n",
              "    }\n",
              "</style>\n",
              "<table border=\"1\" class=\"dataframe\">\n",
              "  <thead>\n",
              "    <tr style=\"text-align: right;\">\n",
              "      <th></th>\n",
              "      <th>Age</th>\n",
              "      <th>Delivery No_Premature</th>\n",
              "      <th>Delivery No_Timely</th>\n",
              "      <th>Blood of Pressure_Low</th>\n",
              "      <th>Blood of Pressure_Normal</th>\n",
              "      <th>Heart Problem_inept</th>\n",
              "      <th>Caesarian_Yes</th>\n",
              "    </tr>\n",
              "  </thead>\n",
              "  <tbody>\n",
              "    <tr>\n",
              "      <th>0</th>\n",
              "      <td>22</td>\n",
              "      <td>0</td>\n",
              "      <td>1</td>\n",
              "      <td>0</td>\n",
              "      <td>0</td>\n",
              "      <td>0</td>\n",
              "      <td>0</td>\n",
              "    </tr>\n",
              "    <tr>\n",
              "      <th>1</th>\n",
              "      <td>26</td>\n",
              "      <td>0</td>\n",
              "      <td>1</td>\n",
              "      <td>0</td>\n",
              "      <td>1</td>\n",
              "      <td>0</td>\n",
              "      <td>1</td>\n",
              "    </tr>\n",
              "    <tr>\n",
              "      <th>2</th>\n",
              "      <td>26</td>\n",
              "      <td>1</td>\n",
              "      <td>0</td>\n",
              "      <td>0</td>\n",
              "      <td>1</td>\n",
              "      <td>0</td>\n",
              "      <td>0</td>\n",
              "    </tr>\n",
              "    <tr>\n",
              "      <th>3</th>\n",
              "      <td>28</td>\n",
              "      <td>0</td>\n",
              "      <td>1</td>\n",
              "      <td>0</td>\n",
              "      <td>0</td>\n",
              "      <td>0</td>\n",
              "      <td>0</td>\n",
              "    </tr>\n",
              "    <tr>\n",
              "      <th>4</th>\n",
              "      <td>22</td>\n",
              "      <td>0</td>\n",
              "      <td>1</td>\n",
              "      <td>0</td>\n",
              "      <td>1</td>\n",
              "      <td>0</td>\n",
              "      <td>1</td>\n",
              "    </tr>\n",
              "  </tbody>\n",
              "</table>\n",
              "</div>"
            ],
            "text/plain": [
              "   Age  Delivery No_Premature  Delivery No_Timely  Blood of Pressure_Low  \\\n",
              "0   22                      0                   1                      0   \n",
              "1   26                      0                   1                      0   \n",
              "2   26                      1                   0                      0   \n",
              "3   28                      0                   1                      0   \n",
              "4   22                      0                   1                      0   \n",
              "\n",
              "   Blood of Pressure_Normal  Heart Problem_inept  Caesarian_Yes  \n",
              "0                         0                    0              0  \n",
              "1                         1                    0              1  \n",
              "2                         1                    0              0  \n",
              "3                         0                    0              0  \n",
              "4                         1                    0              1  "
            ]
          },
          "execution_count": 5,
          "metadata": {},
          "output_type": "execute_result"
        }
      ],
      "source": [
        "# Proses Encoding menggunakan One-Hot encoding\n",
        "\n",
        "df_dummy = pd.get_dummies(caesarian,drop_first=True)\n",
        "df_dummy.head()"
      ]
    },
    {
      "cell_type": "markdown",
      "metadata": {
        "id": "SH2su-x7VbXH"
      },
      "source": [
        "<b><i> Pemicu : </i></b><br>\n",
        "Kenapa kita buang fitur pertama dari setiap kolom setelah kita melakukan one-hot encoding? Jika teman-teman baca kembali pada penjelasan naive bayes, naive bayes memegang asumsi yang kuat <b>bahwa</b> setiap fitur independen satu sama lain. Setelah kita melakukan transformasi one hot encoding, akan terjadi korelasi yang sangat tinggi pada dataset kita. Semisal, setelah kita encoding variable gender, terbentuk fitur <b>is_male</b> dan juga <b>is_female</b>. Kedua fitur ini akan saling berkorelasi satu sama lain dengan sangat kuat yang dapat membuat proses training untuk beberapa algoritma menjadi berantakan. N-1 fitur saja sudah cukup, karena sudah dapat menampung semua informasi yang ada.  "
      ]
    },
    {
      "cell_type": "code",
      "execution_count": 6,
      "metadata": {
        "id": "Xclkm8m9VbXH",
        "outputId": "22d813aa-c4a7-4bb3-b5ee-3c9c833fcee8"
      },
      "outputs": [
        {
          "data": {
            "text/html": [
              "<div>\n",
              "<style scoped>\n",
              "    .dataframe tbody tr th:only-of-type {\n",
              "        vertical-align: middle;\n",
              "    }\n",
              "\n",
              "    .dataframe tbody tr th {\n",
              "        vertical-align: top;\n",
              "    }\n",
              "\n",
              "    .dataframe thead th {\n",
              "        text-align: right;\n",
              "    }\n",
              "</style>\n",
              "<table border=\"1\" class=\"dataframe\">\n",
              "  <thead>\n",
              "    <tr style=\"text-align: right;\">\n",
              "      <th></th>\n",
              "      <th>Age</th>\n",
              "      <th>Delivery No_Premature</th>\n",
              "      <th>Delivery No_Timely</th>\n",
              "      <th>Blood of Pressure_Low</th>\n",
              "      <th>Blood of Pressure_Normal</th>\n",
              "      <th>Heart Problem_inept</th>\n",
              "    </tr>\n",
              "  </thead>\n",
              "  <tbody>\n",
              "    <tr>\n",
              "      <th>0</th>\n",
              "      <td>22</td>\n",
              "      <td>0</td>\n",
              "      <td>1</td>\n",
              "      <td>0</td>\n",
              "      <td>0</td>\n",
              "      <td>0</td>\n",
              "    </tr>\n",
              "    <tr>\n",
              "      <th>1</th>\n",
              "      <td>26</td>\n",
              "      <td>0</td>\n",
              "      <td>1</td>\n",
              "      <td>0</td>\n",
              "      <td>1</td>\n",
              "      <td>0</td>\n",
              "    </tr>\n",
              "    <tr>\n",
              "      <th>2</th>\n",
              "      <td>26</td>\n",
              "      <td>1</td>\n",
              "      <td>0</td>\n",
              "      <td>0</td>\n",
              "      <td>1</td>\n",
              "      <td>0</td>\n",
              "    </tr>\n",
              "    <tr>\n",
              "      <th>3</th>\n",
              "      <td>28</td>\n",
              "      <td>0</td>\n",
              "      <td>1</td>\n",
              "      <td>0</td>\n",
              "      <td>0</td>\n",
              "      <td>0</td>\n",
              "    </tr>\n",
              "    <tr>\n",
              "      <th>4</th>\n",
              "      <td>22</td>\n",
              "      <td>0</td>\n",
              "      <td>1</td>\n",
              "      <td>0</td>\n",
              "      <td>1</td>\n",
              "      <td>0</td>\n",
              "    </tr>\n",
              "  </tbody>\n",
              "</table>\n",
              "</div>"
            ],
            "text/plain": [
              "   Age  Delivery No_Premature  Delivery No_Timely  Blood of Pressure_Low  \\\n",
              "0   22                      0                   1                      0   \n",
              "1   26                      0                   1                      0   \n",
              "2   26                      1                   0                      0   \n",
              "3   28                      0                   1                      0   \n",
              "4   22                      0                   1                      0   \n",
              "\n",
              "   Blood of Pressure_Normal  Heart Problem_inept  \n",
              "0                         0                    0  \n",
              "1                         1                    0  \n",
              "2                         1                    0  \n",
              "3                         0                    0  \n",
              "4                         1                    0  "
            ]
          },
          "execution_count": 6,
          "metadata": {},
          "output_type": "execute_result"
        }
      ],
      "source": [
        "# Variabel independen\n",
        "x = df_dummy.drop([\"Caesarian_Yes\"], axis = 1)\n",
        "x.head()"
      ]
    },
    {
      "cell_type": "code",
      "execution_count": 7,
      "metadata": {
        "id": "oeCLq5i8VbXI",
        "outputId": "09e08897-8c70-4e4b-bef4-04c5cf619243"
      },
      "outputs": [
        {
          "data": {
            "text/plain": [
              "0    0\n",
              "1    1\n",
              "2    0\n",
              "3    0\n",
              "4    1\n",
              "Name: Caesarian_Yes, dtype: uint8"
            ]
          },
          "execution_count": 7,
          "metadata": {},
          "output_type": "execute_result"
        }
      ],
      "source": [
        "# Variabel dependen\n",
        "y = df_dummy[\"Caesarian_Yes\"]\n",
        "y.head()"
      ]
    },
    {
      "cell_type": "markdown",
      "metadata": {
        "id": "mPrLsfAcVbXI"
      },
      "source": [
        "### Classification\n",
        "Klasifikasi menggunakan naive bayes terdapat dalam package sklearn. Dalam pengklasifikasian ini dibutuhkan data testing dan data training. Kita akan mengambil 20% dari data yang ada sebagai test.  Berikut adalah kode program untuk menentukan data testing dan data training."
      ]
    },
    {
      "cell_type": "code",
      "execution_count": 8,
      "metadata": {
        "id": "xPukDoyWVbXJ"
      },
      "outputs": [],
      "source": [
        "# Melakukan splitting terhadap data train dan test (0.2 test_size)\n",
        "\n",
        "from sklearn.model_selection import train_test_split\n",
        "x_train, x_test, y_train, y_test = train_test_split(x, y, test_size = 0.2, stratify=y,random_state = 123)"
      ]
    },
    {
      "cell_type": "markdown",
      "metadata": {
        "id": "rhqWKcWmVbXJ"
      },
      "source": [
        "Setelah itu kita akan mengaktifkan/memanggil/membuat fungsi klasifikasi naive bayes dan memasukkan data training pada fungsi klasifikasi gaussian naive bayes."
      ]
    },
    {
      "cell_type": "code",
      "execution_count": 9,
      "metadata": {
        "id": "K_Ms36otVbXJ",
        "outputId": "d6b9a076-ac3d-433d-d8dc-5387f11b63f3"
      },
      "outputs": [
        {
          "data": {
            "text/html": [
              "<style>#sk-container-id-1 {color: black;background-color: white;}#sk-container-id-1 pre{padding: 0;}#sk-container-id-1 div.sk-toggleable {background-color: white;}#sk-container-id-1 label.sk-toggleable__label {cursor: pointer;display: block;width: 100%;margin-bottom: 0;padding: 0.3em;box-sizing: border-box;text-align: center;}#sk-container-id-1 label.sk-toggleable__label-arrow:before {content: \"▸\";float: left;margin-right: 0.25em;color: #696969;}#sk-container-id-1 label.sk-toggleable__label-arrow:hover:before {color: black;}#sk-container-id-1 div.sk-estimator:hover label.sk-toggleable__label-arrow:before {color: black;}#sk-container-id-1 div.sk-toggleable__content {max-height: 0;max-width: 0;overflow: hidden;text-align: left;background-color: #f0f8ff;}#sk-container-id-1 div.sk-toggleable__content pre {margin: 0.2em;color: black;border-radius: 0.25em;background-color: #f0f8ff;}#sk-container-id-1 input.sk-toggleable__control:checked~div.sk-toggleable__content {max-height: 200px;max-width: 100%;overflow: auto;}#sk-container-id-1 input.sk-toggleable__control:checked~label.sk-toggleable__label-arrow:before {content: \"▾\";}#sk-container-id-1 div.sk-estimator input.sk-toggleable__control:checked~label.sk-toggleable__label {background-color: #d4ebff;}#sk-container-id-1 div.sk-label input.sk-toggleable__control:checked~label.sk-toggleable__label {background-color: #d4ebff;}#sk-container-id-1 input.sk-hidden--visually {border: 0;clip: rect(1px 1px 1px 1px);clip: rect(1px, 1px, 1px, 1px);height: 1px;margin: -1px;overflow: hidden;padding: 0;position: absolute;width: 1px;}#sk-container-id-1 div.sk-estimator {font-family: monospace;background-color: #f0f8ff;border: 1px dotted black;border-radius: 0.25em;box-sizing: border-box;margin-bottom: 0.5em;}#sk-container-id-1 div.sk-estimator:hover {background-color: #d4ebff;}#sk-container-id-1 div.sk-parallel-item::after {content: \"\";width: 100%;border-bottom: 1px solid gray;flex-grow: 1;}#sk-container-id-1 div.sk-label:hover label.sk-toggleable__label {background-color: #d4ebff;}#sk-container-id-1 div.sk-serial::before {content: \"\";position: absolute;border-left: 1px solid gray;box-sizing: border-box;top: 0;bottom: 0;left: 50%;z-index: 0;}#sk-container-id-1 div.sk-serial {display: flex;flex-direction: column;align-items: center;background-color: white;padding-right: 0.2em;padding-left: 0.2em;position: relative;}#sk-container-id-1 div.sk-item {position: relative;z-index: 1;}#sk-container-id-1 div.sk-parallel {display: flex;align-items: stretch;justify-content: center;background-color: white;position: relative;}#sk-container-id-1 div.sk-item::before, #sk-container-id-1 div.sk-parallel-item::before {content: \"\";position: absolute;border-left: 1px solid gray;box-sizing: border-box;top: 0;bottom: 0;left: 50%;z-index: -1;}#sk-container-id-1 div.sk-parallel-item {display: flex;flex-direction: column;z-index: 1;position: relative;background-color: white;}#sk-container-id-1 div.sk-parallel-item:first-child::after {align-self: flex-end;width: 50%;}#sk-container-id-1 div.sk-parallel-item:last-child::after {align-self: flex-start;width: 50%;}#sk-container-id-1 div.sk-parallel-item:only-child::after {width: 0;}#sk-container-id-1 div.sk-dashed-wrapped {border: 1px dashed gray;margin: 0 0.4em 0.5em 0.4em;box-sizing: border-box;padding-bottom: 0.4em;background-color: white;}#sk-container-id-1 div.sk-label label {font-family: monospace;font-weight: bold;display: inline-block;line-height: 1.2em;}#sk-container-id-1 div.sk-label-container {text-align: center;}#sk-container-id-1 div.sk-container {/* jupyter's `normalize.less` sets `[hidden] { display: none; }` but bootstrap.min.css set `[hidden] { display: none !important; }` so we also need the `!important` here to be able to override the default hidden behavior on the sphinx rendered scikit-learn.org. See: https://github.com/scikit-learn/scikit-learn/issues/21755 */display: inline-block !important;position: relative;}#sk-container-id-1 div.sk-text-repr-fallback {display: none;}</style><div id=\"sk-container-id-1\" class=\"sk-top-container\"><div class=\"sk-text-repr-fallback\"><pre>GaussianNB()</pre><b>In a Jupyter environment, please rerun this cell to show the HTML representation or trust the notebook. <br />On GitHub, the HTML representation is unable to render, please try loading this page with nbviewer.org.</b></div><div class=\"sk-container\" hidden><div class=\"sk-item\"><div class=\"sk-estimator sk-toggleable\"><input class=\"sk-toggleable__control sk-hidden--visually\" id=\"sk-estimator-id-1\" type=\"checkbox\" checked><label for=\"sk-estimator-id-1\" class=\"sk-toggleable__label sk-toggleable__label-arrow\">GaussianNB</label><div class=\"sk-toggleable__content\"><pre>GaussianNB()</pre></div></div></div></div></div>"
            ],
            "text/plain": [
              "GaussianNB()"
            ]
          },
          "execution_count": 9,
          "metadata": {},
          "output_type": "execute_result"
        }
      ],
      "source": [
        "from sklearn.naive_bayes import GaussianNB\n",
        "# Mengaktifkan/memanggil/membuat fungsi klasifikasi Naive Bayes\n",
        "modelnb = GaussianNB()\n",
        "# Memasukkan data training pada fungsi klasifikasi Naive Bayes\n",
        "modelnb.fit(x_train, y_train)"
      ]
    },
    {
      "cell_type": "markdown",
      "metadata": {
        "id": "evIOWeX9VbXJ"
      },
      "source": [
        "Langkah selanjutnya yang akan kita lakukan adalah menentukan hasil prediksi dari x_test."
      ]
    },
    {
      "cell_type": "code",
      "execution_count": 10,
      "metadata": {
        "id": "3X8-zmoJVbXJ",
        "outputId": "816da8ec-9022-405b-9210-6ffe3321fd13"
      },
      "outputs": [
        {
          "data": {
            "text/plain": [
              "array([1, 0, 1, 1, 1, 1, 0, 0, 0, 0, 1, 1, 1, 1, 1, 1], dtype=uint8)"
            ]
          },
          "execution_count": 10,
          "metadata": {},
          "output_type": "execute_result"
        }
      ],
      "source": [
        "# Prediksi data test\n",
        "y_pred = modelnb.predict(x_test)\n",
        "y_pred"
      ]
    },
    {
      "cell_type": "markdown",
      "metadata": {
        "id": "DPDMIaB-VbXK"
      },
      "source": [
        "Output kode program y_pred adalah hasil prediksi operasi caesar. Kemudian, hasil tersebut akan kita bandingkan dengan data aktualnya, yaitu y_test dengan menggunakan kode program berikut ini."
      ]
    },
    {
      "cell_type": "code",
      "execution_count": 11,
      "metadata": {
        "id": "Gm91i2JeVbXL",
        "outputId": "93a540bb-96d0-4df2-ed3d-25b913ec7847"
      },
      "outputs": [
        {
          "data": {
            "text/plain": [
              "array([1, 0, 1, 0, 0, 1, 0, 1, 0, 1, 1, 0, 1, 1, 1, 0], dtype=uint8)"
            ]
          },
          "execution_count": 11,
          "metadata": {},
          "output_type": "execute_result"
        }
      ],
      "source": [
        "# Array data test\n",
        "np.array(y_test)"
      ]
    },
    {
      "cell_type": "markdown",
      "metadata": {
        "id": "eFnwKnFAVbXM"
      },
      "source": [
        "### Classification Report"
      ]
    },
    {
      "cell_type": "markdown",
      "metadata": {
        "id": "UfPptnOoVbXM"
      },
      "source": [
        "Setelah model kita training dan kita testing, kita akan mengevaluasi sebagus apa si model yang telah kita bangun tersebut. Ada beberapa nilai yang perlu kita perhatikan disini, yaitu accuracy, f1-score, recall, dan precision. Kita juga akan menampilkan confusion matrix untuk melihat ketepatan prediksi dengan lebih detail. Melalui report ini, kita dapat menentukan apakah model kita sudah optimal atau belum."
      ]
    },
    {
      "cell_type": "code",
      "execution_count": 12,
      "metadata": {
        "id": "eFCUZE_pVbXM"
      },
      "outputs": [],
      "source": [
        "from sklearn.metrics import precision_score, \\\n",
        "    recall_score, classification_report, \\\n",
        "    accuracy_score, f1_score\n",
        "\n",
        "\n",
        "def evaluate_classifier_performance(prediction, y_test):\n",
        "    # Informasi evaluasi secara compact\n",
        "    print(\"Hasil Evaluasi berdasarkan classification report \\n\\n%s\\n\" % (classification_report(y_test, prediction,zero_division=0)))\n",
        "    print()\n",
        "    print(\"Confusion Matrix\")\n",
        "    print()\n",
        "    y_actual = pd.Series(np.array(y_test), name = \"actual\")\n",
        "    y_pred = pd.Series(np.array(prediction), name = \"prediction\")\n",
        "    df_confusion = pd.crosstab(y_actual, y_pred)\n",
        "    display(df_confusion)\n",
        "    print()\n",
        "    print()\n",
        "\n",
        "    print(\"Butuh informasi lebih lengkap? silakan simak di bawah ini : \")\n",
        "    print('F1 Macro Average:', f1_score(y_test, prediction, average='macro'))\n",
        "    print('F1 Micro Average:', f1_score(y_test, prediction, average='micro'))\n",
        "    print('Precision Macro Average:', precision_score(y_test, prediction, average='macro',zero_division=0))\n",
        "    print('Precision Micro Average:', precision_score(y_test, prediction, average='micro',zero_division=0))\n",
        "    print('Recall Macro Average:', recall_score(y_test, prediction, average='macro',zero_division=0))\n",
        "    print('Recall Micro Average:', recall_score(y_test, prediction, average='micro',zero_division=0))\n",
        "    print()"
      ]
    },
    {
      "cell_type": "code",
      "execution_count": 13,
      "metadata": {
        "id": "S_ZOOIDnVbXN",
        "outputId": "00739570-b1e3-4e2a-f89b-85378f5cd8f9"
      },
      "outputs": [
        {
          "name": "stdout",
          "output_type": "stream",
          "text": [
            "Hasil Evaluasi berdasarkan classification report \n",
            "\n",
            "              precision    recall  f1-score   support\n",
            "\n",
            "           0       0.60      0.43      0.50         7\n",
            "           1       0.64      0.78      0.70         9\n",
            "\n",
            "    accuracy                           0.62        16\n",
            "   macro avg       0.62      0.60      0.60        16\n",
            "weighted avg       0.62      0.62      0.61        16\n",
            "\n",
            "\n",
            "\n",
            "Confusion Matrix\n",
            "\n"
          ]
        },
        {
          "data": {
            "text/html": [
              "<div>\n",
              "<style scoped>\n",
              "    .dataframe tbody tr th:only-of-type {\n",
              "        vertical-align: middle;\n",
              "    }\n",
              "\n",
              "    .dataframe tbody tr th {\n",
              "        vertical-align: top;\n",
              "    }\n",
              "\n",
              "    .dataframe thead th {\n",
              "        text-align: right;\n",
              "    }\n",
              "</style>\n",
              "<table border=\"1\" class=\"dataframe\">\n",
              "  <thead>\n",
              "    <tr style=\"text-align: right;\">\n",
              "      <th>prediction</th>\n",
              "      <th>0</th>\n",
              "      <th>1</th>\n",
              "    </tr>\n",
              "    <tr>\n",
              "      <th>actual</th>\n",
              "      <th></th>\n",
              "      <th></th>\n",
              "    </tr>\n",
              "  </thead>\n",
              "  <tbody>\n",
              "    <tr>\n",
              "      <th>0</th>\n",
              "      <td>3</td>\n",
              "      <td>4</td>\n",
              "    </tr>\n",
              "    <tr>\n",
              "      <th>1</th>\n",
              "      <td>2</td>\n",
              "      <td>7</td>\n",
              "    </tr>\n",
              "  </tbody>\n",
              "</table>\n",
              "</div>"
            ],
            "text/plain": [
              "prediction  0  1\n",
              "actual          \n",
              "0           3  4\n",
              "1           2  7"
            ]
          },
          "metadata": {},
          "output_type": "display_data"
        },
        {
          "name": "stdout",
          "output_type": "stream",
          "text": [
            "\n",
            "\n",
            "Butuh informasi lebih lengkap? silakan simak di bawah ini : \n",
            "F1 Macro Average: 0.6000000000000001\n",
            "F1 Micro Average: 0.625\n",
            "Precision Macro Average: 0.6181818181818182\n",
            "Precision Micro Average: 0.625\n",
            "Recall Macro Average: 0.6031746031746031\n",
            "Recall Micro Average: 0.625\n",
            "\n"
          ]
        }
      ],
      "source": [
        "evaluate_classifier_performance(y_pred,y_test)"
      ]
    },
    {
      "cell_type": "markdown",
      "metadata": {
        "id": "QvfTn7BWVbXN"
      },
      "source": [
        "Berdasarkan report diatas, kita dapat melihat bahwa model kita ternyata tidak terlalu baik (<b>OH TIDAK!</b>). Terlihat dari accuracy yang tidak terlalu bagus, begitu juga dengan nilai-nilai yang lainnya. Ada beberapa kemungkinan penyebab, berikut adalah detailnya, <br>\n",
        "* Dataset yang tidak balance <br>\n",
        "Perbandingan jumlah tiap class yang di-train tidak seimbang, yang menyebabkan proses training menjadi bias dan terlalu condong pada class dengan jumlah yang lebih banyak <br>\n",
        "* Pemilihan algoritma naive bayes yang kurang sesuai <br>\n",
        "Algoritma yang digunakan tidak sesuai dengan sifat data kita, sehingga menghasilkan model yang tidak optimal. Beberapa algoritma hanya cocok untuk distribusi tertentu saja.\n",
        "* Data Preprocessing yang tidak optimal <br>"
      ]
    },
    {
      "cell_type": "markdown",
      "metadata": {
        "id": "rg6V4unXVbXO"
      },
      "source": [
        "# KNN (K-Nearest Neighbors)"
      ]
    },
    {
      "cell_type": "markdown",
      "metadata": {
        "id": "YQDsA76jVbXO"
      },
      "source": [
        "## A. Pengenalan KNN"
      ]
    },
    {
      "cell_type": "markdown",
      "metadata": {
        "id": "-sLe6TvOVbXO"
      },
      "source": [
        "Sesuai dengan namanya (<i>nearest neighbors</i>), algoritma ini mengklasifikasikan suatu data baru dengan melihat kedekatan data tersebut terhadap data lama yang lainnya. Contoh, kamu mempunyai dataset yang berisi informasi rumah dengan label rumah mewah dan rumah tidak mewah. KNN akan menyimpan informasi mengenai ukuran yang serupa, seperti kemiripan luas rumah dan juga harga rumah. Ketika data rumah baru masuk, KNN akan mengecek kesamaan informasi data rumah tersebut terhadap data lama yang telah dipelajari KNN. Hasil pengecekan akan dijadikan sebagai kesimpulan rumah baru tersebut masuk ke dalam klasifikasi yang mana."
      ]
    },
    {
      "cell_type": "markdown",
      "metadata": {
        "id": "oUcb8RRGVbXO"
      },
      "source": [
        "Apa saja yang perlu kita perhatikan sebelum mengimplementasikan KNN?\n",
        "* <b>Jumlah K</b> <br>\n",
        "Jumlah K sangat menentukan performa KNN. K merepresentasikan jumlah data point terdekat, yang akan digunakan untuk menentukan suatu data point masuk ke dalam kategori apa. K yang kecil sangat rentan dengan <i>noise</i> yang dapat membuat model overfitting, sedangkan K yang besar dapat merusak aspek <i>lokalitas</i> yang berujung ke penurunan performa model klasifikasi.<br>\n",
        "\n",
        "\n",
        "* <b>Rumus Jarak yang digunakan</b> <br>\n",
        "Rumus jarak yang digunakan untuk menghitung kedekatan data point terhadap data yang lainnya juga sangat menentukan performa dari algoritma KNN. Jika perhitungan jarak yang digunakan kurang sesuai, maka kalkulasi similarity akan tidak tepat dan berujung membuat klasifikasi menjadi tidak sesuai"
      ]
    },
    {
      "cell_type": "markdown",
      "metadata": {
        "id": "mSVJ2BM0VbXO"
      },
      "source": [
        "## B. Pengenakan KNN Pada Scikit-Learn"
      ]
    },
    {
      "cell_type": "markdown",
      "metadata": {
        "id": "cGR-k7JNVbXO"
      },
      "source": [
        "Referensi : https://scikit-learn.org/stable/modules/generated/sklearn.neighbors.KNeighborsClassifier.html"
      ]
    },
    {
      "cell_type": "markdown",
      "metadata": {
        "id": "hDGTp8NzVbXO"
      },
      "source": [
        "Pada scikit-learn, ada beberapa parameter yang perlu kita perhatikan, berikut adalah rangkuman singkatnya.\n",
        "\n",
        "* n_neighbor <br>\n",
        "n_neighbor merepresentasikan jumlah K yang kita gunakan, dengan default nilai adalah 5 <br>\n",
        "* algorithm <br>\n",
        "parameter algorithm merepresentasikan algoritma yang digunakan dalam mencari tetangga terdekat. Algoritma yang tersedia adalah, ball tree, kd tree, brute force, dan auto. Default nilai dari parameter ini adalah auto <br>\n",
        "* p (int) <br>\n",
        "parameter ini merepresentasikan parameter yang digunakan untuk metric. Jika menggunakan minkowski, maka p bernilai 1 digunakan untuk manhattan distance dan p bernilai 2 untuk euclidean distance. Default dari parameter ini adalah 2, yaitu euclidean distance <br>\n",
        "* metric <br>\n",
        "parameter ini digunakan untuk menentukan rumus jarak yang dipakai. Default dari nilai ini adalah minkowski. <br>"
      ]
    },
    {
      "cell_type": "markdown",
      "metadata": {
        "id": "Jh2hewboVbXP"
      },
      "source": [
        "Kita perlu memperhatikan rumus jarak yang digunakan dan juga jumlah K yang optimal. Strategi yang dapat diterapkan untuk mencari nilai k yang optimal adalah dengan <b> cross validation </b> sedangkan untuk metric beserta parameternya bisa dipilih berdasarkan sifat data (jika semua numerik mungkin kita bisa memilih untuk menggunakan euclidean atau manhattan, dan jika semua kategorik bisa menggunakan jacard distance). Permasalahan yang selalu ditemukan saat mengimplementasikan KNN adalah, ketika independent variable yang ada terdiri dari data <b>kategorik</b> dan <b>numerik</b>. Banyak praktisi yang meyakini untuk menggunakan algoritma lain jika menemui masalah tersebut, seperti menggunakan algoritma decision tree, random forest, neural network, deep learning, dan lain-lain."
      ]
    },
    {
      "cell_type": "markdown",
      "metadata": {
        "id": "AAor8fWLVbXP"
      },
      "source": [
        "Dokumentasi mengenai terkait rumus jarak apa saja yang dapat digunakan, dapat diakses disini : <br>\n",
        "https://scikit-learn.org/stable/modules/generated/sklearn.metrics.pairwise.distance_metrics.html#sklearn.metrics.pairwise.distance_metrics"
      ]
    },
    {
      "cell_type": "markdown",
      "metadata": {
        "id": "Vj5Uo12VVbXP"
      },
      "source": [
        "## C. Hand On KNN"
      ]
    },
    {
      "cell_type": "markdown",
      "metadata": {
        "id": "zjoAqp0RVbXP"
      },
      "source": [
        "Kita akan coba mengimplementasikan KNN untuk mengklasifikasikan species bunga dari dataset Iris yang diambil dari : <br>\n",
        "https://www.kaggle.com/datasets/uciml/iris?resource=download"
      ]
    },
    {
      "cell_type": "markdown",
      "metadata": {
        "id": "MaKAD3HWVbXP"
      },
      "source": [
        "Berikut adalah informasi dataset :\n",
        "\n",
        "`id` = id subject <br>\n",
        "\n",
        "`SepalLengthCm` = Panjang Sepal dalam cm <br>\n",
        "\n",
        "`SepalWidthCm` = Lebar Sepal dalam cm <br>\n",
        "\n",
        "`PetalLengthCm` = Panjang Petal dalam cm <br>\n",
        "\n",
        "`PetalWidthCm` = Lebar Petal dalam cm <br>\n",
        "\n",
        "`Species` = Spesies bunga <br>"
      ]
    },
    {
      "cell_type": "markdown",
      "metadata": {
        "id": "Oef67wrOVbXQ"
      },
      "source": [
        "### Import Dataset"
      ]
    },
    {
      "cell_type": "code",
      "execution_count": 14,
      "metadata": {
        "id": "tyU0XHBoVbXQ",
        "outputId": "772640c8-1a65-4621-d6ff-dc6b53a50699"
      },
      "outputs": [
        {
          "data": {
            "text/html": [
              "<div>\n",
              "<style scoped>\n",
              "    .dataframe tbody tr th:only-of-type {\n",
              "        vertical-align: middle;\n",
              "    }\n",
              "\n",
              "    .dataframe tbody tr th {\n",
              "        vertical-align: top;\n",
              "    }\n",
              "\n",
              "    .dataframe thead th {\n",
              "        text-align: right;\n",
              "    }\n",
              "</style>\n",
              "<table border=\"1\" class=\"dataframe\">\n",
              "  <thead>\n",
              "    <tr style=\"text-align: right;\">\n",
              "      <th></th>\n",
              "      <th>Id</th>\n",
              "      <th>SepalLengthCm</th>\n",
              "      <th>SepalWidthCm</th>\n",
              "      <th>PetalLengthCm</th>\n",
              "      <th>PetalWidthCm</th>\n",
              "      <th>Species</th>\n",
              "    </tr>\n",
              "  </thead>\n",
              "  <tbody>\n",
              "    <tr>\n",
              "      <th>0</th>\n",
              "      <td>1</td>\n",
              "      <td>5.1</td>\n",
              "      <td>3.5</td>\n",
              "      <td>1.4</td>\n",
              "      <td>0.2</td>\n",
              "      <td>Iris-setosa</td>\n",
              "    </tr>\n",
              "    <tr>\n",
              "      <th>1</th>\n",
              "      <td>2</td>\n",
              "      <td>4.9</td>\n",
              "      <td>3.0</td>\n",
              "      <td>1.4</td>\n",
              "      <td>0.2</td>\n",
              "      <td>Iris-setosa</td>\n",
              "    </tr>\n",
              "    <tr>\n",
              "      <th>2</th>\n",
              "      <td>3</td>\n",
              "      <td>4.7</td>\n",
              "      <td>3.2</td>\n",
              "      <td>1.3</td>\n",
              "      <td>0.2</td>\n",
              "      <td>Iris-setosa</td>\n",
              "    </tr>\n",
              "    <tr>\n",
              "      <th>3</th>\n",
              "      <td>4</td>\n",
              "      <td>4.6</td>\n",
              "      <td>3.1</td>\n",
              "      <td>1.5</td>\n",
              "      <td>0.2</td>\n",
              "      <td>Iris-setosa</td>\n",
              "    </tr>\n",
              "    <tr>\n",
              "      <th>4</th>\n",
              "      <td>5</td>\n",
              "      <td>5.0</td>\n",
              "      <td>3.6</td>\n",
              "      <td>1.4</td>\n",
              "      <td>0.2</td>\n",
              "      <td>Iris-setosa</td>\n",
              "    </tr>\n",
              "  </tbody>\n",
              "</table>\n",
              "</div>"
            ],
            "text/plain": [
              "   Id  SepalLengthCm  SepalWidthCm  PetalLengthCm  PetalWidthCm      Species\n",
              "0   1            5.1           3.5            1.4           0.2  Iris-setosa\n",
              "1   2            4.9           3.0            1.4           0.2  Iris-setosa\n",
              "2   3            4.7           3.2            1.3           0.2  Iris-setosa\n",
              "3   4            4.6           3.1            1.5           0.2  Iris-setosa\n",
              "4   5            5.0           3.6            1.4           0.2  Iris-setosa"
            ]
          },
          "execution_count": 14,
          "metadata": {},
          "output_type": "execute_result"
        }
      ],
      "source": [
        "iris = pd.read_csv(\"Iris.csv\")\n",
        "iris.head()"
      ]
    },
    {
      "cell_type": "code",
      "execution_count": 15,
      "metadata": {
        "id": "RXipKsubVbXQ",
        "outputId": "d707dbe8-6bfa-470d-82a8-66609a52402c"
      },
      "outputs": [
        {
          "name": "stdout",
          "output_type": "stream",
          "text": [
            "----Informasi Baris dan Kolom----\n",
            "Baris :  150\n",
            "Kolom :  6\n"
          ]
        }
      ],
      "source": [
        "print(\"----Informasi Baris dan Kolom----\")\n",
        "print(\"Baris : \", iris.shape[0])\n",
        "print(\"Kolom : \", iris.shape[1])"
      ]
    },
    {
      "cell_type": "code",
      "execution_count": 16,
      "metadata": {
        "id": "4cjcujeBVbXQ",
        "outputId": "61f5c80d-c7c1-4a45-8898-48a029bd5163",
        "scrolled": true
      },
      "outputs": [
        {
          "data": {
            "text/html": [
              "<div>\n",
              "<style scoped>\n",
              "    .dataframe tbody tr th:only-of-type {\n",
              "        vertical-align: middle;\n",
              "    }\n",
              "\n",
              "    .dataframe tbody tr th {\n",
              "        vertical-align: top;\n",
              "    }\n",
              "\n",
              "    .dataframe thead th {\n",
              "        text-align: right;\n",
              "    }\n",
              "</style>\n",
              "<table border=\"1\" class=\"dataframe\">\n",
              "  <thead>\n",
              "    <tr style=\"text-align: right;\">\n",
              "      <th></th>\n",
              "      <th>SepalLengthCm</th>\n",
              "      <th>SepalWidthCm</th>\n",
              "      <th>PetalLengthCm</th>\n",
              "      <th>PetalWidthCm</th>\n",
              "      <th>Species</th>\n",
              "    </tr>\n",
              "  </thead>\n",
              "  <tbody>\n",
              "    <tr>\n",
              "      <th>0</th>\n",
              "      <td>5.1</td>\n",
              "      <td>3.5</td>\n",
              "      <td>1.4</td>\n",
              "      <td>0.2</td>\n",
              "      <td>Iris-setosa</td>\n",
              "    </tr>\n",
              "    <tr>\n",
              "      <th>1</th>\n",
              "      <td>4.9</td>\n",
              "      <td>3.0</td>\n",
              "      <td>1.4</td>\n",
              "      <td>0.2</td>\n",
              "      <td>Iris-setosa</td>\n",
              "    </tr>\n",
              "    <tr>\n",
              "      <th>2</th>\n",
              "      <td>4.7</td>\n",
              "      <td>3.2</td>\n",
              "      <td>1.3</td>\n",
              "      <td>0.2</td>\n",
              "      <td>Iris-setosa</td>\n",
              "    </tr>\n",
              "    <tr>\n",
              "      <th>3</th>\n",
              "      <td>4.6</td>\n",
              "      <td>3.1</td>\n",
              "      <td>1.5</td>\n",
              "      <td>0.2</td>\n",
              "      <td>Iris-setosa</td>\n",
              "    </tr>\n",
              "    <tr>\n",
              "      <th>4</th>\n",
              "      <td>5.0</td>\n",
              "      <td>3.6</td>\n",
              "      <td>1.4</td>\n",
              "      <td>0.2</td>\n",
              "      <td>Iris-setosa</td>\n",
              "    </tr>\n",
              "  </tbody>\n",
              "</table>\n",
              "</div>"
            ],
            "text/plain": [
              "   SepalLengthCm  SepalWidthCm  PetalLengthCm  PetalWidthCm      Species\n",
              "0            5.1           3.5            1.4           0.2  Iris-setosa\n",
              "1            4.9           3.0            1.4           0.2  Iris-setosa\n",
              "2            4.7           3.2            1.3           0.2  Iris-setosa\n",
              "3            4.6           3.1            1.5           0.2  Iris-setosa\n",
              "4            5.0           3.6            1.4           0.2  Iris-setosa"
            ]
          },
          "execution_count": 16,
          "metadata": {},
          "output_type": "execute_result"
        }
      ],
      "source": [
        "# bulang kolom id karena tidak berguna\n",
        "dataIris = iris.drop(columns=[\"Id\"],axis=1)\n",
        "dataIris.head()"
      ]
    },
    {
      "cell_type": "code",
      "execution_count": 17,
      "metadata": {
        "id": "6u6WL8mrVbXR",
        "outputId": "0ad31543-8f87-4c56-fdd1-629d6ca2c1e1"
      },
      "outputs": [
        {
          "data": {
            "text/html": [
              "<div>\n",
              "<style scoped>\n",
              "    .dataframe tbody tr th:only-of-type {\n",
              "        vertical-align: middle;\n",
              "    }\n",
              "\n",
              "    .dataframe tbody tr th {\n",
              "        vertical-align: top;\n",
              "    }\n",
              "\n",
              "    .dataframe thead th {\n",
              "        text-align: right;\n",
              "    }\n",
              "</style>\n",
              "<table border=\"1\" class=\"dataframe\">\n",
              "  <thead>\n",
              "    <tr style=\"text-align: right;\">\n",
              "      <th></th>\n",
              "      <th>Species</th>\n",
              "    </tr>\n",
              "  </thead>\n",
              "  <tbody>\n",
              "    <tr>\n",
              "      <th>count</th>\n",
              "      <td>150</td>\n",
              "    </tr>\n",
              "    <tr>\n",
              "      <th>unique</th>\n",
              "      <td>3</td>\n",
              "    </tr>\n",
              "    <tr>\n",
              "      <th>top</th>\n",
              "      <td>Iris-setosa</td>\n",
              "    </tr>\n",
              "    <tr>\n",
              "      <th>freq</th>\n",
              "      <td>50</td>\n",
              "    </tr>\n",
              "  </tbody>\n",
              "</table>\n",
              "</div>"
            ],
            "text/plain": [
              "            Species\n",
              "count           150\n",
              "unique            3\n",
              "top     Iris-setosa\n",
              "freq             50"
            ]
          },
          "execution_count": 17,
          "metadata": {},
          "output_type": "execute_result"
        }
      ],
      "source": [
        "dataIris.describe(include=object)"
      ]
    },
    {
      "cell_type": "markdown",
      "metadata": {
        "id": "4emtbggFVbXR"
      },
      "source": [
        "Diatas adalah deskripsi khusus untuk data bertipe kategorik"
      ]
    },
    {
      "cell_type": "code",
      "execution_count": 18,
      "metadata": {
        "id": "4fJg6VEOVbXS",
        "outputId": "2af913e3-4f65-4a9e-a042-11e053d67300"
      },
      "outputs": [
        {
          "data": {
            "text/html": [
              "<div>\n",
              "<style scoped>\n",
              "    .dataframe tbody tr th:only-of-type {\n",
              "        vertical-align: middle;\n",
              "    }\n",
              "\n",
              "    .dataframe tbody tr th {\n",
              "        vertical-align: top;\n",
              "    }\n",
              "\n",
              "    .dataframe thead th {\n",
              "        text-align: right;\n",
              "    }\n",
              "</style>\n",
              "<table border=\"1\" class=\"dataframe\">\n",
              "  <thead>\n",
              "    <tr style=\"text-align: right;\">\n",
              "      <th></th>\n",
              "      <th>SepalLengthCm</th>\n",
              "      <th>SepalWidthCm</th>\n",
              "      <th>PetalLengthCm</th>\n",
              "      <th>PetalWidthCm</th>\n",
              "    </tr>\n",
              "  </thead>\n",
              "  <tbody>\n",
              "    <tr>\n",
              "      <th>count</th>\n",
              "      <td>150.000000</td>\n",
              "      <td>150.000000</td>\n",
              "      <td>150.000000</td>\n",
              "      <td>150.000000</td>\n",
              "    </tr>\n",
              "    <tr>\n",
              "      <th>mean</th>\n",
              "      <td>5.843333</td>\n",
              "      <td>3.054000</td>\n",
              "      <td>3.758667</td>\n",
              "      <td>1.198667</td>\n",
              "    </tr>\n",
              "    <tr>\n",
              "      <th>std</th>\n",
              "      <td>0.828066</td>\n",
              "      <td>0.433594</td>\n",
              "      <td>1.764420</td>\n",
              "      <td>0.763161</td>\n",
              "    </tr>\n",
              "    <tr>\n",
              "      <th>min</th>\n",
              "      <td>4.300000</td>\n",
              "      <td>2.000000</td>\n",
              "      <td>1.000000</td>\n",
              "      <td>0.100000</td>\n",
              "    </tr>\n",
              "    <tr>\n",
              "      <th>25%</th>\n",
              "      <td>5.100000</td>\n",
              "      <td>2.800000</td>\n",
              "      <td>1.600000</td>\n",
              "      <td>0.300000</td>\n",
              "    </tr>\n",
              "    <tr>\n",
              "      <th>50%</th>\n",
              "      <td>5.800000</td>\n",
              "      <td>3.000000</td>\n",
              "      <td>4.350000</td>\n",
              "      <td>1.300000</td>\n",
              "    </tr>\n",
              "    <tr>\n",
              "      <th>75%</th>\n",
              "      <td>6.400000</td>\n",
              "      <td>3.300000</td>\n",
              "      <td>5.100000</td>\n",
              "      <td>1.800000</td>\n",
              "    </tr>\n",
              "    <tr>\n",
              "      <th>max</th>\n",
              "      <td>7.900000</td>\n",
              "      <td>4.400000</td>\n",
              "      <td>6.900000</td>\n",
              "      <td>2.500000</td>\n",
              "    </tr>\n",
              "  </tbody>\n",
              "</table>\n",
              "</div>"
            ],
            "text/plain": [
              "       SepalLengthCm  SepalWidthCm  PetalLengthCm  PetalWidthCm\n",
              "count     150.000000    150.000000     150.000000    150.000000\n",
              "mean        5.843333      3.054000       3.758667      1.198667\n",
              "std         0.828066      0.433594       1.764420      0.763161\n",
              "min         4.300000      2.000000       1.000000      0.100000\n",
              "25%         5.100000      2.800000       1.600000      0.300000\n",
              "50%         5.800000      3.000000       4.350000      1.300000\n",
              "75%         6.400000      3.300000       5.100000      1.800000\n",
              "max         7.900000      4.400000       6.900000      2.500000"
            ]
          },
          "execution_count": 18,
          "metadata": {},
          "output_type": "execute_result"
        }
      ],
      "source": [
        "dataIris.describe(include='number')"
      ]
    },
    {
      "cell_type": "markdown",
      "metadata": {
        "id": "8ENbbQcrVbXS"
      },
      "source": [
        "Diatas adalah deskripsi data khusus untuk yang bertipe angka"
      ]
    },
    {
      "cell_type": "markdown",
      "metadata": {
        "id": "mCAz95wWVbXS"
      },
      "source": [
        "### Preprocessing"
      ]
    },
    {
      "cell_type": "code",
      "execution_count": 19,
      "metadata": {
        "id": "3dosn93cVbXS"
      },
      "outputs": [],
      "source": [
        "# mengecek nilai null\n",
        "def cek_null(df):\n",
        "    col_na = df.isnull().sum().sort_values(ascending=True)\n",
        "    percent = col_na / len(df)\n",
        "    \n",
        "    missing_data = pd.concat([col_na, percent], axis=1, keys=['Total', 'Percent'])\n",
        "    \n",
        "    if (missing_data[missing_data['Total'] > 0].shape[0] == 0):\n",
        "        print(\"Tidak ditemukan missing value pada dataset\")\n",
        "        \n",
        "    else:\n",
        "        print(missing_data[missing_data['Total'] > 0])"
      ]
    },
    {
      "cell_type": "code",
      "execution_count": 20,
      "metadata": {
        "id": "XYmbHFtzVbXT",
        "outputId": "4ecf83f4-f97a-454e-eef0-7246568310d0"
      },
      "outputs": [
        {
          "name": "stdout",
          "output_type": "stream",
          "text": [
            "Tidak ditemukan missing value pada dataset\n"
          ]
        }
      ],
      "source": [
        "cek_null(dataIris)"
      ]
    },
    {
      "cell_type": "code",
      "execution_count": 21,
      "metadata": {
        "id": "kSEZ3Op6VbXT",
        "outputId": "1d9154cc-ba37-46f4-860d-4255b5c09334"
      },
      "outputs": [
        {
          "data": {
            "text/plain": [
              "0      False\n",
              "1      False\n",
              "2      False\n",
              "3      False\n",
              "4      False\n",
              "       ...  \n",
              "145    False\n",
              "146    False\n",
              "147    False\n",
              "148    False\n",
              "149    False\n",
              "Length: 150, dtype: bool"
            ]
          },
          "execution_count": 21,
          "metadata": {},
          "output_type": "execute_result"
        }
      ],
      "source": [
        "# mengecek apakah terdapat data duplikat atau tidak\n",
        "dataIris.duplicated()"
      ]
    },
    {
      "cell_type": "code",
      "execution_count": 22,
      "metadata": {
        "id": "6w3bB6HYVbXT",
        "outputId": "60f60234-364c-4d72-e21d-5c7f68b0c56a",
        "scrolled": true
      },
      "outputs": [
        {
          "name": "stdout",
          "output_type": "stream",
          "text": [
            "Jumlah duplikasi data : 3\n"
          ]
        }
      ],
      "source": [
        "# jumlah duplikat pada data\n",
        "print(\"Jumlah duplikasi data : \" + str(dataIris.duplicated().sum()))"
      ]
    },
    {
      "cell_type": "markdown",
      "metadata": {
        "id": "qj8Z7tosVbXT"
      },
      "source": [
        "Terdapat 3 data duplikat, maka kita perlu drop data tersebut terlebih dahulu."
      ]
    },
    {
      "cell_type": "code",
      "execution_count": 23,
      "metadata": {
        "id": "RVkHjAKMVbXT",
        "outputId": "c771fff6-0370-4a7f-ce3d-0ddd2f154d46"
      },
      "outputs": [
        {
          "name": "stdout",
          "output_type": "stream",
          "text": [
            "Jumlah duplikasi data : 0\n"
          ]
        }
      ],
      "source": [
        "dataIris_noDuplicate = dataIris.drop_duplicates(inplace = False)\n",
        "print(\"Jumlah duplikasi data : \" + str(dataIris_noDuplicate.duplicated().sum()))"
      ]
    },
    {
      "cell_type": "code",
      "execution_count": 54,
      "metadata": {
        "id": "afahxEwrVbXU",
        "outputId": "f9b5ca46-d05b-41e3-d699-7ec1058b6374"
      },
      "outputs": [
        {
          "ename": "ValueError",
          "evalue": "The number of FixedLocator locations (68), usually from a call to set_ticks, does not match the number of ticklabels (4).",
          "output_type": "error",
          "traceback": [
            "\u001b[1;31m---------------------------------------------------------------------------\u001b[0m",
            "\u001b[1;31mValueError\u001b[0m                                Traceback (most recent call last)",
            "\u001b[1;32mc:\\Users\\iqbal\\Documents\\KASDD\\Lab 5\\Lab5.ipynb Cell 76\u001b[0m in \u001b[0;36m<cell line: 2>\u001b[1;34m()\u001b[0m\n\u001b[0;32m      <a href='vscode-notebook-cell:/c%3A/Users/iqbal/Documents/KASDD/Lab%205/Lab5.ipynb#Y135sZmlsZQ%3D%3D?line=0'>1</a>\u001b[0m \u001b[39m# mengecek keberadaan outlier\u001b[39;00m\n\u001b[1;32m----> <a href='vscode-notebook-cell:/c%3A/Users/iqbal/Documents/KASDD/Lab%205/Lab5.ipynb#Y135sZmlsZQ%3D%3D?line=1'>2</a>\u001b[0m dataIris_noDuplicate\u001b[39m.\u001b[39;49mboxplot(vert\u001b[39m=\u001b[39;49m\u001b[39mFalse\u001b[39;49;00m,figsize\u001b[39m=\u001b[39;49m(\u001b[39m50\u001b[39;49m,\u001b[39m50\u001b[39;49m))\n",
            "File \u001b[1;32mc:\\Users\\iqbal\\AppData\\Local\\Programs\\Python\\Python310\\lib\\site-packages\\pandas\\plotting\\_core.py:511\u001b[0m, in \u001b[0;36mboxplot_frame\u001b[1;34m(self, column, by, ax, fontsize, rot, grid, figsize, layout, return_type, backend, **kwargs)\u001b[0m\n\u001b[0;32m    494\u001b[0m \u001b[39m@Substitution\u001b[39m(backend\u001b[39m=\u001b[39m_backend_doc)\n\u001b[0;32m    495\u001b[0m \u001b[39m@Appender\u001b[39m(_boxplot_doc)\n\u001b[0;32m    496\u001b[0m \u001b[39mdef\u001b[39;00m \u001b[39mboxplot_frame\u001b[39m(\n\u001b[1;32m   (...)\u001b[0m\n\u001b[0;32m    508\u001b[0m     \u001b[39m*\u001b[39m\u001b[39m*\u001b[39mkwargs,\n\u001b[0;32m    509\u001b[0m ):\n\u001b[0;32m    510\u001b[0m     plot_backend \u001b[39m=\u001b[39m _get_plot_backend(backend)\n\u001b[1;32m--> 511\u001b[0m     \u001b[39mreturn\u001b[39;00m plot_backend\u001b[39m.\u001b[39mboxplot_frame(\n\u001b[0;32m    512\u001b[0m         \u001b[39mself\u001b[39m,\n\u001b[0;32m    513\u001b[0m         column\u001b[39m=\u001b[39mcolumn,\n\u001b[0;32m    514\u001b[0m         by\u001b[39m=\u001b[39mby,\n\u001b[0;32m    515\u001b[0m         ax\u001b[39m=\u001b[39max,\n\u001b[0;32m    516\u001b[0m         fontsize\u001b[39m=\u001b[39mfontsize,\n\u001b[0;32m    517\u001b[0m         rot\u001b[39m=\u001b[39mrot,\n\u001b[0;32m    518\u001b[0m         grid\u001b[39m=\u001b[39mgrid,\n\u001b[0;32m    519\u001b[0m         figsize\u001b[39m=\u001b[39mfigsize,\n\u001b[0;32m    520\u001b[0m         layout\u001b[39m=\u001b[39mlayout,\n\u001b[0;32m    521\u001b[0m         return_type\u001b[39m=\u001b[39mreturn_type,\n\u001b[0;32m    522\u001b[0m         \u001b[39m*\u001b[39m\u001b[39m*\u001b[39mkwargs,\n\u001b[0;32m    523\u001b[0m     )\n",
            "File \u001b[1;32mc:\\Users\\iqbal\\AppData\\Local\\Programs\\Python\\Python310\\lib\\site-packages\\pandas\\plotting\\_matplotlib\\boxplot.py:425\u001b[0m, in \u001b[0;36mboxplot_frame\u001b[1;34m(self, column, by, ax, fontsize, rot, grid, figsize, layout, return_type, **kwds)\u001b[0m\n\u001b[0;32m    410\u001b[0m \u001b[39mdef\u001b[39;00m \u001b[39mboxplot_frame\u001b[39m(\n\u001b[0;32m    411\u001b[0m     \u001b[39mself\u001b[39m,\n\u001b[0;32m    412\u001b[0m     column\u001b[39m=\u001b[39m\u001b[39mNone\u001b[39;00m,\n\u001b[1;32m   (...)\u001b[0m\n\u001b[0;32m    421\u001b[0m     \u001b[39m*\u001b[39m\u001b[39m*\u001b[39mkwds,\n\u001b[0;32m    422\u001b[0m ):\n\u001b[0;32m    423\u001b[0m     \u001b[39mimport\u001b[39;00m \u001b[39mmatplotlib\u001b[39;00m\u001b[39m.\u001b[39;00m\u001b[39mpyplot\u001b[39;00m \u001b[39mas\u001b[39;00m \u001b[39mplt\u001b[39;00m\n\u001b[1;32m--> 425\u001b[0m     ax \u001b[39m=\u001b[39m boxplot(\n\u001b[0;32m    426\u001b[0m         \u001b[39mself\u001b[39m,\n\u001b[0;32m    427\u001b[0m         column\u001b[39m=\u001b[39mcolumn,\n\u001b[0;32m    428\u001b[0m         by\u001b[39m=\u001b[39mby,\n\u001b[0;32m    429\u001b[0m         ax\u001b[39m=\u001b[39max,\n\u001b[0;32m    430\u001b[0m         fontsize\u001b[39m=\u001b[39mfontsize,\n\u001b[0;32m    431\u001b[0m         grid\u001b[39m=\u001b[39mgrid,\n\u001b[0;32m    432\u001b[0m         rot\u001b[39m=\u001b[39mrot,\n\u001b[0;32m    433\u001b[0m         figsize\u001b[39m=\u001b[39mfigsize,\n\u001b[0;32m    434\u001b[0m         layout\u001b[39m=\u001b[39mlayout,\n\u001b[0;32m    435\u001b[0m         return_type\u001b[39m=\u001b[39mreturn_type,\n\u001b[0;32m    436\u001b[0m         \u001b[39m*\u001b[39m\u001b[39m*\u001b[39mkwds,\n\u001b[0;32m    437\u001b[0m     )\n\u001b[0;32m    438\u001b[0m     plt\u001b[39m.\u001b[39mdraw_if_interactive()\n\u001b[0;32m    439\u001b[0m     \u001b[39mreturn\u001b[39;00m ax\n",
            "File \u001b[1;32mc:\\Users\\iqbal\\AppData\\Local\\Programs\\Python\\Python310\\lib\\site-packages\\pandas\\plotting\\_matplotlib\\boxplot.py:404\u001b[0m, in \u001b[0;36mboxplot\u001b[1;34m(data, column, by, ax, fontsize, rot, grid, figsize, layout, return_type, **kwds)\u001b[0m\n\u001b[0;32m    401\u001b[0m     \u001b[39melse\u001b[39;00m:\n\u001b[0;32m    402\u001b[0m         data \u001b[39m=\u001b[39m data[columns]\n\u001b[1;32m--> 404\u001b[0m     result \u001b[39m=\u001b[39m plot_group(columns, data\u001b[39m.\u001b[39;49mvalues\u001b[39m.\u001b[39;49mT, ax)\n\u001b[0;32m    405\u001b[0m     ax\u001b[39m.\u001b[39mgrid(grid)\n\u001b[0;32m    407\u001b[0m \u001b[39mreturn\u001b[39;00m result\n",
            "File \u001b[1;32mc:\\Users\\iqbal\\AppData\\Local\\Programs\\Python\\Python310\\lib\\site-packages\\pandas\\plotting\\_matplotlib\\boxplot.py:349\u001b[0m, in \u001b[0;36mboxplot.<locals>.plot_group\u001b[1;34m(keys, values, ax)\u001b[0m\n\u001b[0;32m    347\u001b[0m     ax\u001b[39m.\u001b[39mset_xticklabels(keys, rotation\u001b[39m=\u001b[39mrot)\n\u001b[0;32m    348\u001b[0m \u001b[39melse\u001b[39;00m:\n\u001b[1;32m--> 349\u001b[0m     ax\u001b[39m.\u001b[39;49mset_yticklabels(keys, rotation\u001b[39m=\u001b[39;49mrot)\n\u001b[0;32m    350\u001b[0m maybe_color_bp(bp, \u001b[39m*\u001b[39m\u001b[39m*\u001b[39mkwds)\n\u001b[0;32m    352\u001b[0m \u001b[39m# Return axes in multiplot case, maybe revisit later # 985\u001b[39;00m\n",
            "File \u001b[1;32mc:\\Users\\iqbal\\AppData\\Local\\Programs\\Python\\Python310\\lib\\site-packages\\matplotlib\\axes\\_base.py:73\u001b[0m, in \u001b[0;36m_axis_method_wrapper.__set_name__.<locals>.wrapper\u001b[1;34m(self, *args, **kwargs)\u001b[0m\n\u001b[0;32m     72\u001b[0m \u001b[39mdef\u001b[39;00m \u001b[39mwrapper\u001b[39m(\u001b[39mself\u001b[39m, \u001b[39m*\u001b[39margs, \u001b[39m*\u001b[39m\u001b[39m*\u001b[39mkwargs):\n\u001b[1;32m---> 73\u001b[0m     \u001b[39mreturn\u001b[39;00m get_method(\u001b[39mself\u001b[39m)(\u001b[39m*\u001b[39margs, \u001b[39m*\u001b[39m\u001b[39m*\u001b[39mkwargs)\n",
            "File \u001b[1;32mc:\\Users\\iqbal\\AppData\\Local\\Programs\\Python\\Python310\\lib\\site-packages\\matplotlib\\axis.py:1968\u001b[0m, in \u001b[0;36mAxis._set_ticklabels\u001b[1;34m(self, labels, fontdict, minor, **kwargs)\u001b[0m\n\u001b[0;32m   1966\u001b[0m \u001b[39mif\u001b[39;00m fontdict \u001b[39mis\u001b[39;00m \u001b[39mnot\u001b[39;00m \u001b[39mNone\u001b[39;00m:\n\u001b[0;32m   1967\u001b[0m     kwargs\u001b[39m.\u001b[39mupdate(fontdict)\n\u001b[1;32m-> 1968\u001b[0m \u001b[39mreturn\u001b[39;00m \u001b[39mself\u001b[39m\u001b[39m.\u001b[39mset_ticklabels(labels, minor\u001b[39m=\u001b[39mminor, \u001b[39m*\u001b[39m\u001b[39m*\u001b[39mkwargs)\n",
            "File \u001b[1;32mc:\\Users\\iqbal\\AppData\\Local\\Programs\\Python\\Python310\\lib\\site-packages\\matplotlib\\axis.py:1890\u001b[0m, in \u001b[0;36mAxis.set_ticklabels\u001b[1;34m(self, ticklabels, minor, **kwargs)\u001b[0m\n\u001b[0;32m   1886\u001b[0m \u001b[39mif\u001b[39;00m \u001b[39misinstance\u001b[39m(locator, mticker\u001b[39m.\u001b[39mFixedLocator):\n\u001b[0;32m   1887\u001b[0m     \u001b[39m# Passing [] as a list of ticklabels is often used as a way to\u001b[39;00m\n\u001b[0;32m   1888\u001b[0m     \u001b[39m# remove all tick labels, so only error for > 0 ticklabels\u001b[39;00m\n\u001b[0;32m   1889\u001b[0m     \u001b[39mif\u001b[39;00m \u001b[39mlen\u001b[39m(locator\u001b[39m.\u001b[39mlocs) \u001b[39m!=\u001b[39m \u001b[39mlen\u001b[39m(ticklabels) \u001b[39mand\u001b[39;00m \u001b[39mlen\u001b[39m(ticklabels) \u001b[39m!=\u001b[39m \u001b[39m0\u001b[39m:\n\u001b[1;32m-> 1890\u001b[0m         \u001b[39mraise\u001b[39;00m \u001b[39mValueError\u001b[39;00m(\n\u001b[0;32m   1891\u001b[0m             \u001b[39m\"\u001b[39m\u001b[39mThe number of FixedLocator locations\u001b[39m\u001b[39m\"\u001b[39m\n\u001b[0;32m   1892\u001b[0m             \u001b[39mf\u001b[39m\u001b[39m\"\u001b[39m\u001b[39m (\u001b[39m\u001b[39m{\u001b[39;00m\u001b[39mlen\u001b[39m(locator\u001b[39m.\u001b[39mlocs)\u001b[39m}\u001b[39;00m\u001b[39m), usually from a call to\u001b[39m\u001b[39m\"\u001b[39m\n\u001b[0;32m   1893\u001b[0m             \u001b[39m\"\u001b[39m\u001b[39m set_ticks, does not match\u001b[39m\u001b[39m\"\u001b[39m\n\u001b[0;32m   1894\u001b[0m             \u001b[39mf\u001b[39m\u001b[39m\"\u001b[39m\u001b[39m the number of ticklabels (\u001b[39m\u001b[39m{\u001b[39;00m\u001b[39mlen\u001b[39m(ticklabels)\u001b[39m}\u001b[39;00m\u001b[39m).\u001b[39m\u001b[39m\"\u001b[39m)\n\u001b[0;32m   1895\u001b[0m     tickd \u001b[39m=\u001b[39m {loc: lab \u001b[39mfor\u001b[39;00m loc, lab \u001b[39min\u001b[39;00m \u001b[39mzip\u001b[39m(locator\u001b[39m.\u001b[39mlocs, ticklabels)}\n\u001b[0;32m   1896\u001b[0m     func \u001b[39m=\u001b[39m functools\u001b[39m.\u001b[39mpartial(\u001b[39mself\u001b[39m\u001b[39m.\u001b[39m_format_with_dict, tickd)\n",
            "\u001b[1;31mValueError\u001b[0m: The number of FixedLocator locations (68), usually from a call to set_ticks, does not match the number of ticklabels (4)."
          ]
        }
      ],
      "source": [
        "# mengecek keberadaan outlier\n",
        "dataIris_noDuplicate.boxplot(vert=False,figsize=(50,50))"
      ]
    },
    {
      "cell_type": "markdown",
      "metadata": {
        "id": "B4h1O_myVbXU"
      },
      "source": [
        "Pada boxplot diatas, terlihat bahwa jumlah outlier tidak terlalu banyak. Data juga cenderung normal, sehingga tidak perlu lagi penanganan terhadap outlier."
      ]
    },
    {
      "cell_type": "code",
      "execution_count": 25,
      "metadata": {
        "id": "Q4ehPdrMVbXU"
      },
      "outputs": [],
      "source": [
        "import matplotlib.pyplot as plt\n",
        "import seaborn as sns\n",
        "sns.set()"
      ]
    },
    {
      "cell_type": "code",
      "execution_count": 26,
      "metadata": {
        "id": "L8xNxtvTVbXU"
      },
      "outputs": [],
      "source": [
        "cleanData = dataIris_noDuplicate.copy()"
      ]
    },
    {
      "cell_type": "code",
      "execution_count": 27,
      "metadata": {
        "id": "AoTC6LbSVbXU",
        "outputId": "474494fa-ddd9-4152-eb08-201645be1232"
      },
      "outputs": [
        {
          "data": {
            "text/plain": [
              "<seaborn.axisgrid.PairGrid at 0x248c9584250>"
            ]
          },
          "execution_count": 27,
          "metadata": {},
          "output_type": "execute_result"
        }
      ],
      "source": [
        "# menampilkan plot data yang sudah bersih\n",
        "sns.pairplot(cleanData,hue ='Species')"
      ]
    },
    {
      "cell_type": "markdown",
      "metadata": {
        "id": "8hcuyBisVbXU"
      },
      "source": [
        "Berdasarkan plot diatas, terlihat bahwa distribusi nilai pada ketiga species hampir mendekati normal. Walaupun ada beberapa yang terlihat seperti bimodal, masih tetap bisa ditoleransi."
      ]
    },
    {
      "cell_type": "markdown",
      "metadata": {
        "id": "THtuWTxgVbXV"
      },
      "source": [
        "### Menentukan dependent variable dan independent variables"
      ]
    },
    {
      "cell_type": "markdown",
      "metadata": {
        "id": "F95EKo8dVbXV"
      },
      "source": [
        "Karena target prediksi kita disini adalah <b>species</b>, maka variable species akan menjadi variable dependent dan variable yang lainnya akan menjadi variable independent."
      ]
    },
    {
      "cell_type": "markdown",
      "metadata": {
        "id": "UM3SbkaTVbXV"
      },
      "source": [
        "Sebelum menentukan independent variables atau features yang akan kita gunakan pada model, kita akan melakukan feature selection terlebih dahulu untuk memilih variable-variable terbaik. Karena data <b>feature</b> kita bersifat numerik atau kontinuos, dan data target kita kategorik, maka kita akan memilih strategi <b> ANOVA </b> atau analysis of variance dalam melakukan feature selection. Berikut adalah contohnya. \n",
        "\n",
        "Referensi : <br>\n",
        "https://scikit-learn.org/stable/modules/generated/sklearn.feature_selection.SelectKBest.html#sklearn.feature_selection.SelectKBest"
      ]
    },
    {
      "cell_type": "code",
      "execution_count": 28,
      "metadata": {
        "id": "boJvHeOqVbXV",
        "outputId": "386f133f-856b-4264-f54f-1adc417600c1"
      },
      "outputs": [
        {
          "data": {
            "text/html": [
              "<div>\n",
              "<style scoped>\n",
              "    .dataframe tbody tr th:only-of-type {\n",
              "        vertical-align: middle;\n",
              "    }\n",
              "\n",
              "    .dataframe tbody tr th {\n",
              "        vertical-align: top;\n",
              "    }\n",
              "\n",
              "    .dataframe thead th {\n",
              "        text-align: right;\n",
              "    }\n",
              "</style>\n",
              "<table border=\"1\" class=\"dataframe\">\n",
              "  <thead>\n",
              "    <tr style=\"text-align: right;\">\n",
              "      <th></th>\n",
              "      <th>SepalLengthCm</th>\n",
              "      <th>SepalWidthCm</th>\n",
              "      <th>PetalLengthCm</th>\n",
              "      <th>PetalWidthCm</th>\n",
              "      <th>Species</th>\n",
              "    </tr>\n",
              "  </thead>\n",
              "  <tbody>\n",
              "    <tr>\n",
              "      <th>0</th>\n",
              "      <td>5.1</td>\n",
              "      <td>3.5</td>\n",
              "      <td>1.4</td>\n",
              "      <td>0.2</td>\n",
              "      <td>0</td>\n",
              "    </tr>\n",
              "    <tr>\n",
              "      <th>1</th>\n",
              "      <td>4.9</td>\n",
              "      <td>3.0</td>\n",
              "      <td>1.4</td>\n",
              "      <td>0.2</td>\n",
              "      <td>0</td>\n",
              "    </tr>\n",
              "    <tr>\n",
              "      <th>2</th>\n",
              "      <td>4.7</td>\n",
              "      <td>3.2</td>\n",
              "      <td>1.3</td>\n",
              "      <td>0.2</td>\n",
              "      <td>0</td>\n",
              "    </tr>\n",
              "    <tr>\n",
              "      <th>3</th>\n",
              "      <td>4.6</td>\n",
              "      <td>3.1</td>\n",
              "      <td>1.5</td>\n",
              "      <td>0.2</td>\n",
              "      <td>0</td>\n",
              "    </tr>\n",
              "    <tr>\n",
              "      <th>4</th>\n",
              "      <td>5.0</td>\n",
              "      <td>3.6</td>\n",
              "      <td>1.4</td>\n",
              "      <td>0.2</td>\n",
              "      <td>0</td>\n",
              "    </tr>\n",
              "  </tbody>\n",
              "</table>\n",
              "</div>"
            ],
            "text/plain": [
              "   SepalLengthCm  SepalWidthCm  PetalLengthCm  PetalWidthCm  Species\n",
              "0            5.1           3.5            1.4           0.2        0\n",
              "1            4.9           3.0            1.4           0.2        0\n",
              "2            4.7           3.2            1.3           0.2        0\n",
              "3            4.6           3.1            1.5           0.2        0\n",
              "4            5.0           3.6            1.4           0.2        0"
            ]
          },
          "execution_count": 28,
          "metadata": {},
          "output_type": "execute_result"
        }
      ],
      "source": [
        "# encode target terlebih dahulu menjadi numerik dengan natural progression (label encoder)\n",
        "\n",
        "# menggunakan label encoder\n",
        "from sklearn.preprocessing import LabelEncoder\n",
        "le = LabelEncoder()\n",
        "\n",
        "cleanData[\"Species\"] = le.fit_transform(cleanData[\"Species\"])\n",
        "cleanData.head()"
      ]
    },
    {
      "cell_type": "code",
      "execution_count": 29,
      "metadata": {
        "id": "xqFPzkPWVbXV"
      },
      "outputs": [],
      "source": [
        "X_raw = cleanData.drop([\"Species\"],axis=1)\n",
        "y = cleanData[\"Species\"]"
      ]
    },
    {
      "cell_type": "code",
      "execution_count": 30,
      "metadata": {
        "id": "A_N0ncENVbXW"
      },
      "outputs": [],
      "source": [
        "from sklearn.feature_selection import SelectKBest\n",
        "from sklearn.feature_selection import f_classif"
      ]
    },
    {
      "cell_type": "markdown",
      "metadata": {
        "id": "MrhbFKS8VbXW"
      },
      "source": [
        "Kita akan memilih 2 variable terbaik dari independent variable kita untuk dilatih pada model. Berikut adalah contoh code-nya."
      ]
    },
    {
      "cell_type": "code",
      "execution_count": 31,
      "metadata": {
        "id": "ATqTGhj3VbXW"
      },
      "outputs": [],
      "source": [
        "selector = SelectKBest(f_classif, k=2) # kita akan memilih 2 variable terbaik dari features kita\n",
        "X = selector.fit_transform(X_raw, y)"
      ]
    },
    {
      "cell_type": "markdown",
      "metadata": {
        "id": "_Pt3RnA2VbXW"
      },
      "source": [
        "<i> Note </i> : <br>\n",
        "Perhatikan, pemilihan feature harus dilakukan secara terus menerus atau berulang dengan memperbaiki tahap sebelumnya. Jika teman-teman ingin mendapatkan model terbaik, teman-teman harus terus melakukan tahapan ini hingga teman-teman mendapatkan model yang terbaik."
      ]
    },
    {
      "cell_type": "code",
      "execution_count": 32,
      "metadata": {
        "id": "3txSXfvdVbXW",
        "outputId": "55b51add-231c-408f-f8ae-261a5f614cd4"
      },
      "outputs": [
        {
          "name": "stdout",
          "output_type": "stream",
          "text": [
            "Jumlah feature (sebelum dilakukan feature selection ) : 4\n",
            "Jumlah feature (setelah dilakukan feature selection ) : 2\n"
          ]
        }
      ],
      "source": [
        "print(\"Jumlah feature (sebelum dilakukan feature selection ) :\", X_raw.shape[1])\n",
        "print(\"Jumlah feature (setelah dilakukan feature selection ) :\", X.shape[1])"
      ]
    },
    {
      "cell_type": "code",
      "execution_count": 33,
      "metadata": {
        "id": "REXYZJ96VbXW",
        "outputId": "7886fffd-9079-4e5e-e3b1-99a6fae3ed1c"
      },
      "outputs": [
        {
          "data": {
            "text/plain": [
              "array(['PetalLengthCm', 'PetalWidthCm'], dtype=object)"
            ]
          },
          "execution_count": 33,
          "metadata": {},
          "output_type": "execute_result"
        }
      ],
      "source": [
        "input_features = selector.feature_names_in_\n",
        "selector.get_feature_names_out(input_features=input_features)"
      ]
    },
    {
      "cell_type": "markdown",
      "metadata": {
        "id": "MJPP2QU6VbXX"
      },
      "source": [
        "Diatas adalah detail feature apa saja yang kita ambil."
      ]
    },
    {
      "cell_type": "markdown",
      "metadata": {
        "id": "UdkWlqxpVbXX"
      },
      "source": [
        "Selanjutnya, kita akan membagi dataset menjadi testing dan training dengan ukuran yang sama pada proses Naive Bayes. Berikut adalah caranya."
      ]
    },
    {
      "cell_type": "code",
      "execution_count": 34,
      "metadata": {
        "id": "CMEMXS8kVbXX"
      },
      "outputs": [],
      "source": [
        "X_train, X_test, y_train, y_test = train_test_split(X, y, test_size = 0.2, stratify=y,random_state = 123)"
      ]
    },
    {
      "cell_type": "markdown",
      "metadata": {
        "id": "9nDoqBPSVbXX"
      },
      "source": [
        "### Standarization"
      ]
    },
    {
      "cell_type": "markdown",
      "metadata": {
        "id": "3OjSQ021VbXX"
      },
      "source": [
        "Sebelum melakukan KNN, kita perlu standarisasi nilai independent variables kita. Hal ini <b>cukup penting</b> dilakukan dalam KNN, karena range nilai yang berbeda-beda dapat mengganggu perhitungan jarak ketika algoritma dijalankan. \n",
        "\n",
        "Pada tahapan ini, kita akan memilih menggunakan min max scaler saja, berikut adalah caranya."
      ]
    },
    {
      "cell_type": "code",
      "execution_count": 35,
      "metadata": {
        "id": "qqDZq13vVbXX"
      },
      "outputs": [],
      "source": [
        "from sklearn.preprocessing import MinMaxScaler\n",
        "\n",
        "scaler = MinMaxScaler()"
      ]
    },
    {
      "cell_type": "code",
      "execution_count": 36,
      "metadata": {
        "id": "5_60kgblVbXX"
      },
      "outputs": [],
      "source": [
        "X_train_scaled = scaler.fit_transform(X_train) # training\n",
        "X_test_scaled = scaler.transform(X_test) # testing"
      ]
    },
    {
      "cell_type": "markdown",
      "metadata": {
        "id": "4QjIT6eAVbXY"
      },
      "source": [
        "### Melatih Model"
      ]
    },
    {
      "cell_type": "code",
      "execution_count": 37,
      "metadata": {
        "id": "by2N5yEhVbXY",
        "outputId": "f2013f08-e6c4-4cb4-b8ba-3ea4643dab7a"
      },
      "outputs": [
        {
          "data": {
            "text/html": [
              "<style>#sk-container-id-2 {color: black;background-color: white;}#sk-container-id-2 pre{padding: 0;}#sk-container-id-2 div.sk-toggleable {background-color: white;}#sk-container-id-2 label.sk-toggleable__label {cursor: pointer;display: block;width: 100%;margin-bottom: 0;padding: 0.3em;box-sizing: border-box;text-align: center;}#sk-container-id-2 label.sk-toggleable__label-arrow:before {content: \"▸\";float: left;margin-right: 0.25em;color: #696969;}#sk-container-id-2 label.sk-toggleable__label-arrow:hover:before {color: black;}#sk-container-id-2 div.sk-estimator:hover label.sk-toggleable__label-arrow:before {color: black;}#sk-container-id-2 div.sk-toggleable__content {max-height: 0;max-width: 0;overflow: hidden;text-align: left;background-color: #f0f8ff;}#sk-container-id-2 div.sk-toggleable__content pre {margin: 0.2em;color: black;border-radius: 0.25em;background-color: #f0f8ff;}#sk-container-id-2 input.sk-toggleable__control:checked~div.sk-toggleable__content {max-height: 200px;max-width: 100%;overflow: auto;}#sk-container-id-2 input.sk-toggleable__control:checked~label.sk-toggleable__label-arrow:before {content: \"▾\";}#sk-container-id-2 div.sk-estimator input.sk-toggleable__control:checked~label.sk-toggleable__label {background-color: #d4ebff;}#sk-container-id-2 div.sk-label input.sk-toggleable__control:checked~label.sk-toggleable__label {background-color: #d4ebff;}#sk-container-id-2 input.sk-hidden--visually {border: 0;clip: rect(1px 1px 1px 1px);clip: rect(1px, 1px, 1px, 1px);height: 1px;margin: -1px;overflow: hidden;padding: 0;position: absolute;width: 1px;}#sk-container-id-2 div.sk-estimator {font-family: monospace;background-color: #f0f8ff;border: 1px dotted black;border-radius: 0.25em;box-sizing: border-box;margin-bottom: 0.5em;}#sk-container-id-2 div.sk-estimator:hover {background-color: #d4ebff;}#sk-container-id-2 div.sk-parallel-item::after {content: \"\";width: 100%;border-bottom: 1px solid gray;flex-grow: 1;}#sk-container-id-2 div.sk-label:hover label.sk-toggleable__label {background-color: #d4ebff;}#sk-container-id-2 div.sk-serial::before {content: \"\";position: absolute;border-left: 1px solid gray;box-sizing: border-box;top: 0;bottom: 0;left: 50%;z-index: 0;}#sk-container-id-2 div.sk-serial {display: flex;flex-direction: column;align-items: center;background-color: white;padding-right: 0.2em;padding-left: 0.2em;position: relative;}#sk-container-id-2 div.sk-item {position: relative;z-index: 1;}#sk-container-id-2 div.sk-parallel {display: flex;align-items: stretch;justify-content: center;background-color: white;position: relative;}#sk-container-id-2 div.sk-item::before, #sk-container-id-2 div.sk-parallel-item::before {content: \"\";position: absolute;border-left: 1px solid gray;box-sizing: border-box;top: 0;bottom: 0;left: 50%;z-index: -1;}#sk-container-id-2 div.sk-parallel-item {display: flex;flex-direction: column;z-index: 1;position: relative;background-color: white;}#sk-container-id-2 div.sk-parallel-item:first-child::after {align-self: flex-end;width: 50%;}#sk-container-id-2 div.sk-parallel-item:last-child::after {align-self: flex-start;width: 50%;}#sk-container-id-2 div.sk-parallel-item:only-child::after {width: 0;}#sk-container-id-2 div.sk-dashed-wrapped {border: 1px dashed gray;margin: 0 0.4em 0.5em 0.4em;box-sizing: border-box;padding-bottom: 0.4em;background-color: white;}#sk-container-id-2 div.sk-label label {font-family: monospace;font-weight: bold;display: inline-block;line-height: 1.2em;}#sk-container-id-2 div.sk-label-container {text-align: center;}#sk-container-id-2 div.sk-container {/* jupyter's `normalize.less` sets `[hidden] { display: none; }` but bootstrap.min.css set `[hidden] { display: none !important; }` so we also need the `!important` here to be able to override the default hidden behavior on the sphinx rendered scikit-learn.org. See: https://github.com/scikit-learn/scikit-learn/issues/21755 */display: inline-block !important;position: relative;}#sk-container-id-2 div.sk-text-repr-fallback {display: none;}</style><div id=\"sk-container-id-2\" class=\"sk-top-container\"><div class=\"sk-text-repr-fallback\"><pre>KNeighborsClassifier()</pre><b>In a Jupyter environment, please rerun this cell to show the HTML representation or trust the notebook. <br />On GitHub, the HTML representation is unable to render, please try loading this page with nbviewer.org.</b></div><div class=\"sk-container\" hidden><div class=\"sk-item\"><div class=\"sk-estimator sk-toggleable\"><input class=\"sk-toggleable__control sk-hidden--visually\" id=\"sk-estimator-id-2\" type=\"checkbox\" checked><label for=\"sk-estimator-id-2\" class=\"sk-toggleable__label sk-toggleable__label-arrow\">KNeighborsClassifier</label><div class=\"sk-toggleable__content\"><pre>KNeighborsClassifier()</pre></div></div></div></div></div>"
            ],
            "text/plain": [
              "KNeighborsClassifier()"
            ]
          },
          "execution_count": 37,
          "metadata": {},
          "output_type": "execute_result"
        }
      ],
      "source": [
        "# import KNN\n",
        "from sklearn.neighbors import KNeighborsClassifier\n",
        "\n",
        "KNN = KNeighborsClassifier(n_neighbors=5) # kita akan menggunakan nilai 5 untuk k terlebih dahulu\n",
        "KNN.fit(X_train_scaled,y_train)"
      ]
    },
    {
      "cell_type": "code",
      "execution_count": 38,
      "metadata": {
        "id": "NinLSOUjVbXY",
        "outputId": "6bfa4b65-1fc2-4f26-e44c-e52d141087c5"
      },
      "outputs": [
        {
          "data": {
            "text/plain": [
              "array([0, 2, 2, 1, 0, 1, 2, 0, 1, 0, 1, 2, 0, 0, 1, 2, 2, 1, 1, 1, 1, 2,\n",
              "       0, 2, 0, 1, 1, 0, 1, 0])"
            ]
          },
          "execution_count": 38,
          "metadata": {},
          "output_type": "execute_result"
        }
      ],
      "source": [
        "y_pred = KNN.predict(X_test_scaled)\n",
        "y_pred"
      ]
    },
    {
      "cell_type": "code",
      "execution_count": 39,
      "metadata": {
        "id": "T4r1ye2KVbXY",
        "outputId": "38f4bb41-b260-4a16-d6eb-2ed8a5174eab"
      },
      "outputs": [
        {
          "name": "stdout",
          "output_type": "stream",
          "text": [
            "Hasil Evaluasi berdasarkan classification report \n",
            "\n",
            "              precision    recall  f1-score   support\n",
            "\n",
            "           0       1.00      1.00      1.00        10\n",
            "           1       0.83      1.00      0.91        10\n",
            "           2       1.00      0.80      0.89        10\n",
            "\n",
            "    accuracy                           0.93        30\n",
            "   macro avg       0.94      0.93      0.93        30\n",
            "weighted avg       0.94      0.93      0.93        30\n",
            "\n",
            "\n",
            "\n",
            "Confusion Matrix\n",
            "\n"
          ]
        },
        {
          "data": {
            "text/html": [
              "<div>\n",
              "<style scoped>\n",
              "    .dataframe tbody tr th:only-of-type {\n",
              "        vertical-align: middle;\n",
              "    }\n",
              "\n",
              "    .dataframe tbody tr th {\n",
              "        vertical-align: top;\n",
              "    }\n",
              "\n",
              "    .dataframe thead th {\n",
              "        text-align: right;\n",
              "    }\n",
              "</style>\n",
              "<table border=\"1\" class=\"dataframe\">\n",
              "  <thead>\n",
              "    <tr style=\"text-align: right;\">\n",
              "      <th>prediction</th>\n",
              "      <th>0</th>\n",
              "      <th>1</th>\n",
              "      <th>2</th>\n",
              "    </tr>\n",
              "    <tr>\n",
              "      <th>actual</th>\n",
              "      <th></th>\n",
              "      <th></th>\n",
              "      <th></th>\n",
              "    </tr>\n",
              "  </thead>\n",
              "  <tbody>\n",
              "    <tr>\n",
              "      <th>0</th>\n",
              "      <td>10</td>\n",
              "      <td>0</td>\n",
              "      <td>0</td>\n",
              "    </tr>\n",
              "    <tr>\n",
              "      <th>1</th>\n",
              "      <td>0</td>\n",
              "      <td>10</td>\n",
              "      <td>0</td>\n",
              "    </tr>\n",
              "    <tr>\n",
              "      <th>2</th>\n",
              "      <td>0</td>\n",
              "      <td>2</td>\n",
              "      <td>8</td>\n",
              "    </tr>\n",
              "  </tbody>\n",
              "</table>\n",
              "</div>"
            ],
            "text/plain": [
              "prediction   0   1  2\n",
              "actual               \n",
              "0           10   0  0\n",
              "1            0  10  0\n",
              "2            0   2  8"
            ]
          },
          "metadata": {},
          "output_type": "display_data"
        },
        {
          "name": "stdout",
          "output_type": "stream",
          "text": [
            "\n",
            "\n",
            "Butuh informasi lebih lengkap? silakan simak di bawah ini : \n",
            "F1 Macro Average: 0.9326599326599326\n",
            "F1 Micro Average: 0.9333333333333333\n",
            "Precision Macro Average: 0.9444444444444445\n",
            "Precision Micro Average: 0.9333333333333333\n",
            "Recall Macro Average: 0.9333333333333332\n",
            "Recall Micro Average: 0.9333333333333333\n",
            "\n"
          ]
        }
      ],
      "source": [
        "evaluate_classifier_performance(y_pred,y_test)"
      ]
    },
    {
      "cell_type": "markdown",
      "metadata": {
        "id": "QdWajm2OteuE"
      },
      "source": [
        "Berdasarkan hasil evaluasi diatas, terlihat bahwa nilai akurasi model kita sudah sangat baik. Selain itu, nilai F1 baik macro dan micro juga terlihat sudah sangat baik. Model jauh dari kemungkinan terjadi false positive dan juga false negative."
      ]
    },
    {
      "cell_type": "markdown",
      "metadata": {
        "id": "ZPCBy13CVbXZ"
      },
      "source": [
        "### Hyperparameter Tuning"
      ]
    },
    {
      "cell_type": "markdown",
      "metadata": {
        "id": "lyEIL8ScVbXZ"
      },
      "source": [
        "Seperti yang sudah dikatakan sebelumnya, dalam memilih nilai K yang terbaik kita perlu melakukan cross validation. Kita akan melakukan hal ini dengan hyperparameter tuning menggunakan bantuan grid search cv. Scoring yang akan kita gunakan pada fase tuning adalah accuracy, artinya adalah kita akan mengambil parameter terbaik yang memberikan nilai akurasi terbaik. Berikut adalah contohnya."
      ]
    },
    {
      "cell_type": "code",
      "execution_count": 40,
      "metadata": {
        "id": "qwFgnSEfVbXZ",
        "outputId": "9a542932-98c6-478d-da69-86cbd5642e62"
      },
      "outputs": [
        {
          "name": "stdout",
          "output_type": "stream",
          "text": [
            "##### Tuning hyper-parameters model KNN #####\n",
            "\n",
            "Fitting 5 folds for each of 5 candidates, totalling 25 fits\n",
            "[CV] END ......................................n_neighbors=1; total time=   0.0s\n",
            "[CV] END ......................................n_neighbors=1; total time=   0.0s\n",
            "[CV] END ......................................n_neighbors=1; total time=   0.0s\n",
            "[CV] END ......................................n_neighbors=1; total time=   0.0s\n",
            "[CV] END ......................................n_neighbors=1; total time=   0.0s\n",
            "[CV] END ......................................n_neighbors=2; total time=   0.0s\n",
            "[CV] END ......................................n_neighbors=2; total time=   0.0s\n",
            "[CV] END ......................................n_neighbors=2; total time=   0.0s\n",
            "[CV] END ......................................n_neighbors=2; total time=   0.0s\n",
            "[CV] END ......................................n_neighbors=2; total time=   0.0s\n",
            "[CV] END ......................................n_neighbors=3; total time=   0.0s\n",
            "[CV] END ......................................n_neighbors=3; total time=   0.0s\n",
            "[CV] END ......................................n_neighbors=3; total time=   0.0s\n",
            "[CV] END ......................................n_neighbors=3; total time=   0.0s\n",
            "[CV] END ......................................n_neighbors=3; total time=   0.0s\n",
            "[CV] END ......................................n_neighbors=4; total time=   0.0s\n",
            "[CV] END ......................................n_neighbors=4; total time=   0.0s\n",
            "[CV] END ......................................n_neighbors=4; total time=   0.0s\n",
            "[CV] END ......................................n_neighbors=4; total time=   0.0s\n",
            "[CV] END ......................................n_neighbors=4; total time=   0.0s\n",
            "[CV] END ......................................n_neighbors=5; total time=   0.0s\n",
            "[CV] END ......................................n_neighbors=5; total time=   0.0s\n",
            "[CV] END ......................................n_neighbors=5; total time=   0.0s\n",
            "[CV] END ......................................n_neighbors=5; total time=   0.0s\n",
            "[CV] END ......................................n_neighbors=5; total time=   0.0s\n",
            "Best parameters set found on development set:\n",
            "\n",
            "{'n_neighbors': 3}\n",
            "\n",
            "Detailed classification report:\n",
            "\n",
            "Hasil Evaluasi berdasarkan classification report \n",
            "\n",
            "              precision    recall  f1-score   support\n",
            "\n",
            "           0       1.00      1.00      1.00        10\n",
            "           1       0.83      1.00      0.91        10\n",
            "           2       1.00      0.80      0.89        10\n",
            "\n",
            "    accuracy                           0.93        30\n",
            "   macro avg       0.94      0.93      0.93        30\n",
            "weighted avg       0.94      0.93      0.93        30\n",
            "\n",
            "\n",
            "\n",
            "Confusion Matrix\n",
            "\n"
          ]
        },
        {
          "data": {
            "text/html": [
              "<div>\n",
              "<style scoped>\n",
              "    .dataframe tbody tr th:only-of-type {\n",
              "        vertical-align: middle;\n",
              "    }\n",
              "\n",
              "    .dataframe tbody tr th {\n",
              "        vertical-align: top;\n",
              "    }\n",
              "\n",
              "    .dataframe thead th {\n",
              "        text-align: right;\n",
              "    }\n",
              "</style>\n",
              "<table border=\"1\" class=\"dataframe\">\n",
              "  <thead>\n",
              "    <tr style=\"text-align: right;\">\n",
              "      <th>prediction</th>\n",
              "      <th>0</th>\n",
              "      <th>1</th>\n",
              "      <th>2</th>\n",
              "    </tr>\n",
              "    <tr>\n",
              "      <th>actual</th>\n",
              "      <th></th>\n",
              "      <th></th>\n",
              "      <th></th>\n",
              "    </tr>\n",
              "  </thead>\n",
              "  <tbody>\n",
              "    <tr>\n",
              "      <th>0</th>\n",
              "      <td>10</td>\n",
              "      <td>0</td>\n",
              "      <td>0</td>\n",
              "    </tr>\n",
              "    <tr>\n",
              "      <th>1</th>\n",
              "      <td>0</td>\n",
              "      <td>10</td>\n",
              "      <td>0</td>\n",
              "    </tr>\n",
              "    <tr>\n",
              "      <th>2</th>\n",
              "      <td>0</td>\n",
              "      <td>2</td>\n",
              "      <td>8</td>\n",
              "    </tr>\n",
              "  </tbody>\n",
              "</table>\n",
              "</div>"
            ],
            "text/plain": [
              "prediction   0   1  2\n",
              "actual               \n",
              "0           10   0  0\n",
              "1            0  10  0\n",
              "2            0   2  8"
            ]
          },
          "metadata": {},
          "output_type": "display_data"
        },
        {
          "name": "stdout",
          "output_type": "stream",
          "text": [
            "\n",
            "\n",
            "Butuh informasi lebih lengkap? silakan simak di bawah ini : \n",
            "F1 Macro Average: 0.9326599326599326\n",
            "F1 Micro Average: 0.9333333333333333\n",
            "Precision Macro Average: 0.9444444444444445\n",
            "Precision Micro Average: 0.9333333333333333\n",
            "Recall Macro Average: 0.9333333333333332\n",
            "Recall Micro Average: 0.9333333333333333\n",
            "\n",
            "\n"
          ]
        }
      ],
      "source": [
        "# Optimalisasi KNN dengan gridsearch CV\n",
        "\n",
        "# import Grid Search CV\n",
        "from sklearn.model_selection import GridSearchCV\n",
        "\n",
        "model = KNeighborsClassifier()\n",
        "\n",
        "# parameter yang akan di tunning\n",
        "tunned_params = [\n",
        "  { \n",
        "    'n_neighbors': [1,2,3,4,5]\n",
        "  } \n",
        "]\n",
        "\n",
        "print(\"##### Tuning hyper-parameters model KNN #####\")\n",
        "print()\n",
        "\n",
        "clfKNN = GridSearchCV(model, \n",
        "                    tunned_params,\n",
        "                     scoring=\"accuracy\",\n",
        "                    cv=5,\n",
        "                   verbose = 2\n",
        "                    )\n",
        "\n",
        "clfKNN.fit(X_train_scaled, y_train)\n",
        "\n",
        "print(\"Best parameters set found on development set:\")\n",
        "print()\n",
        "print(clfKNN.best_params_)\n",
        "print()\n",
        "print(\"Detailed classification report:\")\n",
        "print()\n",
        "y_true, y_pred = y_test, clfKNN.predict(X_test_scaled)\n",
        "evaluate_classifier_performance(y_pred, y_true)\n",
        "print()"
      ]
    },
    {
      "cell_type": "markdown",
      "metadata": {
        "id": "2WK0FHIkVbXa"
      },
      "source": [
        "Berdasarkan hasil diatas, kita peroleh bahwa nilai k yang paling optimal adalah 3.\n",
        "\n",
        "Hyperparameter tuning untuk KNN tidak terbatas hanya untuk nilai k saja ya teman-teman. Kalian bisa menggunakan ini untuk menemukan nilai p terbaik atau metric terbaik yang digunakan pada model. Namun, tentunya kompleksitas tuning akan meningkat dan kalian pasti akan semakin lama menunggunya kelar :D\n",
        "\n",
        "Berdasarkan hasil diatas, model yang kita peroleh sudah optimal karena nilai akurasi yang hampir mendekati 1. Nilai F1 kita juga sudah diatas 90%, hal ini menandakan bahwa model kita memiliki nilai false positive dan false negative yang rendah.  "
      ]
    },
    {
      "cell_type": "markdown",
      "metadata": {
        "id": "1NB0EIssVbXa"
      },
      "source": [
        "# Latihan Soal"
      ]
    },
    {
      "cell_type": "markdown",
      "metadata": {
        "id": "gL0GUA18VbXa"
      },
      "source": [
        "Setelah mempelajari apa itu KNN dan Naive bayes beserta penerapannya pada scikit learn, mari kita latihan :D"
      ]
    },
    {
      "cell_type": "markdown",
      "metadata": {
        "id": "CwDXgS0KVbXa"
      },
      "source": [
        "## A. Pertanyaan Teoritis (Soal Pertama) [15]"
      ]
    },
    {
      "cell_type": "markdown",
      "metadata": {
        "id": "YOQB5ULrVbXa"
      },
      "source": [
        "### A. Soal Teoritis 1 [5]"
      ]
    },
    {
      "cell_type": "markdown",
      "metadata": {
        "id": "EPc8UyqqVbXb"
      },
      "source": [
        "Menurut teman-teman, bagaimana cara terbaik untuk memilih model naive bayes yang paling optimal? "
      ]
    },
    {
      "cell_type": "markdown",
      "metadata": {
        "id": "DJmqTGtpVbXb"
      },
      "source": [
        "> <b><i>Jawaban</i></b> : <br>\n",
        "Jawaba disini"
      ]
    },
    {
      "cell_type": "markdown",
      "metadata": {
        "id": "u-ORqCuOVbXc"
      },
      "source": [
        "> <b><i>Referensi</i></b> : <br>\n",
        "Referensi taro disini yaa, supaya asdos gampang nanti nilainya :D "
      ]
    },
    {
      "cell_type": "markdown",
      "metadata": {
        "id": "H_YazuYOVbXc"
      },
      "source": [
        "### B. Soal Teoritis 2 [5]"
      ]
    },
    {
      "cell_type": "markdown",
      "metadata": {
        "id": "-iJakk1HVbXc"
      },
      "source": [
        "Kenapa nilai K yang besar pada KNN dapat merusak aspek lokalitas ? Berikan pendapatmu dan sertakan sumber-sumber yang relevan jika teman-teman menggunakannya"
      ]
    },
    {
      "cell_type": "markdown",
      "metadata": {
        "id": "xFnCktH5VbXd"
      },
      "source": [
        "> <b><i>Jawaban</i></b> : <br>\n",
        "Jawab disini"
      ]
    },
    {
      "cell_type": "markdown",
      "metadata": {
        "id": "1v69sZtwVbXd"
      },
      "source": [
        "> <b><i>Referensi</i></b> : <br>\n",
        "Referensi taro disini yaa kalo ada, supaya asdos gampang nilainya :D"
      ]
    },
    {
      "cell_type": "markdown",
      "metadata": {
        "id": "ZZ90e-9DVbXd"
      },
      "source": [
        "### C. Soal Teoritis 3 [5]"
      ]
    },
    {
      "cell_type": "markdown",
      "metadata": {
        "id": "UGanuuj8VbXd"
      },
      "source": [
        "Jika teman-teman perhatikan, ketika kita melakukan standarisasi pada data training dan testing pada tahap KNN, method yang digunakan untuk standarisasi training dan testing berbeda ( yang satu menggunakan fit transform, yang satu menggunakan transform saja ). Jelaskan perbedaan kedua method tersebut dan berikan pendapat teman-teman apakah perlu kita melakukan hal tersebut?"
      ]
    },
    {
      "cell_type": "markdown",
      "metadata": {
        "id": "n5ZVGJmlVbXd"
      },
      "source": [
        "> <b><i>Jawaban</i></b> : <br>\n",
        "Jawab disini ya"
      ]
    },
    {
      "cell_type": "markdown",
      "metadata": {
        "id": "JhN1t25hVbXe"
      },
      "source": [
        "> <b><i>Referensi</i></b> : <br>\n",
        "Referensi taro disini yaa kalo ada, supaya asdos gampang nilainya :D"
      ]
    },
    {
      "cell_type": "markdown",
      "metadata": {
        "id": "HW7cG31IVbXe"
      },
      "source": [
        "## B. Latihan Implementasi [85]"
      ]
    },
    {
      "cell_type": "markdown",
      "metadata": {
        "id": "mAgMSyHFVbXe"
      },
      "source": [
        "Kita akan mencoba membuat model klasifikasi untuk kasus kanker payudara atau <i> breast cancer </i>, berikut adalah dataset nya."
      ]
    },
    {
      "cell_type": "code",
      "execution_count": 41,
      "metadata": {
        "id": "OC_SF0mxVbXe",
        "outputId": "762dee3d-6898-4c15-f43c-fb546a659cd3"
      },
      "outputs": [
        {
          "data": {
            "text/html": [
              "<div>\n",
              "<style scoped>\n",
              "    .dataframe tbody tr th:only-of-type {\n",
              "        vertical-align: middle;\n",
              "    }\n",
              "\n",
              "    .dataframe tbody tr th {\n",
              "        vertical-align: top;\n",
              "    }\n",
              "\n",
              "    .dataframe thead th {\n",
              "        text-align: right;\n",
              "    }\n",
              "</style>\n",
              "<table border=\"1\" class=\"dataframe\">\n",
              "  <thead>\n",
              "    <tr style=\"text-align: right;\">\n",
              "      <th></th>\n",
              "      <th>id</th>\n",
              "      <th>diagnosis</th>\n",
              "      <th>radius_mean</th>\n",
              "      <th>texture_mean</th>\n",
              "      <th>perimeter_mean</th>\n",
              "      <th>area_mean</th>\n",
              "      <th>smoothness_mean</th>\n",
              "      <th>compactness_mean</th>\n",
              "      <th>concavity_mean</th>\n",
              "      <th>concave points_mean</th>\n",
              "      <th>...</th>\n",
              "      <th>radius_worst</th>\n",
              "      <th>texture_worst</th>\n",
              "      <th>perimeter_worst</th>\n",
              "      <th>area_worst</th>\n",
              "      <th>smoothness_worst</th>\n",
              "      <th>compactness_worst</th>\n",
              "      <th>concavity_worst</th>\n",
              "      <th>concave points_worst</th>\n",
              "      <th>symmetry_worst</th>\n",
              "      <th>fractal_dimension_worst</th>\n",
              "    </tr>\n",
              "  </thead>\n",
              "  <tbody>\n",
              "    <tr>\n",
              "      <th>0</th>\n",
              "      <td>842302</td>\n",
              "      <td>M</td>\n",
              "      <td>17.99</td>\n",
              "      <td>10.38</td>\n",
              "      <td>122.80</td>\n",
              "      <td>1001.0</td>\n",
              "      <td>0.11840</td>\n",
              "      <td>0.27760</td>\n",
              "      <td>0.3001</td>\n",
              "      <td>0.14710</td>\n",
              "      <td>...</td>\n",
              "      <td>25.38</td>\n",
              "      <td>17.33</td>\n",
              "      <td>184.60</td>\n",
              "      <td>2019.0</td>\n",
              "      <td>0.1622</td>\n",
              "      <td>0.6656</td>\n",
              "      <td>0.7119</td>\n",
              "      <td>0.2654</td>\n",
              "      <td>0.4601</td>\n",
              "      <td>0.11890</td>\n",
              "    </tr>\n",
              "    <tr>\n",
              "      <th>1</th>\n",
              "      <td>842517</td>\n",
              "      <td>M</td>\n",
              "      <td>20.57</td>\n",
              "      <td>17.77</td>\n",
              "      <td>132.90</td>\n",
              "      <td>1326.0</td>\n",
              "      <td>0.08474</td>\n",
              "      <td>0.07864</td>\n",
              "      <td>0.0869</td>\n",
              "      <td>0.07017</td>\n",
              "      <td>...</td>\n",
              "      <td>24.99</td>\n",
              "      <td>23.41</td>\n",
              "      <td>158.80</td>\n",
              "      <td>1956.0</td>\n",
              "      <td>0.1238</td>\n",
              "      <td>0.1866</td>\n",
              "      <td>0.2416</td>\n",
              "      <td>0.1860</td>\n",
              "      <td>0.2750</td>\n",
              "      <td>0.08902</td>\n",
              "    </tr>\n",
              "    <tr>\n",
              "      <th>2</th>\n",
              "      <td>84300903</td>\n",
              "      <td>M</td>\n",
              "      <td>19.69</td>\n",
              "      <td>21.25</td>\n",
              "      <td>130.00</td>\n",
              "      <td>1203.0</td>\n",
              "      <td>0.10960</td>\n",
              "      <td>0.15990</td>\n",
              "      <td>0.1974</td>\n",
              "      <td>0.12790</td>\n",
              "      <td>...</td>\n",
              "      <td>23.57</td>\n",
              "      <td>25.53</td>\n",
              "      <td>152.50</td>\n",
              "      <td>1709.0</td>\n",
              "      <td>0.1444</td>\n",
              "      <td>0.4245</td>\n",
              "      <td>0.4504</td>\n",
              "      <td>0.2430</td>\n",
              "      <td>0.3613</td>\n",
              "      <td>0.08758</td>\n",
              "    </tr>\n",
              "    <tr>\n",
              "      <th>3</th>\n",
              "      <td>84348301</td>\n",
              "      <td>M</td>\n",
              "      <td>11.42</td>\n",
              "      <td>20.38</td>\n",
              "      <td>77.58</td>\n",
              "      <td>386.1</td>\n",
              "      <td>0.14250</td>\n",
              "      <td>0.28390</td>\n",
              "      <td>0.2414</td>\n",
              "      <td>0.10520</td>\n",
              "      <td>...</td>\n",
              "      <td>14.91</td>\n",
              "      <td>26.50</td>\n",
              "      <td>98.87</td>\n",
              "      <td>567.7</td>\n",
              "      <td>0.2098</td>\n",
              "      <td>0.8663</td>\n",
              "      <td>0.6869</td>\n",
              "      <td>0.2575</td>\n",
              "      <td>0.6638</td>\n",
              "      <td>0.17300</td>\n",
              "    </tr>\n",
              "    <tr>\n",
              "      <th>4</th>\n",
              "      <td>84358402</td>\n",
              "      <td>M</td>\n",
              "      <td>20.29</td>\n",
              "      <td>14.34</td>\n",
              "      <td>135.10</td>\n",
              "      <td>1297.0</td>\n",
              "      <td>0.10030</td>\n",
              "      <td>0.13280</td>\n",
              "      <td>0.1980</td>\n",
              "      <td>0.10430</td>\n",
              "      <td>...</td>\n",
              "      <td>22.54</td>\n",
              "      <td>16.67</td>\n",
              "      <td>152.20</td>\n",
              "      <td>1575.0</td>\n",
              "      <td>0.1374</td>\n",
              "      <td>0.2050</td>\n",
              "      <td>0.4000</td>\n",
              "      <td>0.1625</td>\n",
              "      <td>0.2364</td>\n",
              "      <td>0.07678</td>\n",
              "    </tr>\n",
              "  </tbody>\n",
              "</table>\n",
              "<p>5 rows × 32 columns</p>\n",
              "</div>"
            ],
            "text/plain": [
              "         id diagnosis  radius_mean  texture_mean  perimeter_mean  area_mean  \\\n",
              "0    842302         M        17.99         10.38          122.80     1001.0   \n",
              "1    842517         M        20.57         17.77          132.90     1326.0   \n",
              "2  84300903         M        19.69         21.25          130.00     1203.0   \n",
              "3  84348301         M        11.42         20.38           77.58      386.1   \n",
              "4  84358402         M        20.29         14.34          135.10     1297.0   \n",
              "\n",
              "   smoothness_mean  compactness_mean  concavity_mean  concave points_mean  \\\n",
              "0          0.11840           0.27760          0.3001              0.14710   \n",
              "1          0.08474           0.07864          0.0869              0.07017   \n",
              "2          0.10960           0.15990          0.1974              0.12790   \n",
              "3          0.14250           0.28390          0.2414              0.10520   \n",
              "4          0.10030           0.13280          0.1980              0.10430   \n",
              "\n",
              "   ...  radius_worst  texture_worst  perimeter_worst  area_worst  \\\n",
              "0  ...         25.38          17.33           184.60      2019.0   \n",
              "1  ...         24.99          23.41           158.80      1956.0   \n",
              "2  ...         23.57          25.53           152.50      1709.0   \n",
              "3  ...         14.91          26.50            98.87       567.7   \n",
              "4  ...         22.54          16.67           152.20      1575.0   \n",
              "\n",
              "   smoothness_worst  compactness_worst  concavity_worst  concave points_worst  \\\n",
              "0            0.1622             0.6656           0.7119                0.2654   \n",
              "1            0.1238             0.1866           0.2416                0.1860   \n",
              "2            0.1444             0.4245           0.4504                0.2430   \n",
              "3            0.2098             0.8663           0.6869                0.2575   \n",
              "4            0.1374             0.2050           0.4000                0.1625   \n",
              "\n",
              "   symmetry_worst  fractal_dimension_worst  \n",
              "0          0.4601                  0.11890  \n",
              "1          0.2750                  0.08902  \n",
              "2          0.3613                  0.08758  \n",
              "3          0.6638                  0.17300  \n",
              "4          0.2364                  0.07678  \n",
              "\n",
              "[5 rows x 32 columns]"
            ]
          },
          "execution_count": 41,
          "metadata": {},
          "output_type": "execute_result"
        }
      ],
      "source": [
        "exc = pd.read_csv(\"breast-cancer.csv\")\n",
        "exc.head()"
      ]
    },
    {
      "cell_type": "code",
      "execution_count": 42,
      "metadata": {
        "id": "OYb8l35kVbXf",
        "outputId": "4be31635-4adc-4cd4-fc3f-da57078716a5"
      },
      "outputs": [
        {
          "name": "stdout",
          "output_type": "stream",
          "text": [
            "Jumlah baris :  569\n",
            "Jumlah kolom :  32\n"
          ]
        }
      ],
      "source": [
        "print(\"Jumlah baris : \", exc.shape[0])\n",
        "print(\"Jumlah kolom : \", exc.shape[1])"
      ]
    },
    {
      "cell_type": "code",
      "execution_count": 43,
      "metadata": {
        "id": "ayoQkmDqVbXf",
        "outputId": "4ec42a88-3631-4804-83b1-3f3db8cf29ef"
      },
      "outputs": [
        {
          "data": {
            "text/html": [
              "<div>\n",
              "<style scoped>\n",
              "    .dataframe tbody tr th:only-of-type {\n",
              "        vertical-align: middle;\n",
              "    }\n",
              "\n",
              "    .dataframe tbody tr th {\n",
              "        vertical-align: top;\n",
              "    }\n",
              "\n",
              "    .dataframe thead th {\n",
              "        text-align: right;\n",
              "    }\n",
              "</style>\n",
              "<table border=\"1\" class=\"dataframe\">\n",
              "  <thead>\n",
              "    <tr style=\"text-align: right;\">\n",
              "      <th></th>\n",
              "      <th>diagnosis</th>\n",
              "      <th>radius_mean</th>\n",
              "      <th>texture_mean</th>\n",
              "      <th>perimeter_mean</th>\n",
              "      <th>area_mean</th>\n",
              "      <th>smoothness_mean</th>\n",
              "      <th>compactness_mean</th>\n",
              "      <th>concavity_mean</th>\n",
              "      <th>concave points_mean</th>\n",
              "      <th>symmetry_mean</th>\n",
              "      <th>...</th>\n",
              "      <th>radius_worst</th>\n",
              "      <th>texture_worst</th>\n",
              "      <th>perimeter_worst</th>\n",
              "      <th>area_worst</th>\n",
              "      <th>smoothness_worst</th>\n",
              "      <th>compactness_worst</th>\n",
              "      <th>concavity_worst</th>\n",
              "      <th>concave points_worst</th>\n",
              "      <th>symmetry_worst</th>\n",
              "      <th>fractal_dimension_worst</th>\n",
              "    </tr>\n",
              "  </thead>\n",
              "  <tbody>\n",
              "    <tr>\n",
              "      <th>0</th>\n",
              "      <td>M</td>\n",
              "      <td>17.99</td>\n",
              "      <td>10.38</td>\n",
              "      <td>122.80</td>\n",
              "      <td>1001.0</td>\n",
              "      <td>0.11840</td>\n",
              "      <td>0.27760</td>\n",
              "      <td>0.3001</td>\n",
              "      <td>0.14710</td>\n",
              "      <td>0.2419</td>\n",
              "      <td>...</td>\n",
              "      <td>25.38</td>\n",
              "      <td>17.33</td>\n",
              "      <td>184.60</td>\n",
              "      <td>2019.0</td>\n",
              "      <td>0.1622</td>\n",
              "      <td>0.6656</td>\n",
              "      <td>0.7119</td>\n",
              "      <td>0.2654</td>\n",
              "      <td>0.4601</td>\n",
              "      <td>0.11890</td>\n",
              "    </tr>\n",
              "    <tr>\n",
              "      <th>1</th>\n",
              "      <td>M</td>\n",
              "      <td>20.57</td>\n",
              "      <td>17.77</td>\n",
              "      <td>132.90</td>\n",
              "      <td>1326.0</td>\n",
              "      <td>0.08474</td>\n",
              "      <td>0.07864</td>\n",
              "      <td>0.0869</td>\n",
              "      <td>0.07017</td>\n",
              "      <td>0.1812</td>\n",
              "      <td>...</td>\n",
              "      <td>24.99</td>\n",
              "      <td>23.41</td>\n",
              "      <td>158.80</td>\n",
              "      <td>1956.0</td>\n",
              "      <td>0.1238</td>\n",
              "      <td>0.1866</td>\n",
              "      <td>0.2416</td>\n",
              "      <td>0.1860</td>\n",
              "      <td>0.2750</td>\n",
              "      <td>0.08902</td>\n",
              "    </tr>\n",
              "    <tr>\n",
              "      <th>2</th>\n",
              "      <td>M</td>\n",
              "      <td>19.69</td>\n",
              "      <td>21.25</td>\n",
              "      <td>130.00</td>\n",
              "      <td>1203.0</td>\n",
              "      <td>0.10960</td>\n",
              "      <td>0.15990</td>\n",
              "      <td>0.1974</td>\n",
              "      <td>0.12790</td>\n",
              "      <td>0.2069</td>\n",
              "      <td>...</td>\n",
              "      <td>23.57</td>\n",
              "      <td>25.53</td>\n",
              "      <td>152.50</td>\n",
              "      <td>1709.0</td>\n",
              "      <td>0.1444</td>\n",
              "      <td>0.4245</td>\n",
              "      <td>0.4504</td>\n",
              "      <td>0.2430</td>\n",
              "      <td>0.3613</td>\n",
              "      <td>0.08758</td>\n",
              "    </tr>\n",
              "    <tr>\n",
              "      <th>3</th>\n",
              "      <td>M</td>\n",
              "      <td>11.42</td>\n",
              "      <td>20.38</td>\n",
              "      <td>77.58</td>\n",
              "      <td>386.1</td>\n",
              "      <td>0.14250</td>\n",
              "      <td>0.28390</td>\n",
              "      <td>0.2414</td>\n",
              "      <td>0.10520</td>\n",
              "      <td>0.2597</td>\n",
              "      <td>...</td>\n",
              "      <td>14.91</td>\n",
              "      <td>26.50</td>\n",
              "      <td>98.87</td>\n",
              "      <td>567.7</td>\n",
              "      <td>0.2098</td>\n",
              "      <td>0.8663</td>\n",
              "      <td>0.6869</td>\n",
              "      <td>0.2575</td>\n",
              "      <td>0.6638</td>\n",
              "      <td>0.17300</td>\n",
              "    </tr>\n",
              "    <tr>\n",
              "      <th>4</th>\n",
              "      <td>M</td>\n",
              "      <td>20.29</td>\n",
              "      <td>14.34</td>\n",
              "      <td>135.10</td>\n",
              "      <td>1297.0</td>\n",
              "      <td>0.10030</td>\n",
              "      <td>0.13280</td>\n",
              "      <td>0.1980</td>\n",
              "      <td>0.10430</td>\n",
              "      <td>0.1809</td>\n",
              "      <td>...</td>\n",
              "      <td>22.54</td>\n",
              "      <td>16.67</td>\n",
              "      <td>152.20</td>\n",
              "      <td>1575.0</td>\n",
              "      <td>0.1374</td>\n",
              "      <td>0.2050</td>\n",
              "      <td>0.4000</td>\n",
              "      <td>0.1625</td>\n",
              "      <td>0.2364</td>\n",
              "      <td>0.07678</td>\n",
              "    </tr>\n",
              "  </tbody>\n",
              "</table>\n",
              "<p>5 rows × 31 columns</p>\n",
              "</div>"
            ],
            "text/plain": [
              "  diagnosis  radius_mean  texture_mean  perimeter_mean  area_mean  \\\n",
              "0         M        17.99         10.38          122.80     1001.0   \n",
              "1         M        20.57         17.77          132.90     1326.0   \n",
              "2         M        19.69         21.25          130.00     1203.0   \n",
              "3         M        11.42         20.38           77.58      386.1   \n",
              "4         M        20.29         14.34          135.10     1297.0   \n",
              "\n",
              "   smoothness_mean  compactness_mean  concavity_mean  concave points_mean  \\\n",
              "0          0.11840           0.27760          0.3001              0.14710   \n",
              "1          0.08474           0.07864          0.0869              0.07017   \n",
              "2          0.10960           0.15990          0.1974              0.12790   \n",
              "3          0.14250           0.28390          0.2414              0.10520   \n",
              "4          0.10030           0.13280          0.1980              0.10430   \n",
              "\n",
              "   symmetry_mean  ...  radius_worst  texture_worst  perimeter_worst  \\\n",
              "0         0.2419  ...         25.38          17.33           184.60   \n",
              "1         0.1812  ...         24.99          23.41           158.80   \n",
              "2         0.2069  ...         23.57          25.53           152.50   \n",
              "3         0.2597  ...         14.91          26.50            98.87   \n",
              "4         0.1809  ...         22.54          16.67           152.20   \n",
              "\n",
              "   area_worst  smoothness_worst  compactness_worst  concavity_worst  \\\n",
              "0      2019.0            0.1622             0.6656           0.7119   \n",
              "1      1956.0            0.1238             0.1866           0.2416   \n",
              "2      1709.0            0.1444             0.4245           0.4504   \n",
              "3       567.7            0.2098             0.8663           0.6869   \n",
              "4      1575.0            0.1374             0.2050           0.4000   \n",
              "\n",
              "   concave points_worst  symmetry_worst  fractal_dimension_worst  \n",
              "0                0.2654          0.4601                  0.11890  \n",
              "1                0.1860          0.2750                  0.08902  \n",
              "2                0.2430          0.3613                  0.08758  \n",
              "3                0.2575          0.6638                  0.17300  \n",
              "4                0.1625          0.2364                  0.07678  \n",
              "\n",
              "[5 rows x 31 columns]"
            ]
          },
          "execution_count": 43,
          "metadata": {},
          "output_type": "execute_result"
        }
      ],
      "source": [
        "# drop id pasien karena tidak dibutuhkan\n",
        "exc = exc.drop([\"id\"],axis=1)\n",
        "exc.head()"
      ]
    },
    {
      "cell_type": "code",
      "execution_count": 44,
      "metadata": {
        "id": "KDd2kNe8VbXg",
        "outputId": "525a30c7-4642-4bf7-cd4f-829c2b0e864c"
      },
      "outputs": [
        {
          "name": "stdout",
          "output_type": "stream",
          "text": [
            "-----Berikut adalah daftar kolom/attribut yang bertipe numerik-----\n",
            "\n",
            "Index(['radius_mean', 'texture_mean', 'perimeter_mean', 'area_mean',\n",
            "       'smoothness_mean', 'compactness_mean', 'concavity_mean',\n",
            "       'concave points_mean', 'symmetry_mean', 'fractal_dimension_mean',\n",
            "       'radius_se', 'texture_se', 'perimeter_se', 'area_se', 'smoothness_se',\n",
            "       'compactness_se', 'concavity_se', 'concave points_se', 'symmetry_se',\n",
            "       'fractal_dimension_se', 'radius_worst', 'texture_worst',\n",
            "       'perimeter_worst', 'area_worst', 'smoothness_worst',\n",
            "       'compactness_worst', 'concavity_worst', 'concave points_worst',\n",
            "       'symmetry_worst', 'fractal_dimension_worst'],\n",
            "      dtype='object')\n",
            "\n",
            "Jumlah data yang numerik 30\n"
          ]
        }
      ],
      "source": [
        "print(\"-----Berikut adalah daftar kolom/attribut yang bertipe numerik-----\")\n",
        "print()\n",
        "print(exc.select_dtypes(np.number).columns)\n",
        "print()\n",
        "print(\"Jumlah data yang numerik\", len(exc.select_dtypes(np.number).columns))"
      ]
    },
    {
      "cell_type": "code",
      "execution_count": 45,
      "metadata": {
        "id": "e_Lwb3v1VbXg",
        "outputId": "b4679574-3d1d-4211-e183-a05dc3532420"
      },
      "outputs": [
        {
          "name": "stdout",
          "output_type": "stream",
          "text": [
            "-----Berikut adalah daftar kolom/attribut yang bertipe kategorik-----\n",
            "\n",
            "Index(['diagnosis'], dtype='object')\n",
            "\n",
            "Jumlah data yang kategorik 1\n"
          ]
        }
      ],
      "source": [
        "print(\"-----Berikut adalah daftar kolom/attribut yang bertipe kategorik-----\")\n",
        "print()\n",
        "print(exc.select_dtypes(object).columns)\n",
        "print()\n",
        "print(\"Jumlah data yang kategorik\", len(exc.select_dtypes(object).columns))"
      ]
    },
    {
      "cell_type": "markdown",
      "metadata": {
        "id": "zEQ7QLxAVbXg"
      },
      "source": [
        "### <b> Deskripsi Soal </b>\n",
        "\n",
        "Target klasifikasi kita adalah atribut <b>diagnosis</b>. Atribut ini hanya terdiri atas 2 nilai unik, yaitu <b>M</b> dan <b>B</b>. M merupakan kode untuk malignant atau <b>ganas</b>, sedangkan B merupakan kode untuk benign atau <b>Jinak</b>. Secara sederhana, model yang kita buat diharapkan dapat memprediksi dengan baik apakah kanker payudara yang dimiliki pasien jinak atau ganas.\n",
        "\n",
        "Berikut adalah alur atau tahapan yang harus teman-teman kerjakan. Semangat!"
      ]
    },
    {
      "cell_type": "markdown",
      "metadata": {
        "id": "ntCjgj2JVbXh"
      },
      "source": [
        "### 1. Preprocessing [15]"
      ]
    },
    {
      "cell_type": "markdown",
      "metadata": {
        "id": "LZMIA2yLVbXh"
      },
      "source": [
        "Lakukan preprocessing, dengan minimum spesifikasi sebagai berikut : <br>\n",
        "\n",
        "* `Cek keberadaan missing values` jika ditemukan missing values lakukan penanganan yang tepat sesuai dengan asumsi teman-teman\n",
        "\n",
        "\n",
        "* `Cek keberadaan nilai duplikat` jika ditemukan lakukan penanganan yang tepat sesuai dengan asumsi teman-teman\n",
        "\n",
        "\n",
        "* `Cek keberadaan outlier` teman-teman bebas memilih penanganan outlier apa yang teman-teman gunakan, bisa dengan membuangnya, mengganti nilainya dengan mean atau median, atau mungkin membiarkannya saja dengan asumsi data normal. Dalam mencari outlier juga, teman-teman bebas menggunakan cara apapun, dengan tetap memberikan asumsi yang logis.\n",
        "\n",
        "\n",
        "Teman-teman boleh mengembangkan tahapan ini, namun kriteria minimum yang wajib teman-teman lakukan adalah seperti diatas. Silahkan bereksplorasi :D"
      ]
    },
    {
      "cell_type": "code",
      "execution_count": 46,
      "metadata": {
        "id": "sWwl2g_LA9f4"
      },
      "outputs": [
        {
          "name": "stdout",
          "output_type": "stream",
          "text": [
            "Tidak ditemukan missing value pada dataset\n"
          ]
        }
      ],
      "source": [
        "cek_null(exc)"
      ]
    },
    {
      "cell_type": "code",
      "execution_count": 47,
      "metadata": {},
      "outputs": [
        {
          "data": {
            "text/plain": [
              "False    569\n",
              "dtype: int64"
            ]
          },
          "execution_count": 47,
          "metadata": {},
          "output_type": "execute_result"
        }
      ],
      "source": [
        "exc.duplicated().value_counts()"
      ]
    },
    {
      "cell_type": "code",
      "execution_count": 52,
      "metadata": {},
      "outputs": [
        {
          "ename": "ValueError",
          "evalue": "The number of FixedLocator locations (60), usually from a call to set_ticks, does not match the number of ticklabels (30).",
          "output_type": "error",
          "traceback": [
            "\u001b[1;31m---------------------------------------------------------------------------\u001b[0m",
            "\u001b[1;31mValueError\u001b[0m                                Traceback (most recent call last)",
            "\u001b[1;32mc:\\Users\\iqbal\\Documents\\KASDD\\Lab 5\\Lab5.ipynb Cell 136\u001b[0m in \u001b[0;36m<cell line: 1>\u001b[1;34m()\u001b[0m\n\u001b[1;32m----> <a href='vscode-notebook-cell:/c%3A/Users/iqbal/Documents/KASDD/Lab%205/Lab5.ipynb#Y252sZmlsZQ%3D%3D?line=0'>1</a>\u001b[0m exc\u001b[39m.\u001b[39;49mboxplot(vert\u001b[39m=\u001b[39;49m\u001b[39mFalse\u001b[39;49;00m,figsize\u001b[39m=\u001b[39;49m(\u001b[39m20\u001b[39;49m,\u001b[39m20\u001b[39;49m))\n",
            "File \u001b[1;32mc:\\Users\\iqbal\\AppData\\Local\\Programs\\Python\\Python310\\lib\\site-packages\\pandas\\plotting\\_core.py:511\u001b[0m, in \u001b[0;36mboxplot_frame\u001b[1;34m(self, column, by, ax, fontsize, rot, grid, figsize, layout, return_type, backend, **kwargs)\u001b[0m\n\u001b[0;32m    494\u001b[0m \u001b[39m@Substitution\u001b[39m(backend\u001b[39m=\u001b[39m_backend_doc)\n\u001b[0;32m    495\u001b[0m \u001b[39m@Appender\u001b[39m(_boxplot_doc)\n\u001b[0;32m    496\u001b[0m \u001b[39mdef\u001b[39;00m \u001b[39mboxplot_frame\u001b[39m(\n\u001b[1;32m   (...)\u001b[0m\n\u001b[0;32m    508\u001b[0m     \u001b[39m*\u001b[39m\u001b[39m*\u001b[39mkwargs,\n\u001b[0;32m    509\u001b[0m ):\n\u001b[0;32m    510\u001b[0m     plot_backend \u001b[39m=\u001b[39m _get_plot_backend(backend)\n\u001b[1;32m--> 511\u001b[0m     \u001b[39mreturn\u001b[39;00m plot_backend\u001b[39m.\u001b[39mboxplot_frame(\n\u001b[0;32m    512\u001b[0m         \u001b[39mself\u001b[39m,\n\u001b[0;32m    513\u001b[0m         column\u001b[39m=\u001b[39mcolumn,\n\u001b[0;32m    514\u001b[0m         by\u001b[39m=\u001b[39mby,\n\u001b[0;32m    515\u001b[0m         ax\u001b[39m=\u001b[39max,\n\u001b[0;32m    516\u001b[0m         fontsize\u001b[39m=\u001b[39mfontsize,\n\u001b[0;32m    517\u001b[0m         rot\u001b[39m=\u001b[39mrot,\n\u001b[0;32m    518\u001b[0m         grid\u001b[39m=\u001b[39mgrid,\n\u001b[0;32m    519\u001b[0m         figsize\u001b[39m=\u001b[39mfigsize,\n\u001b[0;32m    520\u001b[0m         layout\u001b[39m=\u001b[39mlayout,\n\u001b[0;32m    521\u001b[0m         return_type\u001b[39m=\u001b[39mreturn_type,\n\u001b[0;32m    522\u001b[0m         \u001b[39m*\u001b[39m\u001b[39m*\u001b[39mkwargs,\n\u001b[0;32m    523\u001b[0m     )\n",
            "File \u001b[1;32mc:\\Users\\iqbal\\AppData\\Local\\Programs\\Python\\Python310\\lib\\site-packages\\pandas\\plotting\\_matplotlib\\boxplot.py:425\u001b[0m, in \u001b[0;36mboxplot_frame\u001b[1;34m(self, column, by, ax, fontsize, rot, grid, figsize, layout, return_type, **kwds)\u001b[0m\n\u001b[0;32m    410\u001b[0m \u001b[39mdef\u001b[39;00m \u001b[39mboxplot_frame\u001b[39m(\n\u001b[0;32m    411\u001b[0m     \u001b[39mself\u001b[39m,\n\u001b[0;32m    412\u001b[0m     column\u001b[39m=\u001b[39m\u001b[39mNone\u001b[39;00m,\n\u001b[1;32m   (...)\u001b[0m\n\u001b[0;32m    421\u001b[0m     \u001b[39m*\u001b[39m\u001b[39m*\u001b[39mkwds,\n\u001b[0;32m    422\u001b[0m ):\n\u001b[0;32m    423\u001b[0m     \u001b[39mimport\u001b[39;00m \u001b[39mmatplotlib\u001b[39;00m\u001b[39m.\u001b[39;00m\u001b[39mpyplot\u001b[39;00m \u001b[39mas\u001b[39;00m \u001b[39mplt\u001b[39;00m\n\u001b[1;32m--> 425\u001b[0m     ax \u001b[39m=\u001b[39m boxplot(\n\u001b[0;32m    426\u001b[0m         \u001b[39mself\u001b[39m,\n\u001b[0;32m    427\u001b[0m         column\u001b[39m=\u001b[39mcolumn,\n\u001b[0;32m    428\u001b[0m         by\u001b[39m=\u001b[39mby,\n\u001b[0;32m    429\u001b[0m         ax\u001b[39m=\u001b[39max,\n\u001b[0;32m    430\u001b[0m         fontsize\u001b[39m=\u001b[39mfontsize,\n\u001b[0;32m    431\u001b[0m         grid\u001b[39m=\u001b[39mgrid,\n\u001b[0;32m    432\u001b[0m         rot\u001b[39m=\u001b[39mrot,\n\u001b[0;32m    433\u001b[0m         figsize\u001b[39m=\u001b[39mfigsize,\n\u001b[0;32m    434\u001b[0m         layout\u001b[39m=\u001b[39mlayout,\n\u001b[0;32m    435\u001b[0m         return_type\u001b[39m=\u001b[39mreturn_type,\n\u001b[0;32m    436\u001b[0m         \u001b[39m*\u001b[39m\u001b[39m*\u001b[39mkwds,\n\u001b[0;32m    437\u001b[0m     )\n\u001b[0;32m    438\u001b[0m     plt\u001b[39m.\u001b[39mdraw_if_interactive()\n\u001b[0;32m    439\u001b[0m     \u001b[39mreturn\u001b[39;00m ax\n",
            "File \u001b[1;32mc:\\Users\\iqbal\\AppData\\Local\\Programs\\Python\\Python310\\lib\\site-packages\\pandas\\plotting\\_matplotlib\\boxplot.py:404\u001b[0m, in \u001b[0;36mboxplot\u001b[1;34m(data, column, by, ax, fontsize, rot, grid, figsize, layout, return_type, **kwds)\u001b[0m\n\u001b[0;32m    401\u001b[0m     \u001b[39melse\u001b[39;00m:\n\u001b[0;32m    402\u001b[0m         data \u001b[39m=\u001b[39m data[columns]\n\u001b[1;32m--> 404\u001b[0m     result \u001b[39m=\u001b[39m plot_group(columns, data\u001b[39m.\u001b[39;49mvalues\u001b[39m.\u001b[39;49mT, ax)\n\u001b[0;32m    405\u001b[0m     ax\u001b[39m.\u001b[39mgrid(grid)\n\u001b[0;32m    407\u001b[0m \u001b[39mreturn\u001b[39;00m result\n",
            "File \u001b[1;32mc:\\Users\\iqbal\\AppData\\Local\\Programs\\Python\\Python310\\lib\\site-packages\\pandas\\plotting\\_matplotlib\\boxplot.py:349\u001b[0m, in \u001b[0;36mboxplot.<locals>.plot_group\u001b[1;34m(keys, values, ax)\u001b[0m\n\u001b[0;32m    347\u001b[0m     ax\u001b[39m.\u001b[39mset_xticklabels(keys, rotation\u001b[39m=\u001b[39mrot)\n\u001b[0;32m    348\u001b[0m \u001b[39melse\u001b[39;00m:\n\u001b[1;32m--> 349\u001b[0m     ax\u001b[39m.\u001b[39;49mset_yticklabels(keys, rotation\u001b[39m=\u001b[39;49mrot)\n\u001b[0;32m    350\u001b[0m maybe_color_bp(bp, \u001b[39m*\u001b[39m\u001b[39m*\u001b[39mkwds)\n\u001b[0;32m    352\u001b[0m \u001b[39m# Return axes in multiplot case, maybe revisit later # 985\u001b[39;00m\n",
            "File \u001b[1;32mc:\\Users\\iqbal\\AppData\\Local\\Programs\\Python\\Python310\\lib\\site-packages\\matplotlib\\axes\\_base.py:73\u001b[0m, in \u001b[0;36m_axis_method_wrapper.__set_name__.<locals>.wrapper\u001b[1;34m(self, *args, **kwargs)\u001b[0m\n\u001b[0;32m     72\u001b[0m \u001b[39mdef\u001b[39;00m \u001b[39mwrapper\u001b[39m(\u001b[39mself\u001b[39m, \u001b[39m*\u001b[39margs, \u001b[39m*\u001b[39m\u001b[39m*\u001b[39mkwargs):\n\u001b[1;32m---> 73\u001b[0m     \u001b[39mreturn\u001b[39;00m get_method(\u001b[39mself\u001b[39m)(\u001b[39m*\u001b[39margs, \u001b[39m*\u001b[39m\u001b[39m*\u001b[39mkwargs)\n",
            "File \u001b[1;32mc:\\Users\\iqbal\\AppData\\Local\\Programs\\Python\\Python310\\lib\\site-packages\\matplotlib\\axis.py:1968\u001b[0m, in \u001b[0;36mAxis._set_ticklabels\u001b[1;34m(self, labels, fontdict, minor, **kwargs)\u001b[0m\n\u001b[0;32m   1966\u001b[0m \u001b[39mif\u001b[39;00m fontdict \u001b[39mis\u001b[39;00m \u001b[39mnot\u001b[39;00m \u001b[39mNone\u001b[39;00m:\n\u001b[0;32m   1967\u001b[0m     kwargs\u001b[39m.\u001b[39mupdate(fontdict)\n\u001b[1;32m-> 1968\u001b[0m \u001b[39mreturn\u001b[39;00m \u001b[39mself\u001b[39m\u001b[39m.\u001b[39mset_ticklabels(labels, minor\u001b[39m=\u001b[39mminor, \u001b[39m*\u001b[39m\u001b[39m*\u001b[39mkwargs)\n",
            "File \u001b[1;32mc:\\Users\\iqbal\\AppData\\Local\\Programs\\Python\\Python310\\lib\\site-packages\\matplotlib\\axis.py:1890\u001b[0m, in \u001b[0;36mAxis.set_ticklabels\u001b[1;34m(self, ticklabels, minor, **kwargs)\u001b[0m\n\u001b[0;32m   1886\u001b[0m \u001b[39mif\u001b[39;00m \u001b[39misinstance\u001b[39m(locator, mticker\u001b[39m.\u001b[39mFixedLocator):\n\u001b[0;32m   1887\u001b[0m     \u001b[39m# Passing [] as a list of ticklabels is often used as a way to\u001b[39;00m\n\u001b[0;32m   1888\u001b[0m     \u001b[39m# remove all tick labels, so only error for > 0 ticklabels\u001b[39;00m\n\u001b[0;32m   1889\u001b[0m     \u001b[39mif\u001b[39;00m \u001b[39mlen\u001b[39m(locator\u001b[39m.\u001b[39mlocs) \u001b[39m!=\u001b[39m \u001b[39mlen\u001b[39m(ticklabels) \u001b[39mand\u001b[39;00m \u001b[39mlen\u001b[39m(ticklabels) \u001b[39m!=\u001b[39m \u001b[39m0\u001b[39m:\n\u001b[1;32m-> 1890\u001b[0m         \u001b[39mraise\u001b[39;00m \u001b[39mValueError\u001b[39;00m(\n\u001b[0;32m   1891\u001b[0m             \u001b[39m\"\u001b[39m\u001b[39mThe number of FixedLocator locations\u001b[39m\u001b[39m\"\u001b[39m\n\u001b[0;32m   1892\u001b[0m             \u001b[39mf\u001b[39m\u001b[39m\"\u001b[39m\u001b[39m (\u001b[39m\u001b[39m{\u001b[39;00m\u001b[39mlen\u001b[39m(locator\u001b[39m.\u001b[39mlocs)\u001b[39m}\u001b[39;00m\u001b[39m), usually from a call to\u001b[39m\u001b[39m\"\u001b[39m\n\u001b[0;32m   1893\u001b[0m             \u001b[39m\"\u001b[39m\u001b[39m set_ticks, does not match\u001b[39m\u001b[39m\"\u001b[39m\n\u001b[0;32m   1894\u001b[0m             \u001b[39mf\u001b[39m\u001b[39m\"\u001b[39m\u001b[39m the number of ticklabels (\u001b[39m\u001b[39m{\u001b[39;00m\u001b[39mlen\u001b[39m(ticklabels)\u001b[39m}\u001b[39;00m\u001b[39m).\u001b[39m\u001b[39m\"\u001b[39m)\n\u001b[0;32m   1895\u001b[0m     tickd \u001b[39m=\u001b[39m {loc: lab \u001b[39mfor\u001b[39;00m loc, lab \u001b[39min\u001b[39;00m \u001b[39mzip\u001b[39m(locator\u001b[39m.\u001b[39mlocs, ticklabels)}\n\u001b[0;32m   1896\u001b[0m     func \u001b[39m=\u001b[39m functools\u001b[39m.\u001b[39mpartial(\u001b[39mself\u001b[39m\u001b[39m.\u001b[39m_format_with_dict, tickd)\n",
            "\u001b[1;31mValueError\u001b[0m: The number of FixedLocator locations (60), usually from a call to set_ticks, does not match the number of ticklabels (30)."
          ]
        }
      ],
      "source": [
        "exc.boxplot(vert=False,figsize=(20,20))"
      ]
    },
    {
      "cell_type": "markdown",
      "metadata": {
        "id": "8vFdLmHlVbXk"
      },
      "source": [
        "### 2. Persiapan Training [15]"
      ]
    },
    {
      "cell_type": "markdown",
      "metadata": {
        "id": "9dZBPYXLVbXk"
      },
      "source": [
        "Pada tahap ini, teman-teman diminta melakukan persiapan sebelum melakukan training. Berikut adalah hal-hal minimum yang harus teman-teman lakukan :\n",
        "\n",
        "* `memilih dependent dan juga independent variables` teman-teman diminta untuk memilih dependent dan independent variables yang terbaik menurut penemuan teman-teman. Kalian bisa melakukan feature selection dengan ukuran terbaik menurut teman-teman. Kalin juga bisa menggunakan teknik lain, seperti mengecek korelasi atau melakukan literasi terkait kanker payudara. Bagian terpenting adalah, teman-teman <b> wajib </b> menjelaskan asumsi yang teman-teman ambil. ( <i> Hint </i> : jangan ambil fitur yang terlalu banyak ya teman-teman :D mulai dari kecil-kecil terlebih dahulu, baru jika ingin diimprovisasi perbesar sendiri perlahan dan perlahan)\n",
        "\n",
        "\n",
        "* `membagi dataset menjadi training dan testing` bagi dataset menjadi training dan testing dengan ukuran 90% training dan 10% testing. Pastikan juga pembagian training dan testing <b>merata</b> berdasarkan target atribut (<i>Hint</i> : perhatikan parameter yang digunakan pada train split test yang digunakan sebelumnya).\n",
        "\n",
        "\n",
        "* `lakukan standarisasi` teman-teman bebas memilih standarisasi apa yang menurut teman-teman merupakan strategi terbaik. Bagian terpenting adalah, berikan alasan kenapa teman-teman menggunakan strategi tersebut. (<i>Hint</i> : jangan sampai keliru ketika melakukan standarisasi training dan testing).\n",
        "\n",
        "Jangan lupa untuk melakukan label encoding terlebih dahulu yaa pada atribut target."
      ]
    },
    {
      "cell_type": "code",
      "execution_count": 49,
      "metadata": {
        "id": "yzFImiQhA9f4"
      },
      "outputs": [],
      "source": [
        "# CODE"
      ]
    },
    {
      "cell_type": "markdown",
      "metadata": {
        "id": "skkqQvM0VbXn"
      },
      "source": [
        "### 3. Implementasi Naive Bayes [25]\n",
        "\n",
        "Pada tahapan ini, mahasiswa diminta untuk membangun model naive bayes dengan <b> syarat </b> memilih model naive bayes yang sesuai (berikan alasan yang sesuai). Teman-teman boleh melakukan parameter tuning untuk memaksimalkan model naive bayes. Tampilkan juga hasil evaluasi dan berikan analisis teman-teman terkait hasil evaluasi model. Berikan saran perbaikan yang sesuai menurut pendapat teman-teman jika ternyata model yang diperoleh tidak optimal.\n",
        "\n",
        "<b><i> Hint </i></b> : <br>\n",
        "Liat distribusi nilai dari setiap feature yang telah teman-teman pilih pada tahap sebelumnya, apakah sifat distribusinya? Melalui analisis ini, teman-teman bisa menentukan model apa yang optimal\n",
        "\n",
        "Ingat yaa, biasakan menggunakan cell dengan tipe markdown untuk memberikan komentar atau catatan :D"
      ]
    },
    {
      "cell_type": "code",
      "execution_count": 50,
      "metadata": {
        "id": "wWxD9PL0A9f5"
      },
      "outputs": [],
      "source": [
        "# CODE"
      ]
    },
    {
      "cell_type": "markdown",
      "metadata": {
        "id": "uOiHDdwDVbXo"
      },
      "source": [
        "### 4. Implementasi KNN [30]\n",
        "\n",
        "Setelah mencoba model naive bayes, teman-teman diminta juga untuk mencoba membangun model klasifikasi dengan algoritma KNN. Pilih nilai K yang terbaik menurut teman-teman dan lakukan analisis berdasarkan temukan teman-teman. Mulai dengan mengambil nilai K secara random terlebih dahulu pada percobaan pertama, lalu kemudian perbaiki dengan parameter tuning. Teman-teman juga boleh mencoba untuk tuning parameter yang lain. Berikan hasil evaluasi model dan berikan analisis teman-teman. Jika model kurang optimal, berikan saran perbaikan yang sesuai."
      ]
    },
    {
      "cell_type": "code",
      "execution_count": 51,
      "metadata": {
        "id": "LEJxGQ15A9f5"
      },
      "outputs": [],
      "source": [
        "# CODE"
      ]
    },
    {
      "cell_type": "markdown",
      "metadata": {
        "id": "ItrgZgTVVbXp"
      },
      "source": [
        "# ----Selesai----"
      ]
    }
  ],
  "metadata": {
    "colab": {
      "collapsed_sections": [
        "cFTRdQ9n_wFJ",
        "pJgBP9LXAKfB",
        "AJfJdwxLVbXG",
        "YQDsA76jVbXO",
        "mSVJ2BM0VbXO",
        "Oef67wrOVbXQ",
        "mCAz95wWVbXS",
        "THtuWTxgVbXV",
        "9nDoqBPSVbXX",
        "zEQ7QLxAVbXg"
      ],
      "provenance": [],
      "toc_visible": true
    },
    "kernelspec": {
      "display_name": "Python 3.10.2 64-bit",
      "language": "python",
      "name": "python3"
    },
    "language_info": {
      "codemirror_mode": {
        "name": "ipython",
        "version": 3
      },
      "file_extension": ".py",
      "mimetype": "text/x-python",
      "name": "python",
      "nbconvert_exporter": "python",
      "pygments_lexer": "ipython3",
      "version": "3.10.2"
    },
    "vscode": {
      "interpreter": {
        "hash": "c263b2455bde33485997a3dbeae7eefc58c037db36f19208f2d2feb2b480f596"
      }
    }
  },
  "nbformat": 4,
  "nbformat_minor": 0
}
