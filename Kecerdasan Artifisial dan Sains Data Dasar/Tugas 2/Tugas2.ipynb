{
  "nbformat": 4,
  "nbformat_minor": 0,
  "metadata": {
    "colab": {
      "provenance": [],
      "collapsed_sections": []
    },
    "kernelspec": {
      "name": "python3",
      "display_name": "Python 3"
    },
    "language_info": {
      "name": "python"
    }
  },
  "cells": [
    {
      "cell_type": "markdown",
      "metadata": {
        "id": "0k_j9vD93i96"
      },
      "source": [
        "<center>\n",
        "<img src=\"https://drive.google.com/uc?id=1f1gGVI-rxcHjA90WEGNvvtSXF1pAxQwg\" alt=\"Fasilkom UI\" width=\"300\"/>\n",
        "\n",
        "CSGE603130 • Kecerdasan Artifisial dan Sains Data Dasar\n",
        "\n",
        "Semester Ganjil 2022/2023\n",
        "\n",
        "Fakultas Ilmu Komputer, Universitas Indonesia\n",
        "\n",
        "##**Tugas *2*: *Classification***\n",
        "\n",
        "###**Tenggat Waktu: 19 November 2022, 23.55 WIB**\n",
        "</center>\n",
        "\n",
        "####**Ketentuan:**\n",
        "\n",
        "1. Dataset yang digunakan pada tugas ini beserta deskripsinya telah disediakan di SCeLe.\n",
        "2. Buatlah program Jupyter Notebook yang menjawab pertanyaan sesuai dengan perintah soal yang disediakan.\n",
        "3. Dokumen Jupyter Notebook yang telah dilengkapi dengan jawaban dikumpulkan dengan format penamaan **Kelas_Tugas2_NPM_Nama.ipynb**. Contoh: A_Tugas2_2006123456_Budi.ipynb\n",
        "4. Kumpulkan dokumen tersebut pada submisi yang telah disediakan di SCeLe sesuai dengan kelas masing-masing sebelum **19 November 2022, 23.55 WIB**. Keterlambatan pengumpulan akan dikenakan pinalti.\n",
        "5. Praktikum ini dirancang sebagai **tugas mandiri**. Plagiarisme tidak diperkenankan dalam bentuk apapun. Adapun kolaborasi berupa diskusi (tanpa menyalin) dan literasi masih diperbolehkan dengan mencantumkan kolaborator dan sumber.\n"
      ]
    },
    {
      "cell_type": "markdown",
      "metadata": {
        "id": "JnRUE1Ul62_R"
      },
      "source": [
        "## **Pernyataan Integritas**\n",
        "\n",
        "Wajib diisi. Tanpa pernyataan integritas submisi akan dikenakan pinalti."
      ]
    },
    {
      "cell_type": "code",
      "metadata": {
        "id": "9tnfWWpN7vjq"
      },
      "source": [
        "# Isi dengan data diri Anda\n",
        "NAMA = \"\"\n",
        "KELAS = \"\"\n",
        "NPM = \"\"\n",
        "\n",
        "# Isi dengan NPM teman yang berdiskusi dengan Anda\n",
        "KOLABORATOR = []\n",
        "\n",
        "# Isi dengan sumber referensi yang Anda gunakan dalam mengerjakan\n",
        "REFERENSI = []"
      ],
      "execution_count": null,
      "outputs": []
    },
    {
      "cell_type": "code",
      "metadata": {
        "colab": {
          "base_uri": "https://localhost:8080/"
        },
        "id": "KVEdteyu3hot",
        "outputId": "014b719c-1ec7-4e92-ae58-a514f4e308f3"
      },
      "source": [
        "PERNYATAAN_INTEGRITAS = \"Saya, %s dari kelas %s dengan NPM %s, menyatakan bahwa seluruh jawaban pada pekerjaan ini murni saya kerjakan sendiri.\\n\\\n",
        "Saya tidak mencontek jawaban, memberikan jawaban, maupun menyalin dari sumber manapun.\\n \\\n",
        "\\n\\\n",
        "Jika saya melanggar pernyataan tersebut, saya siap menerima konsekuensi apapun yang diberikan.\\n   \\\n",
        "(%s)\" % (NAMA, KELAS, NPM, NAMA)\n",
        "\n",
        "print(PERNYATAAN_INTEGRITAS)"
      ],
      "execution_count": null,
      "outputs": [
        {
          "output_type": "stream",
          "name": "stdout",
          "text": [
            "Saya,  dari kelas  dengan NPM , menyatakan bahwa seluruh jawaban pada pekerjaan ini murni saya kerjakan sendiri.\n",
            "Saya tidak mencontek jawaban, memberikan jawaban, maupun menyalin dari sumber manapun.\n",
            " \n",
            "Jika saya melanggar pernyataan tersebut, saya siap menerima konsekuensi apapun yang diberikan.\n",
            "   ()\n"
          ]
        }
      ]
    },
    {
      "cell_type": "code",
      "source": [
        "import matplotlib.pyplot as plt\n",
        "import numpy as np\n",
        "import pandas as pd\n",
        "\n",
        "from sklearn.ensemble import RandomForestClassifier\n",
        "from sklearn.feature_selection import SelectKBest\n",
        "from sklearn.metrics import classification_report\n",
        "from sklearn.model_selection import GridSearchCV, train_test_split, KFold, cross_val_score\n",
        "from sklearn.naive_bayes import GaussianNB, MultinomialNB, ComplementNB, BernoulliNB, CategoricalNB\n",
        "from sklearn.neighbors import KNeighborsClassifier\n",
        "from sklearn.preprocessing import MinMaxScaler, LabelEncoder, OneHotEncoder\n",
        "from sklearn.tree import DecisionTreeClassifier"
      ],
      "metadata": {
        "id": "PfDooLQpbXRP"
      },
      "execution_count": null,
      "outputs": []
    },
    {
      "cell_type": "markdown",
      "source": [
        "## **Dataset**"
      ],
      "metadata": {
        "id": "whoUqmpRTKVe"
      }
    },
    {
      "cell_type": "markdown",
      "source": [
        "Dataset yang digunakan adalah dataset Mobile Prices dimana kita memklasifikasi handphone lewat harganya, terdapat 21 atribut dan target atributnya adalah price_range.\n",
        "\n",
        "Penjelesan atribut:\n",
        "* battery_power : Total energy a battery can store in one time measured in mAh\n",
        "* blue : Has bluetooth or not\n",
        "* clock_speed : speed at which microprocessor executes instructions\n",
        "* dual_sim : Has dual sim support or not\n",
        "* fc : Front Camera mega pixels\n",
        "* four_g : Has 4G or not\n",
        "* int_memory : Internal Memory in Gigabytes\n",
        "* m_dep : Mobile Depth in cm\n",
        "* mobile_wt : Weight of mobile phone\n",
        "* n_cores : Number of cores of processor\n",
        "* pc : Primary Camera mega pixels\n",
        "* px_height : Pixel Resolution Height\n",
        "* px_width : Pixel Resolution Width\n",
        "* ram : Random Access Memory in Mega Bytes\n",
        "* sc_h : Screen Height of mobile in cm\n",
        "* sc_w : Screen Width of mobile in cm\n",
        "* talk_time : Longest time that a single battery charge will last when you are\n",
        "* three_g : Has 3G or not\n",
        "* touch_screen : Has touch screen or not\n",
        "* wifi : Has wifi or not\n",
        "* price_range : This is the target variable with value of 0(low cost), 1(medium cost), 2(high cost) and 3(very high cost).\n",
        "\n",
        "Sumber: https://www.kaggle.com/datasets/iabhishekofficial/mobile-price-classification (dengan modifikasi)"
      ],
      "metadata": {
        "id": "EK27FheIFqrt"
      }
    },
    {
      "cell_type": "markdown",
      "source": [
        "## [25] **Preprocessing**"
      ],
      "metadata": {
        "id": "PIJ1_2ZIROKV"
      }
    },
    {
      "cell_type": "markdown",
      "source": [
        "**Pada bagian ini Anda akan diminta untuk melakukan preprocessing dan eksplorasi data sebelum data digunakan dalam model klasifikasi.**"
      ],
      "metadata": {
        "id": "-17a8T9R2_15"
      }
    },
    {
      "cell_type": "markdown",
      "source": [
        "1\\. [3] Berikan ringkasan mengenai data tersebut terkait dengan deskripsi setiap atribut, jumlah missing values, jumlah duplikasi data, dan kemungkinan adanya outliers pada data!"
      ],
      "metadata": {
        "id": "rjKw3KxmRbhm"
      }
    },
    {
      "cell_type": "code",
      "source": [],
      "metadata": {
        "id": "77nxbl8ZiLai"
      },
      "execution_count": null,
      "outputs": []
    },
    {
      "cell_type": "markdown",
      "source": [
        "2\\. [3] Berdasarkan eksplorasi anda pada nomor 1, lakukan data preparation hingga data tersebut menurut anda cukup “clean” dan dapat memberikan hasil klasifikasi yang maksimal."
      ],
      "metadata": {
        "id": "GSDnFvDQaHsE"
      }
    },
    {
      "cell_type": "code",
      "source": [],
      "metadata": {
        "id": "JjVBdG3wiLvC"
      },
      "execution_count": null,
      "outputs": []
    },
    {
      "cell_type": "markdown",
      "source": [
        "3\\. [3] Menurut Anda, apakah perlu dilakukan normalisasi terhadap data, atau cukup menggunakan data asli? Jika ya, bentuk normalisasi apa yang tepat digunakan pada data? Jelaskan secara singkat alasan Anda!\n"
      ],
      "metadata": {
        "id": "1Dy5ZSFiaJ-j"
      }
    },
    {
      "cell_type": "code",
      "source": [],
      "metadata": {
        "id": "F8pRxs-JiNjY"
      },
      "execution_count": null,
      "outputs": []
    },
    {
      "cell_type": "markdown",
      "source": [
        "> Jawaban: \n",
        "\n",
        "> "
      ],
      "metadata": {
        "id": "rpXss7aMVSrl"
      }
    },
    {
      "cell_type": "markdown",
      "source": [
        "4\\. [10] Sebelum data diproses lebih lanjut lakukan *feature selection* dengan memilih beberapa fitur yang paling optimal untuk mengklasifikasikan label target!"
      ],
      "metadata": {
        "id": "SJSs0FIUZRrl"
      }
    },
    {
      "cell_type": "code",
      "source": [],
      "metadata": {
        "id": "BLmMRKH1iN8F"
      },
      "execution_count": null,
      "outputs": []
    },
    {
      "cell_type": "markdown",
      "source": [
        "5\\. [6] Apa saja fitur-fitur yang terpilih hasil dari *feature selection*? Jelaskan strategi Anda dalam memilih fitur-fitur tersebut dan berikan analisis mengapa fitur tersebut cocok digunakan untuk mengklasifikasi label target!"
      ],
      "metadata": {
        "id": "cRnGaYKzYCzQ"
      }
    },
    {
      "cell_type": "code",
      "source": [],
      "metadata": {
        "id": "t_smc60uiOqA"
      },
      "execution_count": null,
      "outputs": []
    },
    {
      "cell_type": "markdown",
      "source": [
        "> Jawaban: \n",
        "\n",
        "> "
      ],
      "metadata": {
        "id": "CIXT6s0CYXMr"
      }
    },
    {
      "cell_type": "markdown",
      "source": [
        "## [75] **Classification**"
      ],
      "metadata": {
        "id": "Zd_2N68bWAkj"
      }
    },
    {
      "cell_type": "markdown",
      "source": [
        "**Pada bagian ini Anda akan diminta untuk melakukan klasifikasi harga suatu mobile phone berdasarkan fitur-fitur yang sudah Anda pilih sebelumnya. Anda akan mencoba berbagai macam model klasifikasi seperti Decision Tree, Random Forest, Naive Bayes, dan K-nearest Neighbors untuk mencari model yang memiliki performa terbaik.**"
      ],
      "metadata": {
        "id": "avihHMUe3Wr5"
      }
    },
    {
      "cell_type": "markdown",
      "source": [
        "### [3] Preparation"
      ],
      "metadata": {
        "id": "0BU-UDpS_vux"
      }
    },
    {
      "cell_type": "markdown",
      "source": [
        "6\\. [3] Buatlah model K-Fold Cross Validation yang akan digunakan untuk membagi dataset train dan test menjadi beberapa bagian (*fold*). Strategi ini akan Anda gunakan pada semua *classifier* dibandingkan dengan strategi sebelumnya yang hanya membagi data ke dalam data training dan testing menggunakan method `train_test_split`."
      ],
      "metadata": {
        "id": "k0Rx9ijj1vxn"
      }
    },
    {
      "cell_type": "code",
      "source": [],
      "metadata": {
        "id": "OH_X8ztTiPNk"
      },
      "execution_count": null,
      "outputs": []
    },
    {
      "cell_type": "markdown",
      "source": [
        "### [19] Decision Tree"
      ],
      "metadata": {
        "id": "9inMOAFxW3Uh"
      }
    },
    {
      "cell_type": "markdown",
      "source": [
        "7\\. [4] Implementasikan model Decision Tree tanpa konfigurasi parameter apapun, serta berikan hasil evaluasinya!"
      ],
      "metadata": {
        "id": "1mm499viX-M0"
      }
    },
    {
      "cell_type": "code",
      "source": [],
      "metadata": {
        "id": "yrTlpXM1iPjm"
      },
      "execution_count": null,
      "outputs": []
    },
    {
      "cell_type": "markdown",
      "source": [
        "8\\. [4] Implementasikan model Decision Tree dengan memberikan parameter nilai `min_samples_leaf=50`; serta berikan hasil evaluasinya!"
      ],
      "metadata": {
        "id": "xv7Fru2ebkZb"
      }
    },
    {
      "cell_type": "code",
      "source": [],
      "metadata": {
        "id": "7Ll1nIE2iP6A"
      },
      "execution_count": null,
      "outputs": []
    },
    {
      "cell_type": "markdown",
      "source": [
        "9\\. [6] Bandingkan model yang dibuat pada soal nomor 7 dan nomor 8, manakah yang lebih baik? Berikan analisis Anda terkait bagaimana hubungan perubahan parameter tersebut dengan kualitas hasil klasifikasi!"
      ],
      "metadata": {
        "id": "q90rtM8MdnGU"
      }
    },
    {
      "cell_type": "markdown",
      "source": [
        "> Jawaban: \n",
        "\n",
        "> "
      ],
      "metadata": {
        "id": "oikaDKV0dnGV"
      }
    },
    {
      "cell_type": "markdown",
      "source": [
        "10\\. [5] Buatlah model yang memiliki performa yang lebih bagus dibanding kedua model sebelumnya! Anda dibebaskan untuk melakukan eksplorasi dalam mengkonfigurasi parameter yang dipakai."
      ],
      "metadata": {
        "id": "H3811o_r3W2T"
      }
    },
    {
      "cell_type": "code",
      "source": [],
      "metadata": {
        "id": "fAjKvo8yiRQB"
      },
      "execution_count": null,
      "outputs": []
    },
    {
      "cell_type": "markdown",
      "source": [
        "### [18] Random Forest"
      ],
      "metadata": {
        "id": "4Qzu0GmLXLF8"
      }
    },
    {
      "cell_type": "markdown",
      "source": [
        "11\\. [4] Implementasikan model Random Forest tanpa konfigurasi parameter apapun, serta berikan hasil evaluasinya!"
      ],
      "metadata": {
        "id": "XX-Fw5IKuGW1"
      }
    },
    {
      "cell_type": "code",
      "source": [],
      "metadata": {
        "id": "7bdchBYiiR36"
      },
      "execution_count": null,
      "outputs": []
    },
    {
      "cell_type": "markdown",
      "source": [
        "12\\. [8] Implementasikan model Random Forest dengan parameter yang didapatkan dari hasil Hyperparameter Tuning, serta berikan hasil evaluasinya!"
      ],
      "metadata": {
        "id": "xtJr-aswuQpO"
      }
    },
    {
      "cell_type": "code",
      "source": [],
      "metadata": {
        "id": "5HFjrTD2iSnU"
      },
      "execution_count": null,
      "outputs": []
    },
    {
      "cell_type": "markdown",
      "source": [
        "13\\. [6] Bandingkan model yang dibuat pada soal nomor 11 dan nomor 12, manakah yang lebih baik? Berikan analisis Anda terkait bagaimana hubungan perubahan parameter tersebut dengan kualitas hasil klasifikasi!"
      ],
      "metadata": {
        "id": "m9q2bUyML9IO"
      }
    },
    {
      "cell_type": "markdown",
      "source": [
        "> Jawaban: \n",
        "\n",
        "> \n"
      ],
      "metadata": {
        "id": "-Z8ISug7fR7X"
      }
    },
    {
      "cell_type": "markdown",
      "source": [
        "### [16] Naive Bayes"
      ],
      "metadata": {
        "id": "GYjdBnEGXLSt"
      }
    },
    {
      "cell_type": "markdown",
      "source": [
        "14\\. [4] Implementasikan model dari salah satu variasi Naive Bayes; serta berikan hasil evaluasinya!"
      ],
      "metadata": {
        "id": "Ye29g1MxZC8X"
      }
    },
    {
      "cell_type": "code",
      "source": [],
      "metadata": {
        "id": "ekaf-eMsiTZ_"
      },
      "execution_count": null,
      "outputs": []
    },
    {
      "cell_type": "markdown",
      "source": [
        "15\\. [6] Apa alasan dan pertimbangan Anda dalam memilih variasi tersebut dibandingkan variasi Naive Bayes lainnya? "
      ],
      "metadata": {
        "id": "xsWO4hMrjuAe"
      }
    },
    {
      "cell_type": "markdown",
      "source": [
        "> Jawaban:\n",
        "\n",
        "> "
      ],
      "metadata": {
        "id": "ouWhbqaHiZd4"
      }
    },
    {
      "cell_type": "markdown",
      "source": [
        "16\\. [6] Masing-masing variasi Naive Bayes dibuat khusus untuk menyesuaikan tipe data tertentu pada data yang digunakan. Jika data yang ada memiliki tipe fitur yang bervariasi (numerik, biner, kategorik, dll), apakah kita bisa menggunakan salah satu variasi algoritma saja? Bagaimana strategi Anda dalam menganani kasus tersebut?"
      ],
      "metadata": {
        "id": "VsSeCbX4F47y"
      }
    },
    {
      "cell_type": "markdown",
      "source": [
        "> Jawaban:\n",
        "\n",
        "> "
      ],
      "metadata": {
        "id": "Ke7dIWhXGctn"
      }
    },
    {
      "cell_type": "markdown",
      "source": [
        "### [12] K-nearest Neighbors"
      ],
      "metadata": {
        "id": "fgcOGrgNXLOb"
      }
    },
    {
      "cell_type": "markdown",
      "source": [
        "17\\. [4] Implementasikan model KNN dengan memberikan parameter nilai `n_neighbors=3`; serta berikan hasil evaluasinya!"
      ],
      "metadata": {
        "id": "t8rTVurcyq6H"
      }
    },
    {
      "cell_type": "code",
      "source": [],
      "metadata": {
        "id": "iBgt6hlliUKa"
      },
      "execution_count": null,
      "outputs": []
    },
    {
      "cell_type": "markdown",
      "source": [
        "18\\. [8] Implementasikan model KNN dengan parameter yang didapatkan dari hasil Hyperparameter Tuning, serta berikan hasil evaluasinya!"
      ],
      "metadata": {
        "id": "Uqj3bKgDzP71"
      }
    },
    {
      "cell_type": "code",
      "source": [],
      "metadata": {
        "id": "XnxRKOjJiUga"
      },
      "execution_count": null,
      "outputs": []
    },
    {
      "cell_type": "markdown",
      "source": [
        "### [7] Analisis"
      ],
      "metadata": {
        "id": "0bJvYH9F38uw"
      }
    },
    {
      "cell_type": "markdown",
      "source": [
        "19\\. [7] Dari keempat variasi model (Decision Tree, Random Forest, Naive Bayes, dan KNN) yang sudah Anda coba, manakah model yang memiliki performa terbaik? Berikan analisis Anda!"
      ],
      "metadata": {
        "id": "ER7H289m3-Cv"
      }
    },
    {
      "cell_type": "markdown",
      "source": [
        "> Jawaban:\n",
        "\n",
        "> "
      ],
      "metadata": {
        "id": "eReK2O-s4X-m"
      }
    }
  ]
}