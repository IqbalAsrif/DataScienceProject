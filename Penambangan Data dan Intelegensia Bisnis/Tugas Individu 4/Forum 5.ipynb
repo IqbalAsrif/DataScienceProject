{
 "cells": [
  {
   "cell_type": "code",
   "execution_count": 8,
   "metadata": {},
   "outputs": [],
   "source": [
    "import pandas as pd\n",
    "import seaborn as sns\n",
    "import numpy as np\n",
    "from sklearn.model_selection import GridSearchCV\n",
    "from sklearn.preprocessing import LabelEncoder"
   ]
  },
  {
   "cell_type": "code",
   "execution_count": 9,
   "metadata": {},
   "outputs": [
    {
     "data": {
      "text/html": [
       "<div>\n",
       "<style scoped>\n",
       "    .dataframe tbody tr th:only-of-type {\n",
       "        vertical-align: middle;\n",
       "    }\n",
       "\n",
       "    .dataframe tbody tr th {\n",
       "        vertical-align: top;\n",
       "    }\n",
       "\n",
       "    .dataframe thead th {\n",
       "        text-align: right;\n",
       "    }\n",
       "</style>\n",
       "<table border=\"1\" class=\"dataframe\">\n",
       "  <thead>\n",
       "    <tr style=\"text-align: right;\">\n",
       "      <th></th>\n",
       "      <th>Unnamed: 0</th>\n",
       "      <th>diposting_oleh</th>\n",
       "      <th>sedang_pembangunan</th>\n",
       "      <th>disetujui_pemerintah</th>\n",
       "      <th>total_ruangan</th>\n",
       "      <th>tipe_a_atau_b</th>\n",
       "      <th>kaki_persegi</th>\n",
       "      <th>siap_pindah</th>\n",
       "      <th>dijual_kembali</th>\n",
       "      <th>alamat</th>\n",
       "      <th>longitude</th>\n",
       "      <th>latitude</th>\n",
       "      <th>harga</th>\n",
       "      <th>harga_per_kaki_persegi</th>\n",
       "      <th>harga_per_ruang</th>\n",
       "    </tr>\n",
       "  </thead>\n",
       "  <tbody>\n",
       "    <tr>\n",
       "      <th>0</th>\n",
       "      <td>0</td>\n",
       "      <td>Owner</td>\n",
       "      <td>0</td>\n",
       "      <td>0</td>\n",
       "      <td>2</td>\n",
       "      <td>tipe_b</td>\n",
       "      <td>1300.236407</td>\n",
       "      <td>1</td>\n",
       "      <td>1</td>\n",
       "      <td>Ksfc Layout,Bangalore</td>\n",
       "      <td>77.597960</td>\n",
       "      <td>12.969910</td>\n",
       "      <td>55.0</td>\n",
       "      <td>0.04230</td>\n",
       "      <td>27.50</td>\n",
       "    </tr>\n",
       "    <tr>\n",
       "      <th>1</th>\n",
       "      <td>1</td>\n",
       "      <td>Dealer</td>\n",
       "      <td>0</td>\n",
       "      <td>0</td>\n",
       "      <td>2</td>\n",
       "      <td>tipe_b</td>\n",
       "      <td>1275.000000</td>\n",
       "      <td>1</td>\n",
       "      <td>1</td>\n",
       "      <td>Vishweshwara Nagar,Mysore</td>\n",
       "      <td>76.644605</td>\n",
       "      <td>12.274538</td>\n",
       "      <td>51.0</td>\n",
       "      <td>0.04000</td>\n",
       "      <td>25.50</td>\n",
       "    </tr>\n",
       "    <tr>\n",
       "      <th>2</th>\n",
       "      <td>2</td>\n",
       "      <td>Owner</td>\n",
       "      <td>0</td>\n",
       "      <td>0</td>\n",
       "      <td>2</td>\n",
       "      <td>tipe_b</td>\n",
       "      <td>933.159722</td>\n",
       "      <td>1</td>\n",
       "      <td>1</td>\n",
       "      <td>Jigani,Bangalore</td>\n",
       "      <td>77.632191</td>\n",
       "      <td>12.778033</td>\n",
       "      <td>43.0</td>\n",
       "      <td>0.04608</td>\n",
       "      <td>21.50</td>\n",
       "    </tr>\n",
       "    <tr>\n",
       "      <th>3</th>\n",
       "      <td>3</td>\n",
       "      <td>Owner</td>\n",
       "      <td>0</td>\n",
       "      <td>1</td>\n",
       "      <td>2</td>\n",
       "      <td>tipe_b</td>\n",
       "      <td>929.921143</td>\n",
       "      <td>1</td>\n",
       "      <td>1</td>\n",
       "      <td>Sector-1 Vaishali,Ghaziabad</td>\n",
       "      <td>77.344500</td>\n",
       "      <td>28.642300</td>\n",
       "      <td>62.5</td>\n",
       "      <td>0.06721</td>\n",
       "      <td>31.25</td>\n",
       "    </tr>\n",
       "    <tr>\n",
       "      <th>4</th>\n",
       "      <td>4</td>\n",
       "      <td>Dealer</td>\n",
       "      <td>1</td>\n",
       "      <td>0</td>\n",
       "      <td>2</td>\n",
       "      <td>tipe_b</td>\n",
       "      <td>999.009247</td>\n",
       "      <td>0</td>\n",
       "      <td>1</td>\n",
       "      <td>New Town,Kolkata</td>\n",
       "      <td>88.484911</td>\n",
       "      <td>22.592200</td>\n",
       "      <td>60.5</td>\n",
       "      <td>0.06056</td>\n",
       "      <td>30.25</td>\n",
       "    </tr>\n",
       "  </tbody>\n",
       "</table>\n",
       "</div>"
      ],
      "text/plain": [
       "   Unnamed: 0 diposting_oleh  sedang_pembangunan  disetujui_pemerintah  \\\n",
       "0           0          Owner                   0                     0   \n",
       "1           1         Dealer                   0                     0   \n",
       "2           2          Owner                   0                     0   \n",
       "3           3          Owner                   0                     1   \n",
       "4           4         Dealer                   1                     0   \n",
       "\n",
       "   total_ruangan tipe_a_atau_b  kaki_persegi  siap_pindah  dijual_kembali  \\\n",
       "0              2        tipe_b   1300.236407            1               1   \n",
       "1              2        tipe_b   1275.000000            1               1   \n",
       "2              2        tipe_b    933.159722            1               1   \n",
       "3              2        tipe_b    929.921143            1               1   \n",
       "4              2        tipe_b    999.009247            0               1   \n",
       "\n",
       "                        alamat  longitude   latitude  harga  \\\n",
       "0        Ksfc Layout,Bangalore  77.597960  12.969910   55.0   \n",
       "1    Vishweshwara Nagar,Mysore  76.644605  12.274538   51.0   \n",
       "2             Jigani,Bangalore  77.632191  12.778033   43.0   \n",
       "3  Sector-1 Vaishali,Ghaziabad  77.344500  28.642300   62.5   \n",
       "4             New Town,Kolkata  88.484911  22.592200   60.5   \n",
       "\n",
       "   harga_per_kaki_persegi  harga_per_ruang  \n",
       "0                 0.04230            27.50  \n",
       "1                 0.04000            25.50  \n",
       "2                 0.04608            21.50  \n",
       "3                 0.06721            31.25  \n",
       "4                 0.06056            30.25  "
      ]
     },
     "execution_count": 9,
     "metadata": {},
     "output_type": "execute_result"
    }
   ],
   "source": [
    "data = pd.read_csv('Tugas4_2006473945_MuhammadIqbalAsrif.csv')\n",
    "data.head()"
   ]
  },
  {
   "cell_type": "code",
   "execution_count": 10,
   "metadata": {},
   "outputs": [
    {
     "name": "stdout",
     "output_type": "stream",
     "text": [
      "<class 'pandas.core.frame.DataFrame'>\n",
      "RangeIndex: 23735 entries, 0 to 23734\n",
      "Data columns (total 15 columns):\n",
      " #   Column                  Non-Null Count  Dtype  \n",
      "---  ------                  --------------  -----  \n",
      " 0   Unnamed: 0              23735 non-null  int64  \n",
      " 1   diposting_oleh          23735 non-null  object \n",
      " 2   sedang_pembangunan      23735 non-null  int64  \n",
      " 3   disetujui_pemerintah    23735 non-null  int64  \n",
      " 4   total_ruangan           23735 non-null  int64  \n",
      " 5   tipe_a_atau_b           23735 non-null  object \n",
      " 6   kaki_persegi            23735 non-null  float64\n",
      " 7   siap_pindah             23735 non-null  int64  \n",
      " 8   dijual_kembali          23735 non-null  int64  \n",
      " 9   alamat                  22082 non-null  object \n",
      " 10  longitude               23735 non-null  float64\n",
      " 11  latitude                23735 non-null  float64\n",
      " 12  harga                   23735 non-null  float64\n",
      " 13  harga_per_kaki_persegi  23735 non-null  float64\n",
      " 14  harga_per_ruang         23735 non-null  float64\n",
      "dtypes: float64(6), int64(6), object(3)\n",
      "memory usage: 2.7+ MB\n"
     ]
    }
   ],
   "source": [
    "data.info()"
   ]
  },
  {
   "cell_type": "code",
   "execution_count": 11,
   "metadata": {},
   "outputs": [],
   "source": [
    "data.drop('alamat', axis=1, inplace=True)"
   ]
  },
  {
   "cell_type": "code",
   "execution_count": 12,
   "metadata": {},
   "outputs": [],
   "source": [
    "Q1 = data['total_ruangan'].quantile(0.25)\n",
    "Q3 = data['total_ruangan'].quantile(0.75)\n",
    "IQR = Q3 - Q1"
   ]
  },
  {
   "cell_type": "code",
   "execution_count": 13,
   "metadata": {},
   "outputs": [
    {
     "data": {
      "text/plain": [
       "(23702, 14)"
      ]
     },
     "execution_count": 13,
     "metadata": {},
     "output_type": "execute_result"
    }
   ],
   "source": [
    "data = data[~((data['total_ruangan'] < (Q1 - 1.5 * IQR)) | (data['total_ruangan'] > (Q3 + 1.5 * IQR)))]\n",
    "data.shape"
   ]
  },
  {
   "cell_type": "code",
   "execution_count": 14,
   "metadata": {},
   "outputs": [],
   "source": [
    "X = data[['harga_per_ruang', 'harga_per_kaki_persegi', 'latitude', 'longitude']]\n",
    "y = data['harga']"
   ]
  },
  {
   "cell_type": "code",
   "execution_count": 15,
   "metadata": {},
   "outputs": [],
   "source": [
    "from sklearn.model_selection import train_test_split\n",
    "\n",
    "X_train, X_test, y_train, y_test = train_test_split(X, y, test_size=0.2, shuffle=True)"
   ]
  },
  {
   "cell_type": "code",
   "execution_count": 16,
   "metadata": {},
   "outputs": [],
   "source": [
    "from sklearn.preprocessing import StandardScaler\n",
    "\n",
    "sc = StandardScaler()\n",
    "\n",
    "X_train_scaled = sc.fit_transform(X_train)\n",
    "X_test_scaled = sc.transform(X_test)"
   ]
  },
  {
   "cell_type": "code",
   "execution_count": 17,
   "metadata": {},
   "outputs": [
    {
     "data": {
      "text/plain": [
       "0.8452110600192251"
      ]
     },
     "execution_count": 17,
     "metadata": {},
     "output_type": "execute_result"
    }
   ],
   "source": [
    "from sklearn.ensemble import RandomForestRegressor\n",
    "\n",
    "rf = RandomForestRegressor()\n",
    "rf.fit(X_train_scaled, y_train)\n",
    "rf.score(X_test_scaled, y_test)"
   ]
  }
 ],
 "metadata": {
  "kernelspec": {
   "display_name": "Python 3.10.2 64-bit",
   "language": "python",
   "name": "python3"
  },
  "language_info": {
   "codemirror_mode": {
    "name": "ipython",
    "version": 3
   },
   "file_extension": ".py",
   "mimetype": "text/x-python",
   "name": "python",
   "nbconvert_exporter": "python",
   "pygments_lexer": "ipython3",
   "version": "3.10.2"
  },
  "orig_nbformat": 4,
  "vscode": {
   "interpreter": {
    "hash": "c263b2455bde33485997a3dbeae7eefc58c037db36f19208f2d2feb2b480f596"
   }
  }
 },
 "nbformat": 4,
 "nbformat_minor": 2
}
