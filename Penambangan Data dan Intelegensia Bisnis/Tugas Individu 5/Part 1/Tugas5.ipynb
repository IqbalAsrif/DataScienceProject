{
 "cells": [
  {
   "cell_type": "code",
   "execution_count": 147,
   "metadata": {},
   "outputs": [],
   "source": [
    "import pandas as pd"
   ]
  },
  {
   "cell_type": "code",
   "execution_count": 148,
   "metadata": {},
   "outputs": [
    {
     "data": {
      "text/html": [
       "<div>\n",
       "<style scoped>\n",
       "    .dataframe tbody tr th:only-of-type {\n",
       "        vertical-align: middle;\n",
       "    }\n",
       "\n",
       "    .dataframe tbody tr th {\n",
       "        vertical-align: top;\n",
       "    }\n",
       "\n",
       "    .dataframe thead th {\n",
       "        text-align: right;\n",
       "    }\n",
       "</style>\n",
       "<table border=\"1\" class=\"dataframe\">\n",
       "  <thead>\n",
       "    <tr style=\"text-align: right;\">\n",
       "      <th></th>\n",
       "      <th>diposting_oleh</th>\n",
       "      <th>sedang_pembangunan</th>\n",
       "      <th>disetujui_pemerintah</th>\n",
       "      <th>total_ruangan</th>\n",
       "      <th>tipe_a_atau_b</th>\n",
       "      <th>kaki_persegi</th>\n",
       "      <th>siap_pindah</th>\n",
       "      <th>dijual_kembali</th>\n",
       "      <th>alamat</th>\n",
       "      <th>longitude</th>\n",
       "      <th>latitude</th>\n",
       "      <th>harga</th>\n",
       "    </tr>\n",
       "  </thead>\n",
       "  <tbody>\n",
       "    <tr>\n",
       "      <th>0</th>\n",
       "      <td>Owner</td>\n",
       "      <td>0.0</td>\n",
       "      <td>0</td>\n",
       "      <td>2.0</td>\n",
       "      <td>tipe_a</td>\n",
       "      <td>1300.236407</td>\n",
       "      <td>1</td>\n",
       "      <td>1</td>\n",
       "      <td>Ksfc Layout,Bangalore</td>\n",
       "      <td>12.969910</td>\n",
       "      <td>77.597960</td>\n",
       "      <td>55.0</td>\n",
       "    </tr>\n",
       "    <tr>\n",
       "      <th>1</th>\n",
       "      <td>Dealer</td>\n",
       "      <td>0.0</td>\n",
       "      <td>0</td>\n",
       "      <td>2.0</td>\n",
       "      <td>tipe_a</td>\n",
       "      <td>1275.0</td>\n",
       "      <td>1</td>\n",
       "      <td>1</td>\n",
       "      <td>Vishweshwara Nagar,Mysore</td>\n",
       "      <td>12.274538</td>\n",
       "      <td>76.644605</td>\n",
       "      <td>51.0</td>\n",
       "    </tr>\n",
       "    <tr>\n",
       "      <th>2</th>\n",
       "      <td>Owner</td>\n",
       "      <td>0.0</td>\n",
       "      <td>0</td>\n",
       "      <td>2.0</td>\n",
       "      <td>tipe_a</td>\n",
       "      <td>933.1597222</td>\n",
       "      <td>1</td>\n",
       "      <td>1</td>\n",
       "      <td>Jigani,Bangalore</td>\n",
       "      <td>12.778033</td>\n",
       "      <td>77.632191</td>\n",
       "      <td>43.0</td>\n",
       "    </tr>\n",
       "    <tr>\n",
       "      <th>3</th>\n",
       "      <td>Owner</td>\n",
       "      <td>0.0</td>\n",
       "      <td>1</td>\n",
       "      <td>2.0</td>\n",
       "      <td>tipe_a</td>\n",
       "      <td>929.9211427</td>\n",
       "      <td>1</td>\n",
       "      <td>1</td>\n",
       "      <td>Sector-1 Vaishali,Ghaziabad</td>\n",
       "      <td>28.642300</td>\n",
       "      <td>77.344500</td>\n",
       "      <td>62.5</td>\n",
       "    </tr>\n",
       "    <tr>\n",
       "      <th>4</th>\n",
       "      <td>Dealer</td>\n",
       "      <td>1.0</td>\n",
       "      <td>0</td>\n",
       "      <td>2.0</td>\n",
       "      <td>tipe_a</td>\n",
       "      <td>999.009247</td>\n",
       "      <td>0</td>\n",
       "      <td>1</td>\n",
       "      <td>New Town,Kolkata</td>\n",
       "      <td>22.592200</td>\n",
       "      <td>88.484911</td>\n",
       "      <td>60.5</td>\n",
       "    </tr>\n",
       "  </tbody>\n",
       "</table>\n",
       "</div>"
      ],
      "text/plain": [
       "  diposting_oleh  sedang_pembangunan  disetujui_pemerintah  total_ruangan  \\\n",
       "0          Owner                 0.0                     0            2.0   \n",
       "1         Dealer                 0.0                     0            2.0   \n",
       "2          Owner                 0.0                     0            2.0   \n",
       "3          Owner                 0.0                     1            2.0   \n",
       "4         Dealer                 1.0                     0            2.0   \n",
       "\n",
       "  tipe_a_atau_b kaki_persegi siap_pindah dijual_kembali  \\\n",
       "0        tipe_a  1300.236407           1              1   \n",
       "1        tipe_a       1275.0           1              1   \n",
       "2        tipe_a  933.1597222           1              1   \n",
       "3        tipe_a  929.9211427           1              1   \n",
       "4        tipe_a   999.009247           0              1   \n",
       "\n",
       "                        alamat  longitude   latitude  harga  \n",
       "0        Ksfc Layout,Bangalore  12.969910  77.597960   55.0  \n",
       "1    Vishweshwara Nagar,Mysore  12.274538  76.644605   51.0  \n",
       "2             Jigani,Bangalore  12.778033  77.632191   43.0  \n",
       "3  Sector-1 Vaishali,Ghaziabad  28.642300  77.344500   62.5  \n",
       "4             New Town,Kolkata  22.592200  88.484911   60.5  "
      ]
     },
     "execution_count": 148,
     "metadata": {},
     "output_type": "execute_result"
    }
   ],
   "source": [
    "data_train = pd.read_csv('dataset_harga_rumah.csv')\n",
    "data_train.head()"
   ]
  },
  {
   "cell_type": "code",
   "execution_count": 149,
   "metadata": {},
   "outputs": [
    {
     "data": {
      "text/html": [
       "<div>\n",
       "<style scoped>\n",
       "    .dataframe tbody tr th:only-of-type {\n",
       "        vertical-align: middle;\n",
       "    }\n",
       "\n",
       "    .dataframe tbody tr th {\n",
       "        vertical-align: top;\n",
       "    }\n",
       "\n",
       "    .dataframe thead th {\n",
       "        text-align: right;\n",
       "    }\n",
       "</style>\n",
       "<table border=\"1\" class=\"dataframe\">\n",
       "  <thead>\n",
       "    <tr style=\"text-align: right;\">\n",
       "      <th></th>\n",
       "      <th>diposting_oleh</th>\n",
       "      <th>sedang_pembangunan</th>\n",
       "      <th>disetujui_pemerintah</th>\n",
       "      <th>total_ruangan</th>\n",
       "      <th>tipe_a_atau_b</th>\n",
       "      <th>kaki_persegi</th>\n",
       "      <th>siap_pindah</th>\n",
       "      <th>dijual_kembali</th>\n",
       "      <th>alamat</th>\n",
       "      <th>longitude</th>\n",
       "      <th>latitude</th>\n",
       "    </tr>\n",
       "  </thead>\n",
       "  <tbody>\n",
       "    <tr>\n",
       "      <th>0</th>\n",
       "      <td>Owner</td>\n",
       "      <td>0</td>\n",
       "      <td>0</td>\n",
       "      <td>1</td>\n",
       "      <td>tipe_a</td>\n",
       "      <td>545.171340</td>\n",
       "      <td>1</td>\n",
       "      <td>1</td>\n",
       "      <td>Kamrej,Surat</td>\n",
       "      <td>21.262000</td>\n",
       "      <td>73.047700</td>\n",
       "    </tr>\n",
       "    <tr>\n",
       "      <th>1</th>\n",
       "      <td>Dealer</td>\n",
       "      <td>1</td>\n",
       "      <td>1</td>\n",
       "      <td>2</td>\n",
       "      <td>tipe_a</td>\n",
       "      <td>800.000000</td>\n",
       "      <td>0</td>\n",
       "      <td>0</td>\n",
       "      <td>Panvel,Lalitpur</td>\n",
       "      <td>18.966114</td>\n",
       "      <td>73.148278</td>\n",
       "    </tr>\n",
       "    <tr>\n",
       "      <th>2</th>\n",
       "      <td>Dealer</td>\n",
       "      <td>0</td>\n",
       "      <td>0</td>\n",
       "      <td>2</td>\n",
       "      <td>tipe_a</td>\n",
       "      <td>1257.096513</td>\n",
       "      <td>1</td>\n",
       "      <td>1</td>\n",
       "      <td>New Town,Kolkata</td>\n",
       "      <td>22.592200</td>\n",
       "      <td>88.484911</td>\n",
       "    </tr>\n",
       "    <tr>\n",
       "      <th>3</th>\n",
       "      <td>Dealer</td>\n",
       "      <td>0</td>\n",
       "      <td>0</td>\n",
       "      <td>3</td>\n",
       "      <td>tipe_a</td>\n",
       "      <td>1400.329489</td>\n",
       "      <td>1</td>\n",
       "      <td>1</td>\n",
       "      <td>Kalwar Road,Jaipur</td>\n",
       "      <td>26.988300</td>\n",
       "      <td>75.584600</td>\n",
       "    </tr>\n",
       "    <tr>\n",
       "      <th>4</th>\n",
       "      <td>Owner</td>\n",
       "      <td>0</td>\n",
       "      <td>0</td>\n",
       "      <td>1</td>\n",
       "      <td>tipe_a</td>\n",
       "      <td>430.477830</td>\n",
       "      <td>1</td>\n",
       "      <td>1</td>\n",
       "      <td>Mai Mandir,Nadiad</td>\n",
       "      <td>22.700000</td>\n",
       "      <td>72.870000</td>\n",
       "    </tr>\n",
       "  </tbody>\n",
       "</table>\n",
       "</div>"
      ],
      "text/plain": [
       "  diposting_oleh  sedang_pembangunan  disetujui_pemerintah  total_ruangan  \\\n",
       "0          Owner                   0                     0              1   \n",
       "1         Dealer                   1                     1              2   \n",
       "2         Dealer                   0                     0              2   \n",
       "3         Dealer                   0                     0              3   \n",
       "4          Owner                   0                     0              1   \n",
       "\n",
       "  tipe_a_atau_b  kaki_persegi  siap_pindah  dijual_kembali  \\\n",
       "0        tipe_a    545.171340            1               1   \n",
       "1        tipe_a    800.000000            0               0   \n",
       "2        tipe_a   1257.096513            1               1   \n",
       "3        tipe_a   1400.329489            1               1   \n",
       "4        tipe_a    430.477830            1               1   \n",
       "\n",
       "               alamat  longitude   latitude  \n",
       "0        Kamrej,Surat  21.262000  73.047700  \n",
       "1     Panvel,Lalitpur  18.966114  73.148278  \n",
       "2    New Town,Kolkata  22.592200  88.484911  \n",
       "3  Kalwar Road,Jaipur  26.988300  75.584600  \n",
       "4   Mai Mandir,Nadiad  22.700000  72.870000  "
      ]
     },
     "execution_count": 149,
     "metadata": {},
     "output_type": "execute_result"
    }
   ],
   "source": [
    "data_tes = pd.read_csv('DataForTest.csv')\n",
    "data_tes.head()"
   ]
  },
  {
   "cell_type": "code",
   "execution_count": 150,
   "metadata": {},
   "outputs": [
    {
     "data": {
      "text/html": [
       "<div>\n",
       "<style scoped>\n",
       "    .dataframe tbody tr th:only-of-type {\n",
       "        vertical-align: middle;\n",
       "    }\n",
       "\n",
       "    .dataframe tbody tr th {\n",
       "        vertical-align: top;\n",
       "    }\n",
       "\n",
       "    .dataframe thead th {\n",
       "        text-align: right;\n",
       "    }\n",
       "</style>\n",
       "<table border=\"1\" class=\"dataframe\">\n",
       "  <thead>\n",
       "    <tr style=\"text-align: right;\">\n",
       "      <th></th>\n",
       "      <th>sedang_pembangunan</th>\n",
       "      <th>disetujui_pemerintah</th>\n",
       "      <th>total_ruangan</th>\n",
       "      <th>longitude</th>\n",
       "      <th>latitude</th>\n",
       "      <th>harga</th>\n",
       "    </tr>\n",
       "  </thead>\n",
       "  <tbody>\n",
       "    <tr>\n",
       "      <th>count</th>\n",
       "      <td>27476.000000</td>\n",
       "      <td>29451.000000</td>\n",
       "      <td>28071.000000</td>\n",
       "      <td>29451.000000</td>\n",
       "      <td>26008.000000</td>\n",
       "      <td>29451.000000</td>\n",
       "    </tr>\n",
       "    <tr>\n",
       "      <th>mean</th>\n",
       "      <td>0.179684</td>\n",
       "      <td>0.317918</td>\n",
       "      <td>2.392220</td>\n",
       "      <td>21.300255</td>\n",
       "      <td>76.820157</td>\n",
       "      <td>142.898746</td>\n",
       "    </tr>\n",
       "    <tr>\n",
       "      <th>std</th>\n",
       "      <td>0.383931</td>\n",
       "      <td>0.465675</td>\n",
       "      <td>0.882229</td>\n",
       "      <td>6.205306</td>\n",
       "      <td>10.697823</td>\n",
       "      <td>656.880713</td>\n",
       "    </tr>\n",
       "    <tr>\n",
       "      <th>min</th>\n",
       "      <td>0.000000</td>\n",
       "      <td>0.000000</td>\n",
       "      <td>1.000000</td>\n",
       "      <td>-37.713008</td>\n",
       "      <td>-121.761248</td>\n",
       "      <td>0.250000</td>\n",
       "    </tr>\n",
       "    <tr>\n",
       "      <th>25%</th>\n",
       "      <td>0.000000</td>\n",
       "      <td>0.000000</td>\n",
       "      <td>2.000000</td>\n",
       "      <td>18.452663</td>\n",
       "      <td>73.798100</td>\n",
       "      <td>38.000000</td>\n",
       "    </tr>\n",
       "    <tr>\n",
       "      <th>50%</th>\n",
       "      <td>0.000000</td>\n",
       "      <td>0.000000</td>\n",
       "      <td>2.000000</td>\n",
       "      <td>20.750000</td>\n",
       "      <td>77.326330</td>\n",
       "      <td>62.000000</td>\n",
       "    </tr>\n",
       "    <tr>\n",
       "      <th>75%</th>\n",
       "      <td>0.000000</td>\n",
       "      <td>1.000000</td>\n",
       "      <td>3.000000</td>\n",
       "      <td>26.900926</td>\n",
       "      <td>77.943705</td>\n",
       "      <td>100.000000</td>\n",
       "    </tr>\n",
       "    <tr>\n",
       "      <th>max</th>\n",
       "      <td>1.000000</td>\n",
       "      <td>1.000000</td>\n",
       "      <td>20.000000</td>\n",
       "      <td>59.912884</td>\n",
       "      <td>152.962676</td>\n",
       "      <td>30000.000000</td>\n",
       "    </tr>\n",
       "  </tbody>\n",
       "</table>\n",
       "</div>"
      ],
      "text/plain": [
       "       sedang_pembangunan  disetujui_pemerintah  total_ruangan     longitude  \\\n",
       "count        27476.000000          29451.000000   28071.000000  29451.000000   \n",
       "mean             0.179684              0.317918       2.392220     21.300255   \n",
       "std              0.383931              0.465675       0.882229      6.205306   \n",
       "min              0.000000              0.000000       1.000000    -37.713008   \n",
       "25%              0.000000              0.000000       2.000000     18.452663   \n",
       "50%              0.000000              0.000000       2.000000     20.750000   \n",
       "75%              0.000000              1.000000       3.000000     26.900926   \n",
       "max              1.000000              1.000000      20.000000     59.912884   \n",
       "\n",
       "           latitude         harga  \n",
       "count  26008.000000  29451.000000  \n",
       "mean      76.820157    142.898746  \n",
       "std       10.697823    656.880713  \n",
       "min     -121.761248      0.250000  \n",
       "25%       73.798100     38.000000  \n",
       "50%       77.326330     62.000000  \n",
       "75%       77.943705    100.000000  \n",
       "max      152.962676  30000.000000  "
      ]
     },
     "execution_count": 150,
     "metadata": {},
     "output_type": "execute_result"
    }
   ],
   "source": [
    "data_train.describe()"
   ]
  },
  {
   "cell_type": "code",
   "execution_count": 151,
   "metadata": {},
   "outputs": [
    {
     "data": {
      "text/html": [
       "<div>\n",
       "<style scoped>\n",
       "    .dataframe tbody tr th:only-of-type {\n",
       "        vertical-align: middle;\n",
       "    }\n",
       "\n",
       "    .dataframe tbody tr th {\n",
       "        vertical-align: top;\n",
       "    }\n",
       "\n",
       "    .dataframe thead th {\n",
       "        text-align: right;\n",
       "    }\n",
       "</style>\n",
       "<table border=\"1\" class=\"dataframe\">\n",
       "  <thead>\n",
       "    <tr style=\"text-align: right;\">\n",
       "      <th></th>\n",
       "      <th>sedang_pembangunan</th>\n",
       "      <th>disetujui_pemerintah</th>\n",
       "      <th>total_ruangan</th>\n",
       "      <th>kaki_persegi</th>\n",
       "      <th>siap_pindah</th>\n",
       "      <th>dijual_kembali</th>\n",
       "      <th>longitude</th>\n",
       "      <th>latitude</th>\n",
       "    </tr>\n",
       "  </thead>\n",
       "  <tbody>\n",
       "    <tr>\n",
       "      <th>count</th>\n",
       "      <td>68720.000000</td>\n",
       "      <td>68720.000000</td>\n",
       "      <td>68720.000000</td>\n",
       "      <td>6.872000e+04</td>\n",
       "      <td>68720.000000</td>\n",
       "      <td>68720.000000</td>\n",
       "      <td>68720.000000</td>\n",
       "      <td>68720.000000</td>\n",
       "    </tr>\n",
       "    <tr>\n",
       "      <th>mean</th>\n",
       "      <td>0.176557</td>\n",
       "      <td>0.316531</td>\n",
       "      <td>2.388198</td>\n",
       "      <td>2.762419e+03</td>\n",
       "      <td>0.823443</td>\n",
       "      <td>0.933498</td>\n",
       "      <td>21.288045</td>\n",
       "      <td>76.919388</td>\n",
       "    </tr>\n",
       "    <tr>\n",
       "      <th>std</th>\n",
       "      <td>0.381296</td>\n",
       "      <td>0.465126</td>\n",
       "      <td>0.864577</td>\n",
       "      <td>1.640991e+05</td>\n",
       "      <td>0.381296</td>\n",
       "      <td>0.249159</td>\n",
       "      <td>6.179034</td>\n",
       "      <td>10.100950</td>\n",
       "    </tr>\n",
       "    <tr>\n",
       "      <th>min</th>\n",
       "      <td>0.000000</td>\n",
       "      <td>0.000000</td>\n",
       "      <td>1.000000</td>\n",
       "      <td>1.000000e+00</td>\n",
       "      <td>0.000000</td>\n",
       "      <td>0.000000</td>\n",
       "      <td>-38.391261</td>\n",
       "      <td>-118.354100</td>\n",
       "    </tr>\n",
       "    <tr>\n",
       "      <th>25%</th>\n",
       "      <td>0.000000</td>\n",
       "      <td>0.000000</td>\n",
       "      <td>2.000000</td>\n",
       "      <td>9.000310e+02</td>\n",
       "      <td>1.000000</td>\n",
       "      <td>1.000000</td>\n",
       "      <td>18.452663</td>\n",
       "      <td>73.798100</td>\n",
       "    </tr>\n",
       "    <tr>\n",
       "      <th>50%</th>\n",
       "      <td>0.000000</td>\n",
       "      <td>0.000000</td>\n",
       "      <td>2.000000</td>\n",
       "      <td>1.174982e+03</td>\n",
       "      <td>1.000000</td>\n",
       "      <td>1.000000</td>\n",
       "      <td>20.933260</td>\n",
       "      <td>77.324966</td>\n",
       "    </tr>\n",
       "    <tr>\n",
       "      <th>75%</th>\n",
       "      <td>0.000000</td>\n",
       "      <td>1.000000</td>\n",
       "      <td>3.000000</td>\n",
       "      <td>1.550265e+03</td>\n",
       "      <td>1.000000</td>\n",
       "      <td>1.000000</td>\n",
       "      <td>26.888396</td>\n",
       "      <td>78.000723</td>\n",
       "    </tr>\n",
       "    <tr>\n",
       "      <th>max</th>\n",
       "      <td>1.000000</td>\n",
       "      <td>1.000000</td>\n",
       "      <td>31.000000</td>\n",
       "      <td>4.016393e+07</td>\n",
       "      <td>1.000000</td>\n",
       "      <td>1.000000</td>\n",
       "      <td>65.183330</td>\n",
       "      <td>175.278040</td>\n",
       "    </tr>\n",
       "  </tbody>\n",
       "</table>\n",
       "</div>"
      ],
      "text/plain": [
       "       sedang_pembangunan  disetujui_pemerintah  total_ruangan  kaki_persegi  \\\n",
       "count        68720.000000          68720.000000   68720.000000  6.872000e+04   \n",
       "mean             0.176557              0.316531       2.388198  2.762419e+03   \n",
       "std              0.381296              0.465126       0.864577  1.640991e+05   \n",
       "min              0.000000              0.000000       1.000000  1.000000e+00   \n",
       "25%              0.000000              0.000000       2.000000  9.000310e+02   \n",
       "50%              0.000000              0.000000       2.000000  1.174982e+03   \n",
       "75%              0.000000              1.000000       3.000000  1.550265e+03   \n",
       "max              1.000000              1.000000      31.000000  4.016393e+07   \n",
       "\n",
       "        siap_pindah  dijual_kembali     longitude      latitude  \n",
       "count  68720.000000    68720.000000  68720.000000  68720.000000  \n",
       "mean       0.823443        0.933498     21.288045     76.919388  \n",
       "std        0.381296        0.249159      6.179034     10.100950  \n",
       "min        0.000000        0.000000    -38.391261   -118.354100  \n",
       "25%        1.000000        1.000000     18.452663     73.798100  \n",
       "50%        1.000000        1.000000     20.933260     77.324966  \n",
       "75%        1.000000        1.000000     26.888396     78.000723  \n",
       "max        1.000000        1.000000     65.183330    175.278040  "
      ]
     },
     "execution_count": 151,
     "metadata": {},
     "output_type": "execute_result"
    }
   ],
   "source": [
    "data_tes.describe()"
   ]
  },
  {
   "cell_type": "code",
   "execution_count": 152,
   "metadata": {},
   "outputs": [],
   "source": [
    "# Terlihat bahwa longitude memiliki nilai -37 sampai 59 sedangkan latitude memiliki nilai -121 sampai 152\n",
    "# Berdasarkan data yang didapat dari google, India memiliki latitude 8°4'N and 37°6'N and longitudes 68°7'E and 97°25'E.\n",
    "# Oleh karena itu, latitude dan longitude perlu ditukar\n",
    "data_train['latitude'], data_train['longitude'] = data_train['longitude'], data_train['latitude']\n",
    "data_tes['latitude'], data_tes['longitude'] = data_tes['longitude'], data_tes['latitude']"
   ]
  },
  {
   "cell_type": "code",
   "execution_count": 153,
   "metadata": {},
   "outputs": [],
   "source": [
    "def cek_null(df):\n",
    "    col_na = df.isnull().sum().sort_values(ascending=True)\n",
    "    percent = col_na / len(df)\n",
    "    \n",
    "    missing_data = pd.concat([col_na, percent], axis=1, keys=['Total', 'Percent'])\n",
    "    \n",
    "    if (missing_data[missing_data['Total'] > 0].shape[0] == 0):\n",
    "        print(\"Tidak ditemukan missing value pada dataset\")\n",
    "        \n",
    "    else:\n",
    "        print(missing_data[missing_data['Total'] > 0])"
   ]
  },
  {
   "cell_type": "code",
   "execution_count": 154,
   "metadata": {},
   "outputs": [
    {
     "name": "stdout",
     "output_type": "stream",
     "text": [
      "                    Total   Percent\n",
      "total_ruangan        1380  0.046857\n",
      "kaki_persegi         1686  0.057248\n",
      "sedang_pembangunan   1975  0.067061\n",
      "alamat               2015  0.068419\n",
      "longitude            3443  0.116906\n"
     ]
    }
   ],
   "source": [
    "cek_null(data_train)"
   ]
  },
  {
   "cell_type": "code",
   "execution_count": 155,
   "metadata": {},
   "outputs": [
    {
     "data": {
      "text/plain": [
       "\"diposting_oleh: ['Owner' 'Dealer' 'Builder']\""
      ]
     },
     "metadata": {},
     "output_type": "display_data"
    },
    {
     "data": {
      "text/plain": [
       "'sedang_pembangunan: [ 0.  1. nan]'"
      ]
     },
     "metadata": {},
     "output_type": "display_data"
    },
    {
     "data": {
      "text/plain": [
       "'disetujui_pemerintah: [0 1]'"
      ]
     },
     "metadata": {},
     "output_type": "display_data"
    },
    {
     "data": {
      "text/plain": [
       "'total_ruangan: [ 2.  3.  1.  4.  5.  6. nan 12.  8. 20. 10.  7.  9. 13. 17. 15. 11.]'"
      ]
     },
     "metadata": {},
     "output_type": "display_data"
    },
    {
     "data": {
      "text/plain": [
       "\"tipe_a_atau_b: ['tipe_a' 'tipe_b']\""
      ]
     },
     "metadata": {},
     "output_type": "display_data"
    },
    {
     "data": {
      "text/plain": [
       "\"kaki_persegi: ['1300.236407' '1275.0' '933.1597222' ... '1022.641509' '927.0790093'\\n '896.7741935']\""
      ]
     },
     "metadata": {},
     "output_type": "display_data"
    },
    {
     "data": {
      "text/plain": [
       "\"siap_pindah: ['1' '0' 'testes' 'a' 'awa' '1-1-1-' 'benar' 'salah' 'asik']\""
      ]
     },
     "metadata": {},
     "output_type": "display_data"
    },
    {
     "data": {
      "text/plain": [
       "\"dijual_kembali: ['1' '0' 'Aku paling benar' 'SALAH' 'Semangat Dek']\""
      ]
     },
     "metadata": {},
     "output_type": "display_data"
    },
    {
     "data": {
      "text/plain": [
       "\"alamat: ['Ksfc Layout,Bangalore' 'Vishweshwara Nagar,Mysore' 'Jigani,Bangalore'\\n ... 'west mambalam,Chennai' 'Gandhi Nagar,Gulbarga'\\n 'E3-108, Lake View Recidency,,Vapi']\""
      ]
     },
     "metadata": {},
     "output_type": "display_data"
    },
    {
     "data": {
      "text/plain": [
       "'longitude: [ 77.59796   76.644605  77.632191 ...  73.3321    76.841908 -86.150721]'"
      ]
     },
     "metadata": {},
     "output_type": "display_data"
    },
    {
     "data": {
      "text/plain": [
       "'latitude: [12.96991  12.274538 12.778033 ... 18.9737   17.357159 39.945409]'"
      ]
     },
     "metadata": {},
     "output_type": "display_data"
    },
    {
     "data": {
      "text/plain": [
       "'harga: [  55.    51.    43.  ... 1170.  8660.    18.3]'"
      ]
     },
     "metadata": {},
     "output_type": "display_data"
    }
   ],
   "source": [
    "for i in data_train:\n",
    "    display(f\"{i}: {data_train[i].unique()}\")"
   ]
  },
  {
   "cell_type": "code",
   "execution_count": 156,
   "metadata": {},
   "outputs": [],
   "source": [
    "data_train['kaki_persegi'].mask(data_train['kaki_persegi'].isin(['1-1-1-', 'a', 'asik', 'awa', 'benar', 'salah', 'testes']), None, inplace=True)\n",
    "data_train['siap_pindah'].mask(data_train['siap_pindah'].isin(['testes', 'a', 'awa', '1-1-1-', 'benar', 'salah', 'asik']), None, inplace=True)\n",
    "data_train['dijual_kembali'].mask(data_train['dijual_kembali'].isin(['Aku paling benar', 'SALAH', 'Semangat Dek']), None, inplace=True)"
   ]
  },
  {
   "cell_type": "code",
   "execution_count": 157,
   "metadata": {},
   "outputs": [],
   "source": [
    "for i in ['total_ruangan', 'kaki_persegi', 'longitude']:\n",
    "    data_train[i].fillna(data_train[i].median(), inplace=True)"
   ]
  },
  {
   "cell_type": "code",
   "execution_count": 158,
   "metadata": {},
   "outputs": [],
   "source": [
    "for i in ['siap_pindah', 'dijual_kembali', 'sedang_pembangunan']:\n",
    "    data_train[i].fillna(data_train[i].mode()[0], inplace=True)"
   ]
  },
  {
   "cell_type": "code",
   "execution_count": 159,
   "metadata": {},
   "outputs": [],
   "source": [
    "import numpy as np"
   ]
  },
  {
   "cell_type": "code",
   "execution_count": 160,
   "metadata": {},
   "outputs": [],
   "source": [
    "for i in ['sedang_pembangunan', 'total_ruangan', 'siap_pindah', 'dijual_kembali']:\n",
    "    data_train[i] = data_train[i].astype(np.int64)\n",
    "\n",
    "data_train['kaki_persegi'] = data_train['kaki_persegi'].astype(np.float64)"
   ]
  },
  {
   "cell_type": "code",
   "execution_count": 161,
   "metadata": {},
   "outputs": [],
   "source": [
    "data_train.rename(columns={'tipe_a_atau_b': 'tipe_properti'}, inplace=True)"
   ]
  },
  {
   "cell_type": "code",
   "execution_count": 162,
   "metadata": {},
   "outputs": [],
   "source": [
    "data_train['tipe_properti'].mask(data_train['total_ruangan'] == 1, 'studio', inplace=True)\n",
    "data_train['tipe_properti'].mask(data_train['total_ruangan'] == 2, 'tipe_b', inplace=True)\n",
    "data_train['tipe_properti'].mask(data_train['total_ruangan'] == 3, 'tipe_a', inplace=True)\n",
    "data_train['tipe_properti'].mask(data_train['total_ruangan'] > 3, 'tipe_c', inplace=True)"
   ]
  },
  {
   "cell_type": "code",
   "execution_count": 163,
   "metadata": {},
   "outputs": [],
   "source": [
    "data_train.drop_duplicates(inplace=True)"
   ]
  },
  {
   "cell_type": "code",
   "execution_count": 164,
   "metadata": {},
   "outputs": [],
   "source": [
    "data_tes.rename(columns={'tipe_a_atau_b': 'tipe_properti'}, inplace=True)"
   ]
  },
  {
   "cell_type": "code",
   "execution_count": 165,
   "metadata": {},
   "outputs": [],
   "source": [
    "data_tes['tipe_properti'].mask(data_tes['total_ruangan'] == 1, 'studio', inplace=True)\n",
    "data_tes['tipe_properti'].mask(data_tes['total_ruangan'] == 2, 'tipe_b', inplace=True)\n",
    "data_tes['tipe_properti'].mask(data_tes['total_ruangan'] == 3, 'tipe_a', inplace=True)\n",
    "data_tes['tipe_properti'].mask(data_tes['total_ruangan'] > 3, 'tipe_c', inplace=True)"
   ]
  },
  {
   "cell_type": "code",
   "execution_count": 166,
   "metadata": {},
   "outputs": [],
   "source": [
    "from sklearn.preprocessing import LabelEncoder\n",
    "le = LabelEncoder()"
   ]
  },
  {
   "cell_type": "code",
   "execution_count": 167,
   "metadata": {},
   "outputs": [],
   "source": [
    "data_train['diposting_oleh'] = le.fit_transform(data_train['diposting_oleh'])\n",
    "data_tes['diposting_oleh'] = le.transform(data_tes['diposting_oleh'])"
   ]
  },
  {
   "cell_type": "code",
   "execution_count": 168,
   "metadata": {},
   "outputs": [
    {
     "data": {
      "text/plain": [
       "{'Builder': 0, 'Dealer': 1, 'Owner': 2}"
      ]
     },
     "execution_count": 168,
     "metadata": {},
     "output_type": "execute_result"
    }
   ],
   "source": [
    "keys = le.classes_\n",
    "values = le.transform(keys)\n",
    "diposting_oleh = dict(zip(keys, values))\n",
    "diposting_oleh"
   ]
  },
  {
   "cell_type": "code",
   "execution_count": 169,
   "metadata": {},
   "outputs": [],
   "source": [
    "data_train['tipe_properti'] = le.fit_transform(data_train['tipe_properti'])\n",
    "data_tes['tipe_properti'] = le.fit_transform(data_tes['tipe_properti'])"
   ]
  },
  {
   "cell_type": "code",
   "execution_count": 170,
   "metadata": {},
   "outputs": [
    {
     "data": {
      "text/plain": [
       "{'studio': 0, 'tipe_a': 1, 'tipe_b': 2, 'tipe_c': 3}"
      ]
     },
     "execution_count": 170,
     "metadata": {},
     "output_type": "execute_result"
    }
   ],
   "source": [
    "keys = le.classes_\n",
    "values = le.transform(keys)\n",
    "data_properti = dict(zip(keys, values))\n",
    "data_properti"
   ]
  },
  {
   "cell_type": "code",
   "execution_count": 171,
   "metadata": {},
   "outputs": [],
   "source": [
    "data_train['harga_per_kaki_persegi'] = data_train.apply(lambda row: row['harga'] / row['kaki_persegi'], axis=1)\n",
    "data_train['harga_per_ruang'] = data_train.apply(lambda row: row['harga'] / row['total_ruangan'], axis=1)\n",
    "data_train['ruang_per_kaki_persegi'] = data_train.apply(lambda row: row['total_ruangan'] / row['kaki_persegi'], axis=1)"
   ]
  },
  {
   "cell_type": "code",
   "execution_count": 172,
   "metadata": {},
   "outputs": [
    {
     "data": {
      "text/plain": [
       "(26251, 15)"
      ]
     },
     "execution_count": 172,
     "metadata": {},
     "output_type": "execute_result"
    }
   ],
   "source": [
    "Q1 = data_train['harga_per_kaki_persegi'].quantile(0.25)\n",
    "Q3 = data_train['harga_per_kaki_persegi'].quantile(0.75)\n",
    "IQR = Q3 - Q1\n",
    "\n",
    "data_train = data_train[~((data_train['harga_per_kaki_persegi'] < (Q1 - 1.5 * IQR)) | (data_train['harga_per_kaki_persegi'] > (Q3 + 1.5 * IQR)))]\n",
    "data_train.shape"
   ]
  },
  {
   "cell_type": "code",
   "execution_count": 173,
   "metadata": {},
   "outputs": [
    {
     "data": {
      "text/plain": [
       "(24934, 15)"
      ]
     },
     "execution_count": 173,
     "metadata": {},
     "output_type": "execute_result"
    }
   ],
   "source": [
    "Q1 = data_train['harga_per_ruang'].quantile(0.25)\n",
    "Q3 = data_train['harga_per_ruang'].quantile(0.75)\n",
    "IQR = Q3 - Q1\n",
    "\n",
    "data_train = data_train[~((data_train['harga_per_ruang'] < (Q1 - 1.5 * IQR)) | (data_train['harga_per_ruang'] > (Q3 + 1.5 * IQR)))]\n",
    "data_train.shape"
   ]
  },
  {
   "cell_type": "code",
   "execution_count": 174,
   "metadata": {},
   "outputs": [
    {
     "data": {
      "text/plain": [
       "(23803, 15)"
      ]
     },
     "execution_count": 174,
     "metadata": {},
     "output_type": "execute_result"
    }
   ],
   "source": [
    "Q1 = data_train['ruang_per_kaki_persegi'].quantile(0.25)\n",
    "Q3 = data_train['ruang_per_kaki_persegi'].quantile(0.75)\n",
    "IQR = Q3 - Q1\n",
    "\n",
    "data_train = data_train[~((data_train['ruang_per_kaki_persegi'] < (Q1 - 1.5 * IQR)) | (data_train['ruang_per_kaki_persegi'] > (Q3 + 1.5 * IQR)))]\n",
    "data_train.shape"
   ]
  },
  {
   "cell_type": "code",
   "execution_count": 175,
   "metadata": {},
   "outputs": [],
   "source": [
    "for i in ['kaki_persegi', 'total_ruangan']:\n",
    "    data_train[i] = np.log(data_train[i])\n",
    "    data_tes[i] = np.log(data_tes[i])"
   ]
  },
  {
   "cell_type": "code",
   "execution_count": 176,
   "metadata": {},
   "outputs": [],
   "source": [
    "X = data_train[['tipe_properti', 'total_ruangan', 'kaki_persegi', 'latitude', 'longitude']]\n",
    "y = data_train['harga']"
   ]
  },
  {
   "cell_type": "code",
   "execution_count": 177,
   "metadata": {},
   "outputs": [],
   "source": [
    "from sklearn.model_selection import train_test_split\n",
    "\n",
    "X_train, X_test, y_train, y_test = train_test_split(X, y, test_size=0.2, shuffle=True)"
   ]
  },
  {
   "cell_type": "code",
   "execution_count": 178,
   "metadata": {},
   "outputs": [],
   "source": [
    "from sklearn.preprocessing import MinMaxScaler\n",
    "\n",
    "sc = MinMaxScaler()\n",
    "\n",
    "X_train_scaled = sc.fit_transform(X_train)\n",
    "X_test_scaled = sc.transform(X_test)"
   ]
  },
  {
   "cell_type": "code",
   "execution_count": 179,
   "metadata": {},
   "outputs": [
    {
     "data": {
      "text/plain": [
       "0.4146276910622022"
      ]
     },
     "execution_count": 179,
     "metadata": {},
     "output_type": "execute_result"
    }
   ],
   "source": [
    "from sklearn.linear_model import LinearRegression\n",
    "\n",
    "lr = LinearRegression()\n",
    "lr.fit(X_train_scaled, y_train)\n",
    "lr.score(X_test_scaled, y_test)"
   ]
  },
  {
   "cell_type": "code",
   "execution_count": 180,
   "metadata": {},
   "outputs": [
    {
     "data": {
      "text/plain": [
       "0.4959282112591622"
      ]
     },
     "execution_count": 180,
     "metadata": {},
     "output_type": "execute_result"
    }
   ],
   "source": [
    "from sklearn.preprocessing import PolynomialFeatures\n",
    "\n",
    "pf = PolynomialFeatures()\n",
    "poly_features = pf.fit_transform(X_train_scaled)\n",
    "\n",
    "lr = LinearRegression()\n",
    "lr.fit(poly_features, y_train)\n",
    "\n",
    "poly_features = pf.transform(X_test_scaled)\n",
    "lr.score(poly_features, y_test)"
   ]
  },
  {
   "cell_type": "code",
   "execution_count": 181,
   "metadata": {},
   "outputs": [
    {
     "data": {
      "text/plain": [
       "0.5707142396429522"
      ]
     },
     "execution_count": 181,
     "metadata": {},
     "output_type": "execute_result"
    }
   ],
   "source": [
    "from sklearn.tree import DecisionTreeRegressor\n",
    "\n",
    "dt = DecisionTreeRegressor()\n",
    "dt.fit(X_train_scaled, y_train)\n",
    "dt.score(X_test_scaled, y_test)"
   ]
  },
  {
   "cell_type": "code",
   "execution_count": 182,
   "metadata": {},
   "outputs": [
    {
     "data": {
      "text/plain": [
       "0.6581317950511003"
      ]
     },
     "execution_count": 182,
     "metadata": {},
     "output_type": "execute_result"
    }
   ],
   "source": [
    "from sklearn.neighbors import KNeighborsRegressor\n",
    "\n",
    "kn = KNeighborsRegressor()\n",
    "kn.fit(X_train_scaled, y_train)\n",
    "kn.score(X_test_scaled, y_test)"
   ]
  },
  {
   "cell_type": "code",
   "execution_count": 183,
   "metadata": {},
   "outputs": [
    {
     "data": {
      "text/plain": [
       "0.7459889733181118"
      ]
     },
     "execution_count": 183,
     "metadata": {},
     "output_type": "execute_result"
    }
   ],
   "source": [
    "from sklearn.ensemble import RandomForestRegressor\n",
    "\n",
    "rf = RandomForestRegressor()\n",
    "rf.fit(X_train_scaled, y_train)\n",
    "rf.score(X_test_scaled, y_test)"
   ]
  }
 ],
 "metadata": {
  "kernelspec": {
   "display_name": "Python 3.10.2 64-bit",
   "language": "python",
   "name": "python3"
  },
  "language_info": {
   "codemirror_mode": {
    "name": "ipython",
    "version": 3
   },
   "file_extension": ".py",
   "mimetype": "text/x-python",
   "name": "python",
   "nbconvert_exporter": "python",
   "pygments_lexer": "ipython3",
   "version": "3.10.2"
  },
  "orig_nbformat": 4,
  "vscode": {
   "interpreter": {
    "hash": "c263b2455bde33485997a3dbeae7eefc58c037db36f19208f2d2feb2b480f596"
   }
  }
 },
 "nbformat": 4,
 "nbformat_minor": 2
}
